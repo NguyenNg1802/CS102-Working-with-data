{
 "cells": [
  {
   "cell_type": "markdown",
   "metadata": {
    "colab_type": "text",
    "id": "IksrUlISREEa"
   },
   "source": [
    "# Introduction\n",
    "This is one of my data analysis project that I decided to do it to practice my analysis skills.\n",
    "\n",
    "## Dataset\n",
    "Download link: [Data on Startup Companies, Investments, and Accquisitions](https://github.com/notpeter/crunchbase-data/archive/master.zip)\n",
    "\n",
    "Source: Crunchbase\n",
    "\n",
    "Short description: Crunchbase data contains crowndsourced information on a large number of startups including who invested in them and how much. This data which I'm going to use includes: \n",
    "\n",
    "* **Companies** across the world that have raised money\n",
    "\n",
    "* **Investors** that have invested in those startups.\n",
    "\n",
    "* **Acquisittions** contains all companies that were acquired\n",
    "\n",
    "\n"
   ]
  },
  {
   "cell_type": "markdown",
   "metadata": {
    "colab_type": "text",
    "id": "jd5wxtBqVh7A"
   },
   "source": [
    "## Import packages"
   ]
  },
  {
   "cell_type": "code",
   "execution_count": 1,
   "metadata": {
    "colab": {
     "base_uri": "https://localhost:8080/",
     "height": 37
    },
    "colab_type": "code",
    "executionInfo": {
     "elapsed": 1840,
     "status": "ok",
     "timestamp": 1597145051307,
     "user": {
      "displayName": "Nguyên Nguyễn",
      "photoUrl": "https://lh3.googleusercontent.com/a-/AOh14GiMHvxYop1LpkbTw_vqb4NBqwe2UWThSHl9_s48=s64",
      "userId": "12488776910510095947"
     },
     "user_tz": -420
    },
    "id": "0jcnOmWqQTGr",
    "outputId": "fb33f9b0-7ef5-4030-87c4-3594e9a61ba8"
   },
   "outputs": [],
   "source": [
    "import numpy as np\n",
    "import pandas as pd\n",
    "import matplotlib.pyplot as plt\n",
    "import matplotlib.patches as mpatches\n",
    "%matplotlib inline"
   ]
  },
  {
   "cell_type": "markdown",
   "metadata": {
    "colab_type": "text",
    "id": "r-1gy646W-Fr"
   },
   "source": [
    "## Load data"
   ]
  },
  {
   "cell_type": "code",
   "execution_count": 2,
   "metadata": {
    "colab": {},
    "colab_type": "code",
    "id": "9cIDxeQzQ0Ma"
   },
   "outputs": [],
   "source": [
    "acquisitions = pd.read_csv('acquisitions.csv')\n",
    "companies = pd.read_csv('companies.csv')\n",
    "investments = pd.read_csv('investments.csv')"
   ]
  },
  {
   "cell_type": "markdown",
   "metadata": {
    "colab_type": "text",
    "id": "ynkA2-2cX-ct"
   },
   "source": [
    "# Data Cleaning"
   ]
  },
  {
   "cell_type": "markdown",
   "metadata": {
    "colab_type": "text",
    "id": "vB3TJgV4hwnF"
   },
   "source": [
    "## Acquistions data"
   ]
  },
  {
   "cell_type": "code",
   "execution_count": 3,
   "metadata": {
    "colab": {
     "base_uri": "https://localhost:8080/",
     "height": 377
    },
    "colab_type": "code",
    "executionInfo": {
     "elapsed": 1065,
     "status": "ok",
     "timestamp": 1597155387799,
     "user": {
      "displayName": "Nguyên Nguyễn",
      "photoUrl": "https://lh3.googleusercontent.com/a-/AOh14GiMHvxYop1LpkbTw_vqb4NBqwe2UWThSHl9_s48=s64",
      "userId": "12488776910510095947"
     },
     "user_tz": -420
    },
    "id": "ysssgvbIXhqi",
    "outputId": "be147eff-a783-45e7-b7f5-39202e5d49a8"
   },
   "outputs": [
    {
     "data": {
      "text/html": [
       "<div>\n",
       "<style scoped>\n",
       "    .dataframe tbody tr th:only-of-type {\n",
       "        vertical-align: middle;\n",
       "    }\n",
       "\n",
       "    .dataframe tbody tr th {\n",
       "        vertical-align: top;\n",
       "    }\n",
       "\n",
       "    .dataframe thead th {\n",
       "        text-align: right;\n",
       "    }\n",
       "</style>\n",
       "<table border=\"1\" class=\"dataframe\">\n",
       "  <thead>\n",
       "    <tr style=\"text-align: right;\">\n",
       "      <th></th>\n",
       "      <th>company_permalink</th>\n",
       "      <th>company_name</th>\n",
       "      <th>company_category_list</th>\n",
       "      <th>company_country_code</th>\n",
       "      <th>company_state_code</th>\n",
       "      <th>company_region</th>\n",
       "      <th>company_city</th>\n",
       "      <th>acquirer_permalink</th>\n",
       "      <th>acquirer_name</th>\n",
       "      <th>acquirer_category_list</th>\n",
       "      <th>acquirer_country_code</th>\n",
       "      <th>acquirer_state_code</th>\n",
       "      <th>acquirer_region</th>\n",
       "      <th>acquirer_city</th>\n",
       "      <th>acquired_at</th>\n",
       "      <th>acquired_month</th>\n",
       "      <th>price_amount</th>\n",
       "      <th>price_currency_code</th>\n",
       "    </tr>\n",
       "  </thead>\n",
       "  <tbody>\n",
       "    <tr>\n",
       "      <th>0</th>\n",
       "      <td>/organization/003-ru</td>\n",
       "      <td>003.RU</td>\n",
       "      <td>Consumer Electronics|Electronics|Internet</td>\n",
       "      <td>RUS</td>\n",
       "      <td>48</td>\n",
       "      <td>Moscow</td>\n",
       "      <td>Moscow</td>\n",
       "      <td>/organization/media-saturn</td>\n",
       "      <td>Media Saturn</td>\n",
       "      <td>Enterprise Software|Media|Sales and Marketing</td>\n",
       "      <td>ESP</td>\n",
       "      <td>56</td>\n",
       "      <td>Barcelona</td>\n",
       "      <td>Barcelona</td>\n",
       "      <td>2012-07-23</td>\n",
       "      <td>2012-07</td>\n",
       "      <td>NaN</td>\n",
       "      <td>USD</td>\n",
       "    </tr>\n",
       "    <tr>\n",
       "      <th>1</th>\n",
       "      <td>/organization/0958572-b-c-ltd</td>\n",
       "      <td>0958572 B.C. Ltd.</td>\n",
       "      <td>NaN</td>\n",
       "      <td>NaN</td>\n",
       "      <td>NaN</td>\n",
       "      <td>NaN</td>\n",
       "      <td>NaN</td>\n",
       "      <td>/organization/atlas-intellectual-property-mana...</td>\n",
       "      <td>ATLAS Intellectual Property Management Co.</td>\n",
       "      <td>Finance|FinTech|Mobile|Telecommunications</td>\n",
       "      <td>USA</td>\n",
       "      <td>WA</td>\n",
       "      <td>Seattle</td>\n",
       "      <td>Seattle</td>\n",
       "      <td>2012-02-02</td>\n",
       "      <td>2012-02</td>\n",
       "      <td>9000000.0</td>\n",
       "      <td>USD</td>\n",
       "    </tr>\n",
       "    <tr>\n",
       "      <th>2</th>\n",
       "      <td>/organization/1-800-communications</td>\n",
       "      <td>1-800 Communications</td>\n",
       "      <td>NaN</td>\n",
       "      <td>USA</td>\n",
       "      <td>NY</td>\n",
       "      <td>Long Island</td>\n",
       "      <td>Hicksville</td>\n",
       "      <td>/organization/carsdirect-com</td>\n",
       "      <td>CarsDirect.com</td>\n",
       "      <td>E-Commerce</td>\n",
       "      <td>USA</td>\n",
       "      <td>CA</td>\n",
       "      <td>Los Angeles</td>\n",
       "      <td>El Segundo</td>\n",
       "      <td>2005-06-12</td>\n",
       "      <td>2005-06</td>\n",
       "      <td>NaN</td>\n",
       "      <td>USD</td>\n",
       "    </tr>\n",
       "    <tr>\n",
       "      <th>3</th>\n",
       "      <td>/organization/1-800-contacts</td>\n",
       "      <td>1-800 Contacts</td>\n",
       "      <td>Consumer Goods|Retail</td>\n",
       "      <td>USA</td>\n",
       "      <td>UT</td>\n",
       "      <td>Salt Lake City</td>\n",
       "      <td>Draper</td>\n",
       "      <td>/organization/thomas-h-lee-partners</td>\n",
       "      <td>Thomas H. Lee Partners</td>\n",
       "      <td>Business Development|Impact Investing|Investme...</td>\n",
       "      <td>USA</td>\n",
       "      <td>MA</td>\n",
       "      <td>Boston</td>\n",
       "      <td>Boston</td>\n",
       "      <td>2014-01-07</td>\n",
       "      <td>2014-01</td>\n",
       "      <td>NaN</td>\n",
       "      <td>USD</td>\n",
       "    </tr>\n",
       "    <tr>\n",
       "      <th>4</th>\n",
       "      <td>/organization/1-844-446-4460-pogo-customer-ser...</td>\n",
       "      <td>Games Support +1-800-311-5934 Pogo Games techn...</td>\n",
       "      <td>NaN</td>\n",
       "      <td>NaN</td>\n",
       "      <td>NaN</td>\n",
       "      <td>NaN</td>\n",
       "      <td>NaN</td>\n",
       "      <td>/organization/pogo-customer-service-number-1-8...</td>\n",
       "      <td>Games Support +1-800-311-5934 Pogo Games techn...</td>\n",
       "      <td>NaN</td>\n",
       "      <td>USA</td>\n",
       "      <td>NY</td>\n",
       "      <td>New York City</td>\n",
       "      <td>Mamaroneck</td>\n",
       "      <td>2001-02-02</td>\n",
       "      <td>2001-02</td>\n",
       "      <td>NaN</td>\n",
       "      <td>USD</td>\n",
       "    </tr>\n",
       "  </tbody>\n",
       "</table>\n",
       "</div>"
      ],
      "text/plain": [
       "                                   company_permalink  \\\n",
       "0                               /organization/003-ru   \n",
       "1                      /organization/0958572-b-c-ltd   \n",
       "2                 /organization/1-800-communications   \n",
       "3                       /organization/1-800-contacts   \n",
       "4  /organization/1-844-446-4460-pogo-customer-ser...   \n",
       "\n",
       "                                        company_name  \\\n",
       "0                                             003.RU   \n",
       "1                                  0958572 B.C. Ltd.   \n",
       "2                               1-800 Communications   \n",
       "3                                     1-800 Contacts   \n",
       "4  Games Support +1-800-311-5934 Pogo Games techn...   \n",
       "\n",
       "                       company_category_list company_country_code  \\\n",
       "0  Consumer Electronics|Electronics|Internet                  RUS   \n",
       "1                                        NaN                  NaN   \n",
       "2                                        NaN                  USA   \n",
       "3                      Consumer Goods|Retail                  USA   \n",
       "4                                        NaN                  NaN   \n",
       "\n",
       "  company_state_code  company_region company_city  \\\n",
       "0                 48          Moscow       Moscow   \n",
       "1                NaN             NaN          NaN   \n",
       "2                 NY     Long Island   Hicksville   \n",
       "3                 UT  Salt Lake City       Draper   \n",
       "4                NaN             NaN          NaN   \n",
       "\n",
       "                                  acquirer_permalink  \\\n",
       "0                         /organization/media-saturn   \n",
       "1  /organization/atlas-intellectual-property-mana...   \n",
       "2                       /organization/carsdirect-com   \n",
       "3                /organization/thomas-h-lee-partners   \n",
       "4  /organization/pogo-customer-service-number-1-8...   \n",
       "\n",
       "                                       acquirer_name  \\\n",
       "0                                       Media Saturn   \n",
       "1         ATLAS Intellectual Property Management Co.   \n",
       "2                                     CarsDirect.com   \n",
       "3                             Thomas H. Lee Partners   \n",
       "4  Games Support +1-800-311-5934 Pogo Games techn...   \n",
       "\n",
       "                              acquirer_category_list acquirer_country_code  \\\n",
       "0      Enterprise Software|Media|Sales and Marketing                   ESP   \n",
       "1          Finance|FinTech|Mobile|Telecommunications                   USA   \n",
       "2                                         E-Commerce                   USA   \n",
       "3  Business Development|Impact Investing|Investme...                   USA   \n",
       "4                                                NaN                   USA   \n",
       "\n",
       "  acquirer_state_code acquirer_region acquirer_city acquired_at  \\\n",
       "0                  56       Barcelona     Barcelona  2012-07-23   \n",
       "1                  WA         Seattle       Seattle  2012-02-02   \n",
       "2                  CA     Los Angeles    El Segundo  2005-06-12   \n",
       "3                  MA          Boston        Boston  2014-01-07   \n",
       "4                  NY   New York City    Mamaroneck  2001-02-02   \n",
       "\n",
       "  acquired_month  price_amount price_currency_code  \n",
       "0        2012-07           NaN                 USD  \n",
       "1        2012-02     9000000.0                 USD  \n",
       "2        2005-06           NaN                 USD  \n",
       "3        2014-01           NaN                 USD  \n",
       "4        2001-02           NaN                 USD  "
      ]
     },
     "execution_count": 3,
     "metadata": {},
     "output_type": "execute_result"
    }
   ],
   "source": [
    "# Use the head() function to get a quick look at the data \n",
    "acquisitions.head()"
   ]
  },
  {
   "cell_type": "code",
   "execution_count": 4,
   "metadata": {
    "colab": {
     "base_uri": "https://localhost:8080/",
     "height": 442
    },
    "colab_type": "code",
    "executionInfo": {
     "elapsed": 891,
     "status": "ok",
     "timestamp": 1597155390874,
     "user": {
      "displayName": "Nguyên Nguyễn",
      "photoUrl": "https://lh3.googleusercontent.com/a-/AOh14GiMHvxYop1LpkbTw_vqb4NBqwe2UWThSHl9_s48=s64",
      "userId": "12488776910510095947"
     },
     "user_tz": -420
    },
    "id": "9_iIImteg5p0",
    "outputId": "f6f50497-a57d-4ea2-a19a-ba30dd54f818"
   },
   "outputs": [
    {
     "name": "stdout",
     "output_type": "stream",
     "text": [
      "<class 'pandas.core.frame.DataFrame'>\n",
      "RangeIndex: 18968 entries, 0 to 18967\n",
      "Data columns (total 18 columns):\n",
      " #   Column                  Non-Null Count  Dtype  \n",
      "---  ------                  --------------  -----  \n",
      " 0   company_permalink       18968 non-null  object \n",
      " 1   company_name            18968 non-null  object \n",
      " 2   company_category_list   13985 non-null  object \n",
      " 3   company_country_code    14300 non-null  object \n",
      " 4   company_state_code      14020 non-null  object \n",
      " 5   company_region          14058 non-null  object \n",
      " 6   company_city            14058 non-null  object \n",
      " 7   acquirer_permalink      18968 non-null  object \n",
      " 8   acquirer_name           18968 non-null  object \n",
      " 9   acquirer_category_list  16580 non-null  object \n",
      " 10  acquirer_country_code   17798 non-null  object \n",
      " 11  acquirer_state_code     17533 non-null  object \n",
      " 12  acquirer_region         17609 non-null  object \n",
      " 13  acquirer_city           17609 non-null  object \n",
      " 14  acquired_at             18956 non-null  object \n",
      " 15  acquired_month          18954 non-null  object \n",
      " 16  price_amount            5012 non-null   float64\n",
      " 17  price_currency_code     18962 non-null  object \n",
      "dtypes: float64(1), object(17)\n",
      "memory usage: 2.6+ MB\n"
     ]
    }
   ],
   "source": [
    "# Brief infomation about data\n",
    "acquisitions.info()"
   ]
  },
  {
   "cell_type": "markdown",
   "metadata": {},
   "source": [
    "**Non-Null count from all columns are not equals, so the data contains missing values**"
   ]
  },
  {
   "cell_type": "code",
   "execution_count": 5,
   "metadata": {
    "colab": {
     "base_uri": "https://localhost:8080/",
     "height": 34
    },
    "colab_type": "code",
    "executionInfo": {
     "elapsed": 601,
     "status": "ok",
     "timestamp": 1597155393660,
     "user": {
      "displayName": "Nguyên Nguyễn",
      "photoUrl": "https://lh3.googleusercontent.com/a-/AOh14GiMHvxYop1LpkbTw_vqb4NBqwe2UWThSHl9_s48=s64",
      "userId": "12488776910510095947"
     },
     "user_tz": -420
    },
    "id": "SrjiXMNIXs89",
    "outputId": "94572ef1-8f75-4dc1-9727-629d1e20de76"
   },
   "outputs": [
    {
     "data": {
      "text/plain": [
       "46118"
      ]
     },
     "execution_count": 5,
     "metadata": {},
     "output_type": "execute_result"
    }
   ],
   "source": [
    "#Number of missing values in acquisitions data\n",
    "acquisitions.isnull().sum().sum()"
   ]
  },
  {
   "cell_type": "code",
   "execution_count": 6,
   "metadata": {
    "colab": {},
    "colab_type": "code",
    "id": "DnRB5A0ic3Bh"
   },
   "outputs": [],
   "source": [
    "# Drop of missing values\n",
    "acquisitions.dropna(inplace = True)"
   ]
  },
  {
   "cell_type": "code",
   "execution_count": 7,
   "metadata": {
    "colab": {},
    "colab_type": "code",
    "id": "PWdqIQhigriV"
   },
   "outputs": [],
   "source": [
    "# Reset index after drop\n",
    "acquisitions = acquisitions.reset_index(drop = True)"
   ]
  },
  {
   "cell_type": "code",
   "execution_count": 8,
   "metadata": {
    "colab": {
     "base_uri": "https://localhost:8080/",
     "height": 643
    },
    "colab_type": "code",
    "executionInfo": {
     "elapsed": 615,
     "status": "ok",
     "timestamp": 1597155397148,
     "user": {
      "displayName": "Nguyên Nguyễn",
      "photoUrl": "https://lh3.googleusercontent.com/a-/AOh14GiMHvxYop1LpkbTw_vqb4NBqwe2UWThSHl9_s48=s64",
      "userId": "12488776910510095947"
     },
     "user_tz": -420
    },
    "id": "38S7oJDV4IRc",
    "outputId": "27478511-881d-4e4e-a93f-51b1c1931938"
   },
   "outputs": [
    {
     "data": {
      "text/html": [
       "<div>\n",
       "<style scoped>\n",
       "    .dataframe tbody tr th:only-of-type {\n",
       "        vertical-align: middle;\n",
       "    }\n",
       "\n",
       "    .dataframe tbody tr th {\n",
       "        vertical-align: top;\n",
       "    }\n",
       "\n",
       "    .dataframe thead th {\n",
       "        text-align: right;\n",
       "    }\n",
       "</style>\n",
       "<table border=\"1\" class=\"dataframe\">\n",
       "  <thead>\n",
       "    <tr style=\"text-align: right;\">\n",
       "      <th></th>\n",
       "      <th>company_permalink</th>\n",
       "      <th>company_name</th>\n",
       "      <th>company_category_list</th>\n",
       "      <th>company_country_code</th>\n",
       "      <th>company_state_code</th>\n",
       "      <th>company_region</th>\n",
       "      <th>company_city</th>\n",
       "      <th>acquirer_permalink</th>\n",
       "      <th>acquirer_name</th>\n",
       "      <th>acquirer_category_list</th>\n",
       "      <th>acquirer_country_code</th>\n",
       "      <th>acquirer_state_code</th>\n",
       "      <th>acquirer_region</th>\n",
       "      <th>acquirer_city</th>\n",
       "      <th>acquired_at</th>\n",
       "      <th>acquired_month</th>\n",
       "      <th>price_amount</th>\n",
       "      <th>price_currency_code</th>\n",
       "    </tr>\n",
       "  </thead>\n",
       "  <tbody>\n",
       "    <tr>\n",
       "      <th>0</th>\n",
       "      <td>/organization/1010data</td>\n",
       "      <td>1010data</td>\n",
       "      <td>Software</td>\n",
       "      <td>USA</td>\n",
       "      <td>NY</td>\n",
       "      <td>New York City</td>\n",
       "      <td>New York</td>\n",
       "      <td>/organization/advance-publications</td>\n",
       "      <td>Advance Publications</td>\n",
       "      <td>Media</td>\n",
       "      <td>USA</td>\n",
       "      <td>NY</td>\n",
       "      <td>New York City</td>\n",
       "      <td>Staten Island</td>\n",
       "      <td>2015-08-03</td>\n",
       "      <td>2015-08</td>\n",
       "      <td>500000000.0</td>\n",
       "      <td>USD</td>\n",
       "    </tr>\n",
       "    <tr>\n",
       "      <th>1</th>\n",
       "      <td>/organization/170-systems</td>\n",
       "      <td>170 Systems</td>\n",
       "      <td>Software</td>\n",
       "      <td>USA</td>\n",
       "      <td>MA</td>\n",
       "      <td>Boston</td>\n",
       "      <td>Bedford</td>\n",
       "      <td>/organization/kofax</td>\n",
       "      <td>Kofax</td>\n",
       "      <td>Software</td>\n",
       "      <td>USA</td>\n",
       "      <td>CA</td>\n",
       "      <td>Anaheim</td>\n",
       "      <td>Irvine</td>\n",
       "      <td>2009-09-08</td>\n",
       "      <td>2009-09</td>\n",
       "      <td>43000000.0</td>\n",
       "      <td>USD</td>\n",
       "    </tr>\n",
       "    <tr>\n",
       "      <th>2</th>\n",
       "      <td>/organization/1st-united-bancorp</td>\n",
       "      <td>1st United Bancorp</td>\n",
       "      <td>Banking</td>\n",
       "      <td>USA</td>\n",
       "      <td>FL</td>\n",
       "      <td>Palm Beaches</td>\n",
       "      <td>Boca Raton</td>\n",
       "      <td>/organization/valley-national-bancorp</td>\n",
       "      <td>Valley National Bancorp</td>\n",
       "      <td>Banking</td>\n",
       "      <td>USA</td>\n",
       "      <td>NV</td>\n",
       "      <td>Las Vegas</td>\n",
       "      <td>Las Vegas</td>\n",
       "      <td>2014-05-08</td>\n",
       "      <td>2014-05</td>\n",
       "      <td>300000000.0</td>\n",
       "      <td>USD</td>\n",
       "    </tr>\n",
       "    <tr>\n",
       "      <th>3</th>\n",
       "      <td>/organization/21st-century-insurance</td>\n",
       "      <td>21st Century Insurance</td>\n",
       "      <td>Business Services|Finance|Insurance</td>\n",
       "      <td>USA</td>\n",
       "      <td>AL</td>\n",
       "      <td>AL - Other</td>\n",
       "      <td>De Armanville</td>\n",
       "      <td>/organization/american-international-group</td>\n",
       "      <td>American International Group</td>\n",
       "      <td>Finance|Insurance|Venture Capital</td>\n",
       "      <td>USA</td>\n",
       "      <td>NY</td>\n",
       "      <td>New York City</td>\n",
       "      <td>New York</td>\n",
       "      <td>2007-09-01</td>\n",
       "      <td>2007-09</td>\n",
       "      <td>749000000.0</td>\n",
       "      <td>USD</td>\n",
       "    </tr>\n",
       "    <tr>\n",
       "      <th>4</th>\n",
       "      <td>/organization/24-7-real-media</td>\n",
       "      <td>24/7 Real Media</td>\n",
       "      <td>Advertising|Media</td>\n",
       "      <td>USA</td>\n",
       "      <td>NY</td>\n",
       "      <td>New York City</td>\n",
       "      <td>New York</td>\n",
       "      <td>/organization/wpp</td>\n",
       "      <td>WPP</td>\n",
       "      <td>Public Relations</td>\n",
       "      <td>GBR</td>\n",
       "      <td>H9</td>\n",
       "      <td>London</td>\n",
       "      <td>London</td>\n",
       "      <td>2007-05-17</td>\n",
       "      <td>2007-05</td>\n",
       "      <td>649000000.0</td>\n",
       "      <td>USD</td>\n",
       "    </tr>\n",
       "  </tbody>\n",
       "</table>\n",
       "</div>"
      ],
      "text/plain": [
       "                      company_permalink            company_name  \\\n",
       "0                /organization/1010data                1010data   \n",
       "1             /organization/170-systems             170 Systems   \n",
       "2      /organization/1st-united-bancorp      1st United Bancorp   \n",
       "3  /organization/21st-century-insurance  21st Century Insurance   \n",
       "4         /organization/24-7-real-media         24/7 Real Media   \n",
       "\n",
       "                 company_category_list company_country_code  \\\n",
       "0                             Software                  USA   \n",
       "1                             Software                  USA   \n",
       "2                              Banking                  USA   \n",
       "3  Business Services|Finance|Insurance                  USA   \n",
       "4                    Advertising|Media                  USA   \n",
       "\n",
       "  company_state_code company_region   company_city  \\\n",
       "0                 NY  New York City       New York   \n",
       "1                 MA         Boston        Bedford   \n",
       "2                 FL   Palm Beaches     Boca Raton   \n",
       "3                 AL     AL - Other  De Armanville   \n",
       "4                 NY  New York City       New York   \n",
       "\n",
       "                           acquirer_permalink                 acquirer_name  \\\n",
       "0          /organization/advance-publications          Advance Publications   \n",
       "1                         /organization/kofax                         Kofax   \n",
       "2       /organization/valley-national-bancorp       Valley National Bancorp   \n",
       "3  /organization/american-international-group  American International Group   \n",
       "4                           /organization/wpp                           WPP   \n",
       "\n",
       "              acquirer_category_list acquirer_country_code  \\\n",
       "0                              Media                   USA   \n",
       "1                           Software                   USA   \n",
       "2                            Banking                   USA   \n",
       "3  Finance|Insurance|Venture Capital                   USA   \n",
       "4                   Public Relations                   GBR   \n",
       "\n",
       "  acquirer_state_code acquirer_region  acquirer_city acquired_at  \\\n",
       "0                  NY   New York City  Staten Island  2015-08-03   \n",
       "1                  CA         Anaheim         Irvine  2009-09-08   \n",
       "2                  NV       Las Vegas      Las Vegas  2014-05-08   \n",
       "3                  NY   New York City       New York  2007-09-01   \n",
       "4                  H9          London         London  2007-05-17   \n",
       "\n",
       "  acquired_month  price_amount price_currency_code  \n",
       "0        2015-08   500000000.0                 USD  \n",
       "1        2009-09    43000000.0                 USD  \n",
       "2        2014-05   300000000.0                 USD  \n",
       "3        2007-09   749000000.0                 USD  \n",
       "4        2007-05   649000000.0                 USD  "
      ]
     },
     "execution_count": 8,
     "metadata": {},
     "output_type": "execute_result"
    }
   ],
   "source": [
    "# Use head() function to quick look again\n",
    "acquisitions.head()"
   ]
  },
  {
   "cell_type": "markdown",
   "metadata": {
    "colab_type": "text",
    "id": "GUxMP-Gkh-gN"
   },
   "source": [
    "## Companies data"
   ]
  },
  {
   "cell_type": "code",
   "execution_count": 9,
   "metadata": {
    "colab": {
     "base_uri": "https://localhost:8080/",
     "height": 360
    },
    "colab_type": "code",
    "executionInfo": {
     "elapsed": 879,
     "status": "ok",
     "timestamp": 1597155410578,
     "user": {
      "displayName": "Nguyên Nguyễn",
      "photoUrl": "https://lh3.googleusercontent.com/a-/AOh14GiMHvxYop1LpkbTw_vqb4NBqwe2UWThSHl9_s48=s64",
      "userId": "12488776910510095947"
     },
     "user_tz": -420
    },
    "id": "hTkWBIkohkg2",
    "outputId": "83994ae5-7d99-4ecb-cdb8-ea95c6ef5012"
   },
   "outputs": [
    {
     "data": {
      "text/html": [
       "<div>\n",
       "<style scoped>\n",
       "    .dataframe tbody tr th:only-of-type {\n",
       "        vertical-align: middle;\n",
       "    }\n",
       "\n",
       "    .dataframe tbody tr th {\n",
       "        vertical-align: top;\n",
       "    }\n",
       "\n",
       "    .dataframe thead th {\n",
       "        text-align: right;\n",
       "    }\n",
       "</style>\n",
       "<table border=\"1\" class=\"dataframe\">\n",
       "  <thead>\n",
       "    <tr style=\"text-align: right;\">\n",
       "      <th></th>\n",
       "      <th>permalink</th>\n",
       "      <th>name</th>\n",
       "      <th>homepage_url</th>\n",
       "      <th>category_list</th>\n",
       "      <th>funding_total_usd</th>\n",
       "      <th>status</th>\n",
       "      <th>country_code</th>\n",
       "      <th>state_code</th>\n",
       "      <th>region</th>\n",
       "      <th>city</th>\n",
       "      <th>funding_rounds</th>\n",
       "      <th>founded_at</th>\n",
       "      <th>first_funding_at</th>\n",
       "      <th>last_funding_at</th>\n",
       "    </tr>\n",
       "  </thead>\n",
       "  <tbody>\n",
       "    <tr>\n",
       "      <th>0</th>\n",
       "      <td>/organization/-fame</td>\n",
       "      <td>#fame</td>\n",
       "      <td>http://livfame.com</td>\n",
       "      <td>Media</td>\n",
       "      <td>10000000</td>\n",
       "      <td>operating</td>\n",
       "      <td>IND</td>\n",
       "      <td>16</td>\n",
       "      <td>Mumbai</td>\n",
       "      <td>Mumbai</td>\n",
       "      <td>1</td>\n",
       "      <td>NaN</td>\n",
       "      <td>2015-01-05</td>\n",
       "      <td>2015-01-05</td>\n",
       "    </tr>\n",
       "    <tr>\n",
       "      <th>1</th>\n",
       "      <td>/organization/-qounter</td>\n",
       "      <td>:Qounter</td>\n",
       "      <td>http://www.qounter.com</td>\n",
       "      <td>Application Platforms|Real Time|Social Network...</td>\n",
       "      <td>700000</td>\n",
       "      <td>operating</td>\n",
       "      <td>USA</td>\n",
       "      <td>DE</td>\n",
       "      <td>DE - Other</td>\n",
       "      <td>Delaware City</td>\n",
       "      <td>2</td>\n",
       "      <td>2014-09-04</td>\n",
       "      <td>2014-03-01</td>\n",
       "      <td>2014-10-14</td>\n",
       "    </tr>\n",
       "    <tr>\n",
       "      <th>2</th>\n",
       "      <td>/organization/-the-one-of-them-inc-</td>\n",
       "      <td>(THE) ONE of THEM,Inc.</td>\n",
       "      <td>http://oneofthem.jp</td>\n",
       "      <td>Apps|Games|Mobile</td>\n",
       "      <td>3406878</td>\n",
       "      <td>operating</td>\n",
       "      <td>NaN</td>\n",
       "      <td>NaN</td>\n",
       "      <td>NaN</td>\n",
       "      <td>NaN</td>\n",
       "      <td>1</td>\n",
       "      <td>NaN</td>\n",
       "      <td>2014-01-30</td>\n",
       "      <td>2014-01-30</td>\n",
       "    </tr>\n",
       "    <tr>\n",
       "      <th>3</th>\n",
       "      <td>/organization/0-6-com</td>\n",
       "      <td>0-6.com</td>\n",
       "      <td>http://www.0-6.com</td>\n",
       "      <td>Curated Web</td>\n",
       "      <td>2000000</td>\n",
       "      <td>operating</td>\n",
       "      <td>CHN</td>\n",
       "      <td>22</td>\n",
       "      <td>Beijing</td>\n",
       "      <td>Beijing</td>\n",
       "      <td>1</td>\n",
       "      <td>2007-01-01</td>\n",
       "      <td>2008-03-19</td>\n",
       "      <td>2008-03-19</td>\n",
       "    </tr>\n",
       "    <tr>\n",
       "      <th>4</th>\n",
       "      <td>/organization/004-technologies</td>\n",
       "      <td>004 Technologies</td>\n",
       "      <td>http://004gmbh.de/en/004-interact</td>\n",
       "      <td>Software</td>\n",
       "      <td>-</td>\n",
       "      <td>operating</td>\n",
       "      <td>USA</td>\n",
       "      <td>IL</td>\n",
       "      <td>Springfield, Illinois</td>\n",
       "      <td>Champaign</td>\n",
       "      <td>1</td>\n",
       "      <td>2010-01-01</td>\n",
       "      <td>2014-07-24</td>\n",
       "      <td>2014-07-24</td>\n",
       "    </tr>\n",
       "  </tbody>\n",
       "</table>\n",
       "</div>"
      ],
      "text/plain": [
       "                             permalink                    name  \\\n",
       "0                  /organization/-fame                   #fame   \n",
       "1               /organization/-qounter                :Qounter   \n",
       "2  /organization/-the-one-of-them-inc-  (THE) ONE of THEM,Inc.   \n",
       "3                /organization/0-6-com                 0-6.com   \n",
       "4       /organization/004-technologies        004 Technologies   \n",
       "\n",
       "                        homepage_url  \\\n",
       "0                 http://livfame.com   \n",
       "1             http://www.qounter.com   \n",
       "2                http://oneofthem.jp   \n",
       "3                 http://www.0-6.com   \n",
       "4  http://004gmbh.de/en/004-interact   \n",
       "\n",
       "                                       category_list funding_total_usd  \\\n",
       "0                                              Media          10000000   \n",
       "1  Application Platforms|Real Time|Social Network...            700000   \n",
       "2                                  Apps|Games|Mobile           3406878   \n",
       "3                                        Curated Web           2000000   \n",
       "4                                           Software                 -   \n",
       "\n",
       "      status country_code state_code                 region           city  \\\n",
       "0  operating          IND         16                 Mumbai         Mumbai   \n",
       "1  operating          USA         DE             DE - Other  Delaware City   \n",
       "2  operating          NaN        NaN                    NaN            NaN   \n",
       "3  operating          CHN         22                Beijing        Beijing   \n",
       "4  operating          USA         IL  Springfield, Illinois      Champaign   \n",
       "\n",
       "   funding_rounds  founded_at first_funding_at last_funding_at  \n",
       "0               1         NaN       2015-01-05      2015-01-05  \n",
       "1               2  2014-09-04       2014-03-01      2014-10-14  \n",
       "2               1         NaN       2014-01-30      2014-01-30  \n",
       "3               1  2007-01-01       2008-03-19      2008-03-19  \n",
       "4               1  2010-01-01       2014-07-24      2014-07-24  "
      ]
     },
     "execution_count": 9,
     "metadata": {},
     "output_type": "execute_result"
    }
   ],
   "source": [
    "# Use the head() function to get a quick look at the data \n",
    "companies.head()"
   ]
  },
  {
   "cell_type": "code",
   "execution_count": 10,
   "metadata": {
    "colab": {
     "base_uri": "https://localhost:8080/",
     "height": 374
    },
    "colab_type": "code",
    "executionInfo": {
     "elapsed": 811,
     "status": "ok",
     "timestamp": 1597155412068,
     "user": {
      "displayName": "Nguyên Nguyễn",
      "photoUrl": "https://lh3.googleusercontent.com/a-/AOh14GiMHvxYop1LpkbTw_vqb4NBqwe2UWThSHl9_s48=s64",
      "userId": "12488776910510095947"
     },
     "user_tz": -420
    },
    "id": "Z_Dxr19JiJIH",
    "outputId": "5a5e76d3-512a-4315-a05d-f275943ba916"
   },
   "outputs": [
    {
     "name": "stdout",
     "output_type": "stream",
     "text": [
      "<class 'pandas.core.frame.DataFrame'>\n",
      "RangeIndex: 66368 entries, 0 to 66367\n",
      "Data columns (total 14 columns):\n",
      " #   Column             Non-Null Count  Dtype \n",
      "---  ------             --------------  ----- \n",
      " 0   permalink          66368 non-null  object\n",
      " 1   name               66367 non-null  object\n",
      " 2   homepage_url       61310 non-null  object\n",
      " 3   category_list      63220 non-null  object\n",
      " 4   funding_total_usd  66368 non-null  object\n",
      " 5   status             66368 non-null  object\n",
      " 6   country_code       59410 non-null  object\n",
      " 7   state_code         57821 non-null  object\n",
      " 8   region             58338 non-null  object\n",
      " 9   city               58340 non-null  object\n",
      " 10  funding_rounds     66368 non-null  int64 \n",
      " 11  founded_at         51147 non-null  object\n",
      " 12  first_funding_at   66344 non-null  object\n",
      " 13  last_funding_at    66368 non-null  object\n",
      "dtypes: int64(1), object(13)\n",
      "memory usage: 7.1+ MB\n"
     ]
    }
   ],
   "source": [
    "# Brief infomation about data\n",
    "companies.info()"
   ]
  },
  {
   "cell_type": "markdown",
   "metadata": {
    "colab_type": "text",
    "id": "JSLckwyXidf7"
   },
   "source": [
    "**Notice that funding_total_usd column must be integer or float instead of object type.**"
   ]
  },
  {
   "cell_type": "code",
   "execution_count": 11,
   "metadata": {
    "colab": {
     "base_uri": "https://localhost:8080/",
     "height": 221
    },
    "colab_type": "code",
    "executionInfo": {
     "elapsed": 891,
     "status": "ok",
     "timestamp": 1597155448728,
     "user": {
      "displayName": "Nguyên Nguyễn",
      "photoUrl": "https://lh3.googleusercontent.com/a-/AOh14GiMHvxYop1LpkbTw_vqb4NBqwe2UWThSHl9_s48=s64",
      "userId": "12488776910510095947"
     },
     "user_tz": -420
    },
    "id": "eQSObDuKlX8x",
    "outputId": "7b0f3524-7d31-4d6d-d0b9-2e0f2a61d57d"
   },
   "outputs": [
    {
     "data": {
      "text/plain": [
       "0         True\n",
       "1         True\n",
       "2         True\n",
       "3         True\n",
       "4        False\n",
       "         ...  \n",
       "66363     True\n",
       "66364     True\n",
       "66365    False\n",
       "66366     True\n",
       "66367     True\n",
       "Name: funding_total_usd, Length: 66368, dtype: bool"
      ]
     },
     "execution_count": 11,
     "metadata": {},
     "output_type": "execute_result"
    }
   ],
   "source": [
    "# Check non-numeric values in funding_total_usd column\n",
    "companies['funding_total_usd'].str.isnumeric()"
   ]
  },
  {
   "cell_type": "markdown",
   "metadata": {
    "colab_type": "text",
    "id": "Re-ScS-T4iUZ"
   },
   "source": [
    "**There are some False values, so it must have some characters in it**."
   ]
  },
  {
   "cell_type": "code",
   "execution_count": 12,
   "metadata": {
    "colab": {},
    "colab_type": "code",
    "id": "47_nP5zZiSU8"
   },
   "outputs": [],
   "source": [
    "# Filter all non-numeric values.\n",
    "companies = companies[companies['funding_total_usd'].str.isnumeric()].reset_index(drop = True)"
   ]
  },
  {
   "cell_type": "markdown",
   "metadata": {
    "colab_type": "text",
    "id": "dRGJusNE5bG_"
   },
   "source": [
    "**However, there are still having missing values. It needed to be eliminated as well.**"
   ]
  },
  {
   "cell_type": "code",
   "execution_count": 13,
   "metadata": {
    "colab": {},
    "colab_type": "code",
    "id": "-CL70bhPkXc5"
   },
   "outputs": [],
   "source": [
    "# Drop missing values and set inplace = True\n",
    "companies.dropna(inplace = True)"
   ]
  },
  {
   "cell_type": "code",
   "execution_count": 14,
   "metadata": {
    "colab": {},
    "colab_type": "code",
    "id": "opqDLM8B7W96"
   },
   "outputs": [],
   "source": [
    "# After dropna, the indexes are not in order so it needed to be reset.\n",
    "companies = companies.reset_index(drop = True)"
   ]
  },
  {
   "cell_type": "markdown",
   "metadata": {
    "colab_type": "text",
    "id": "XRs5yLph8HFS"
   },
   "source": [
    "**Convert \"funding_total_usd\" back to integer.**"
   ]
  },
  {
   "cell_type": "code",
   "execution_count": 15,
   "metadata": {
    "colab": {},
    "colab_type": "code",
    "id": "gNcsnamd771s"
   },
   "outputs": [],
   "source": [
    "companies['funding_total_usd'] = companies['funding_total_usd'].astype(int)"
   ]
  },
  {
   "cell_type": "code",
   "execution_count": 16,
   "metadata": {
    "colab": {
     "base_uri": "https://localhost:8080/",
     "height": 374
    },
    "colab_type": "code",
    "executionInfo": {
     "elapsed": 854,
     "status": "ok",
     "timestamp": 1597156514103,
     "user": {
      "displayName": "Nguyên Nguyễn",
      "photoUrl": "https://lh3.googleusercontent.com/a-/AOh14GiMHvxYop1LpkbTw_vqb4NBqwe2UWThSHl9_s48=s64",
      "userId": "12488776910510095947"
     },
     "user_tz": -420
    },
    "id": "jr7mI7He79Ym",
    "outputId": "97cc6c9c-5a28-480e-8073-4ae0d4220286"
   },
   "outputs": [
    {
     "name": "stdout",
     "output_type": "stream",
     "text": [
      "<class 'pandas.core.frame.DataFrame'>\n",
      "RangeIndex: 36045 entries, 0 to 36044\n",
      "Data columns (total 14 columns):\n",
      " #   Column             Non-Null Count  Dtype \n",
      "---  ------             --------------  ----- \n",
      " 0   permalink          36045 non-null  object\n",
      " 1   name               36045 non-null  object\n",
      " 2   homepage_url       36045 non-null  object\n",
      " 3   category_list      36045 non-null  object\n",
      " 4   funding_total_usd  36045 non-null  int64 \n",
      " 5   status             36045 non-null  object\n",
      " 6   country_code       36045 non-null  object\n",
      " 7   state_code         36045 non-null  object\n",
      " 8   region             36045 non-null  object\n",
      " 9   city               36045 non-null  object\n",
      " 10  funding_rounds     36045 non-null  int64 \n",
      " 11  founded_at         36045 non-null  object\n",
      " 12  first_funding_at   36045 non-null  object\n",
      " 13  last_funding_at    36045 non-null  object\n",
      "dtypes: int64(2), object(12)\n",
      "memory usage: 3.9+ MB\n"
     ]
    }
   ],
   "source": [
    "# Use info() to check again\n",
    "companies.info()"
   ]
  },
  {
   "cell_type": "markdown",
   "metadata": {
    "colab_type": "text",
    "id": "ws5_YJqP891C"
   },
   "source": [
    "## Investments data"
   ]
  },
  {
   "cell_type": "code",
   "execution_count": 17,
   "metadata": {
    "colab": {
     "base_uri": "https://localhost:8080/",
     "height": 309
    },
    "colab_type": "code",
    "executionInfo": {
     "elapsed": 1041,
     "status": "ok",
     "timestamp": 1597156835459,
     "user": {
      "displayName": "Nguyên Nguyễn",
      "photoUrl": "https://lh3.googleusercontent.com/a-/AOh14GiMHvxYop1LpkbTw_vqb4NBqwe2UWThSHl9_s48=s64",
      "userId": "12488776910510095947"
     },
     "user_tz": -420
    },
    "id": "bN0nuunK8lU8",
    "outputId": "c78bf043-f3b9-46c9-bd73-d12ad873e2d8"
   },
   "outputs": [
    {
     "data": {
      "text/html": [
       "<div>\n",
       "<style scoped>\n",
       "    .dataframe tbody tr th:only-of-type {\n",
       "        vertical-align: middle;\n",
       "    }\n",
       "\n",
       "    .dataframe tbody tr th {\n",
       "        vertical-align: top;\n",
       "    }\n",
       "\n",
       "    .dataframe thead th {\n",
       "        text-align: right;\n",
       "    }\n",
       "</style>\n",
       "<table border=\"1\" class=\"dataframe\">\n",
       "  <thead>\n",
       "    <tr style=\"text-align: right;\">\n",
       "      <th></th>\n",
       "      <th>company_permalink</th>\n",
       "      <th>company_name</th>\n",
       "      <th>company_category_list</th>\n",
       "      <th>company_country_code</th>\n",
       "      <th>company_state_code</th>\n",
       "      <th>company_region</th>\n",
       "      <th>company_city</th>\n",
       "      <th>investor_permalink</th>\n",
       "      <th>investor_name</th>\n",
       "      <th>investor_country_code</th>\n",
       "      <th>investor_state_code</th>\n",
       "      <th>investor_region</th>\n",
       "      <th>investor_city</th>\n",
       "      <th>funding_round_permalink</th>\n",
       "      <th>funding_round_type</th>\n",
       "      <th>funding_round_code</th>\n",
       "      <th>funded_at</th>\n",
       "      <th>raised_amount_usd</th>\n",
       "    </tr>\n",
       "  </thead>\n",
       "  <tbody>\n",
       "    <tr>\n",
       "      <th>0</th>\n",
       "      <td>/organization/0-6-com</td>\n",
       "      <td>0-6.com</td>\n",
       "      <td>Curated Web</td>\n",
       "      <td>CHN</td>\n",
       "      <td>22</td>\n",
       "      <td>Beijing</td>\n",
       "      <td>Beijing</td>\n",
       "      <td>/organization/dt-capital-partners</td>\n",
       "      <td>DT Capital Partners</td>\n",
       "      <td>CHN</td>\n",
       "      <td>23</td>\n",
       "      <td>Shanghai</td>\n",
       "      <td>Shanghai</td>\n",
       "      <td>/funding-round/5727accaeaa57461bd22a9bdd945382d</td>\n",
       "      <td>venture</td>\n",
       "      <td>A</td>\n",
       "      <td>2008-03-19</td>\n",
       "      <td>2000000.0</td>\n",
       "    </tr>\n",
       "    <tr>\n",
       "      <th>1</th>\n",
       "      <td>/organization/004-technologies</td>\n",
       "      <td>004 Technologies</td>\n",
       "      <td>Software</td>\n",
       "      <td>USA</td>\n",
       "      <td>IL</td>\n",
       "      <td>Springfield, Illinois</td>\n",
       "      <td>Champaign</td>\n",
       "      <td>/organization/venturecapital-de</td>\n",
       "      <td>VCDE Venture Partners</td>\n",
       "      <td>DEU</td>\n",
       "      <td>5</td>\n",
       "      <td>Frankfurt</td>\n",
       "      <td>Frankfurt</td>\n",
       "      <td>/funding-round/1278dd4e6a37fa4b7d7e06c21b3c1830</td>\n",
       "      <td>venture</td>\n",
       "      <td>NaN</td>\n",
       "      <td>2014-07-24</td>\n",
       "      <td>NaN</td>\n",
       "    </tr>\n",
       "    <tr>\n",
       "      <th>2</th>\n",
       "      <td>/organization/01games-technology</td>\n",
       "      <td>01Games Technology</td>\n",
       "      <td>Games</td>\n",
       "      <td>HKG</td>\n",
       "      <td>NaN</td>\n",
       "      <td>Hong Kong</td>\n",
       "      <td>Hong Kong</td>\n",
       "      <td>/organization/cyberport-hong-kong</td>\n",
       "      <td>Cyberport Hong Kong</td>\n",
       "      <td>HKG</td>\n",
       "      <td>NaN</td>\n",
       "      <td>Hong Kong</td>\n",
       "      <td>Hong Kong</td>\n",
       "      <td>/funding-round/7d53696f2b4f607a2f2a8cbb83d01839</td>\n",
       "      <td>undisclosed</td>\n",
       "      <td>NaN</td>\n",
       "      <td>2014-07-01</td>\n",
       "      <td>41250.0</td>\n",
       "    </tr>\n",
       "    <tr>\n",
       "      <th>3</th>\n",
       "      <td>/organization/0xdata</td>\n",
       "      <td>H2O.ai</td>\n",
       "      <td>Analytics</td>\n",
       "      <td>USA</td>\n",
       "      <td>CA</td>\n",
       "      <td>SF Bay Area</td>\n",
       "      <td>Mountain View</td>\n",
       "      <td>/organization/capital-one</td>\n",
       "      <td>Capital One</td>\n",
       "      <td>USA</td>\n",
       "      <td>VA</td>\n",
       "      <td>Washington, D.C.</td>\n",
       "      <td>Mclean</td>\n",
       "      <td>/funding-round/3bb2ee4a2d89251a10aaa735b1180e44</td>\n",
       "      <td>venture</td>\n",
       "      <td>B</td>\n",
       "      <td>2015-11-09</td>\n",
       "      <td>20000000.0</td>\n",
       "    </tr>\n",
       "    <tr>\n",
       "      <th>4</th>\n",
       "      <td>/organization/0xdata</td>\n",
       "      <td>H2O.ai</td>\n",
       "      <td>Analytics</td>\n",
       "      <td>USA</td>\n",
       "      <td>CA</td>\n",
       "      <td>SF Bay Area</td>\n",
       "      <td>Mountain View</td>\n",
       "      <td>/organization/nexus-venture-partners</td>\n",
       "      <td>Nexus Venture Partners</td>\n",
       "      <td>USA</td>\n",
       "      <td>CA</td>\n",
       "      <td>SF Bay Area</td>\n",
       "      <td>Menlo Park</td>\n",
       "      <td>/funding-round/383a9bd2c04f7038bb543ccef5ba3eae</td>\n",
       "      <td>seed</td>\n",
       "      <td>NaN</td>\n",
       "      <td>2013-05-22</td>\n",
       "      <td>3000000.0</td>\n",
       "    </tr>\n",
       "  </tbody>\n",
       "</table>\n",
       "</div>"
      ],
      "text/plain": [
       "                  company_permalink        company_name company_category_list  \\\n",
       "0             /organization/0-6-com             0-6.com           Curated Web   \n",
       "1    /organization/004-technologies    004 Technologies              Software   \n",
       "2  /organization/01games-technology  01Games Technology                 Games   \n",
       "3              /organization/0xdata              H2O.ai             Analytics   \n",
       "4              /organization/0xdata              H2O.ai             Analytics   \n",
       "\n",
       "  company_country_code company_state_code         company_region  \\\n",
       "0                  CHN                 22                Beijing   \n",
       "1                  USA                 IL  Springfield, Illinois   \n",
       "2                  HKG                NaN              Hong Kong   \n",
       "3                  USA                 CA            SF Bay Area   \n",
       "4                  USA                 CA            SF Bay Area   \n",
       "\n",
       "    company_city                    investor_permalink  \\\n",
       "0        Beijing     /organization/dt-capital-partners   \n",
       "1      Champaign       /organization/venturecapital-de   \n",
       "2      Hong Kong     /organization/cyberport-hong-kong   \n",
       "3  Mountain View             /organization/capital-one   \n",
       "4  Mountain View  /organization/nexus-venture-partners   \n",
       "\n",
       "            investor_name investor_country_code investor_state_code  \\\n",
       "0     DT Capital Partners                   CHN                  23   \n",
       "1   VCDE Venture Partners                   DEU                   5   \n",
       "2     Cyberport Hong Kong                   HKG                 NaN   \n",
       "3             Capital One                   USA                  VA   \n",
       "4  Nexus Venture Partners                   USA                  CA   \n",
       "\n",
       "    investor_region investor_city  \\\n",
       "0          Shanghai      Shanghai   \n",
       "1         Frankfurt     Frankfurt   \n",
       "2         Hong Kong     Hong Kong   \n",
       "3  Washington, D.C.        Mclean   \n",
       "4       SF Bay Area    Menlo Park   \n",
       "\n",
       "                           funding_round_permalink funding_round_type  \\\n",
       "0  /funding-round/5727accaeaa57461bd22a9bdd945382d            venture   \n",
       "1  /funding-round/1278dd4e6a37fa4b7d7e06c21b3c1830            venture   \n",
       "2  /funding-round/7d53696f2b4f607a2f2a8cbb83d01839        undisclosed   \n",
       "3  /funding-round/3bb2ee4a2d89251a10aaa735b1180e44            venture   \n",
       "4  /funding-round/383a9bd2c04f7038bb543ccef5ba3eae               seed   \n",
       "\n",
       "  funding_round_code   funded_at  raised_amount_usd  \n",
       "0                  A  2008-03-19          2000000.0  \n",
       "1                NaN  2014-07-24                NaN  \n",
       "2                NaN  2014-07-01            41250.0  \n",
       "3                  B  2015-11-09         20000000.0  \n",
       "4                NaN  2013-05-22          3000000.0  "
      ]
     },
     "execution_count": 17,
     "metadata": {},
     "output_type": "execute_result"
    }
   ],
   "source": [
    "# Use the head() function to get a quick look at the data \n",
    "investments.head()"
   ]
  },
  {
   "cell_type": "code",
   "execution_count": 18,
   "metadata": {
    "colab": {
     "base_uri": "https://localhost:8080/",
     "height": 442
    },
    "colab_type": "code",
    "executionInfo": {
     "elapsed": 899,
     "status": "ok",
     "timestamp": 1597156853560,
     "user": {
      "displayName": "Nguyên Nguyễn",
      "photoUrl": "https://lh3.googleusercontent.com/a-/AOh14GiMHvxYop1LpkbTw_vqb4NBqwe2UWThSHl9_s48=s64",
      "userId": "12488776910510095947"
     },
     "user_tz": -420
    },
    "id": "x7iIzHBE9zv0",
    "outputId": "6eb0f499-3cd8-46b4-d711-53ebd3fb63a7"
   },
   "outputs": [
    {
     "name": "stdout",
     "output_type": "stream",
     "text": [
      "<class 'pandas.core.frame.DataFrame'>\n",
      "RangeIndex: 168647 entries, 0 to 168646\n",
      "Data columns (total 18 columns):\n",
      " #   Column                   Non-Null Count   Dtype  \n",
      "---  ------                   --------------   -----  \n",
      " 0   company_permalink        168647 non-null  object \n",
      " 1   company_name             168646 non-null  object \n",
      " 2   company_category_list    165015 non-null  object \n",
      " 3   company_country_code     158126 non-null  object \n",
      " 4   company_state_code       155216 non-null  object \n",
      " 5   company_region           156162 non-null  object \n",
      " 6   company_city             156164 non-null  object \n",
      " 7   investor_permalink       168635 non-null  object \n",
      " 8   investor_name            168635 non-null  object \n",
      " 9   investor_country_code    137708 non-null  object \n",
      " 10  investor_state_code      123908 non-null  object \n",
      " 11  investor_region          125430 non-null  object \n",
      " 12  investor_city            136483 non-null  object \n",
      " 13  funding_round_permalink  168647 non-null  object \n",
      " 14  funding_round_type       168647 non-null  object \n",
      " 15  funding_round_code       81062 non-null   object \n",
      " 16  funded_at                168647 non-null  object \n",
      " 17  raised_amount_usd        147028 non-null  float64\n",
      "dtypes: float64(1), object(17)\n",
      "memory usage: 23.2+ MB\n"
     ]
    }
   ],
   "source": [
    "# Brief infomation about data\n",
    "investments.info()"
   ]
  },
  {
   "cell_type": "code",
   "execution_count": 19,
   "metadata": {
    "colab": {},
    "colab_type": "code",
    "id": "G7hJDitA94M5"
   },
   "outputs": [],
   "source": [
    "# Drop all missing values\n",
    "investments.dropna(inplace = True)"
   ]
  },
  {
   "cell_type": "code",
   "execution_count": 20,
   "metadata": {
    "colab": {},
    "colab_type": "code",
    "id": "xjtUgGAW_vck"
   },
   "outputs": [],
   "source": [
    "# After dropna, the indexes are not in order so it needed to be reset.\n",
    "investments = investments.reset_index(drop = True)"
   ]
  },
  {
   "cell_type": "code",
   "execution_count": 21,
   "metadata": {
    "colab": {
     "base_uri": "https://localhost:8080/",
     "height": 442
    },
    "colab_type": "code",
    "executionInfo": {
     "elapsed": 1046,
     "status": "ok",
     "timestamp": 1597157385260,
     "user": {
      "displayName": "Nguyên Nguyễn",
      "photoUrl": "https://lh3.googleusercontent.com/a-/AOh14GiMHvxYop1LpkbTw_vqb4NBqwe2UWThSHl9_s48=s64",
      "userId": "12488776910510095947"
     },
     "user_tz": -420
    },
    "id": "w71B1uPR_wxh",
    "outputId": "3ff907f9-f8f9-494b-e9c8-d49b2ebe4fc8"
   },
   "outputs": [
    {
     "name": "stdout",
     "output_type": "stream",
     "text": [
      "<class 'pandas.core.frame.DataFrame'>\n",
      "RangeIndex: 59417 entries, 0 to 59416\n",
      "Data columns (total 18 columns):\n",
      " #   Column                   Non-Null Count  Dtype  \n",
      "---  ------                   --------------  -----  \n",
      " 0   company_permalink        59417 non-null  object \n",
      " 1   company_name             59417 non-null  object \n",
      " 2   company_category_list    59417 non-null  object \n",
      " 3   company_country_code     59417 non-null  object \n",
      " 4   company_state_code       59417 non-null  object \n",
      " 5   company_region           59417 non-null  object \n",
      " 6   company_city             59417 non-null  object \n",
      " 7   investor_permalink       59417 non-null  object \n",
      " 8   investor_name            59417 non-null  object \n",
      " 9   investor_country_code    59417 non-null  object \n",
      " 10  investor_state_code      59417 non-null  object \n",
      " 11  investor_region          59417 non-null  object \n",
      " 12  investor_city            59417 non-null  object \n",
      " 13  funding_round_permalink  59417 non-null  object \n",
      " 14  funding_round_type       59417 non-null  object \n",
      " 15  funding_round_code       59417 non-null  object \n",
      " 16  funded_at                59417 non-null  object \n",
      " 17  raised_amount_usd        59417 non-null  float64\n",
      "dtypes: float64(1), object(17)\n",
      "memory usage: 8.2+ MB\n"
     ]
    }
   ],
   "source": [
    "investments.info()"
   ]
  },
  {
   "cell_type": "markdown",
   "metadata": {
    "colab_type": "text",
    "id": "om-amj8G_-M-"
   },
   "source": [
    "# Exploratory Data Analysis"
   ]
  },
  {
   "cell_type": "markdown",
   "metadata": {
    "colab_type": "text",
    "id": "qOhVhEWJDbuN"
   },
   "source": [
    "## 1) What were the common company type that had raised money?"
   ]
  },
  {
   "cell_type": "code",
   "execution_count": 22,
   "metadata": {
    "colab": {
     "base_uri": "https://localhost:8080/",
     "height": 467
    },
    "colab_type": "code",
    "executionInfo": {
     "elapsed": 962,
     "status": "ok",
     "timestamp": 1597158486745,
     "user": {
      "displayName": "Nguyên Nguyễn",
      "photoUrl": "https://lh3.googleusercontent.com/a-/AOh14GiMHvxYop1LpkbTw_vqb4NBqwe2UWThSHl9_s48=s64",
      "userId": "12488776910510095947"
     },
     "user_tz": -420
    },
    "id": "q7cG_BZAChM3",
    "outputId": "a5316911-7d62-4690-ba85-fdbcc4fa7a61"
   },
   "outputs": [
    {
     "data": {
      "text/html": [
       "<div>\n",
       "<style scoped>\n",
       "    .dataframe tbody tr th:only-of-type {\n",
       "        vertical-align: middle;\n",
       "    }\n",
       "\n",
       "    .dataframe tbody tr th {\n",
       "        vertical-align: top;\n",
       "    }\n",
       "\n",
       "    .dataframe thead th {\n",
       "        text-align: right;\n",
       "    }\n",
       "</style>\n",
       "<table border=\"1\" class=\"dataframe\">\n",
       "  <thead>\n",
       "    <tr style=\"text-align: right;\">\n",
       "      <th></th>\n",
       "      <th>count</th>\n",
       "    </tr>\n",
       "    <tr>\n",
       "      <th>category_list</th>\n",
       "      <th></th>\n",
       "    </tr>\n",
       "  </thead>\n",
       "  <tbody>\n",
       "    <tr>\n",
       "      <th>3D Printing</th>\n",
       "      <td>8</td>\n",
       "    </tr>\n",
       "    <tr>\n",
       "      <th>3D Printing|3D Technology</th>\n",
       "      <td>1</td>\n",
       "    </tr>\n",
       "    <tr>\n",
       "      <th>3D Printing|3D Technology|Android|Artificial Intelligence|Drones|Enterprise Application|Entertainment|Entrepreneur|Games|Lasers|Mobile|Open Source|Robotics|Telecommunications</th>\n",
       "      <td>1</td>\n",
       "    </tr>\n",
       "    <tr>\n",
       "      <th>3D Printing|3D Technology|Android|Games|iOS|Mobile|Mobile Games|Mobile Software Tools|Serious Games|Tablets|Video Games</th>\n",
       "      <td>1</td>\n",
       "    </tr>\n",
       "    <tr>\n",
       "      <th>3D Printing|3D Technology|Audio|Mass Customization</th>\n",
       "      <td>1</td>\n",
       "    </tr>\n",
       "    <tr>\n",
       "      <th>...</th>\n",
       "      <td>...</td>\n",
       "    </tr>\n",
       "    <tr>\n",
       "      <th>iPhone|Software</th>\n",
       "      <td>1</td>\n",
       "    </tr>\n",
       "    <tr>\n",
       "      <th>mHealth</th>\n",
       "      <td>1</td>\n",
       "    </tr>\n",
       "    <tr>\n",
       "      <th>mHealth|Mobile</th>\n",
       "      <td>1</td>\n",
       "    </tr>\n",
       "    <tr>\n",
       "      <th>mHealth|Software</th>\n",
       "      <td>1</td>\n",
       "    </tr>\n",
       "    <tr>\n",
       "      <th>mHealth|Software|Therapeutics</th>\n",
       "      <td>1</td>\n",
       "    </tr>\n",
       "  </tbody>\n",
       "</table>\n",
       "<p>17480 rows × 1 columns</p>\n",
       "</div>"
      ],
      "text/plain": [
       "                                                    count\n",
       "category_list                                            \n",
       "3D Printing                                             8\n",
       "3D Printing|3D Technology                               1\n",
       "3D Printing|3D Technology|Android|Artificial In...      1\n",
       "3D Printing|3D Technology|Android|Games|iOS|Mob...      1\n",
       "3D Printing|3D Technology|Audio|Mass Customization      1\n",
       "...                                                   ...\n",
       "iPhone|Software                                         1\n",
       "mHealth                                                 1\n",
       "mHealth|Mobile                                          1\n",
       "mHealth|Software                                        1\n",
       "mHealth|Software|Therapeutics                           1\n",
       "\n",
       "[17480 rows x 1 columns]"
      ]
     },
     "execution_count": 22,
     "metadata": {},
     "output_type": "execute_result"
    }
   ],
   "source": [
    "companies[['name', 'category_list']].groupby('category_list').count().rename(columns={'name': 'count'})"
   ]
  },
  {
   "cell_type": "markdown",
   "metadata": {
    "colab_type": "text",
    "id": "DkEKW20CEcRM"
   },
   "source": [
    "**There are many but it does not answer the question. All I can see is that most of the sponsored companies are in the Technology sector. Now I am going to list top Technology industries that the investors were pouring money into.**"
   ]
  },
  {
   "cell_type": "code",
   "execution_count": 23,
   "metadata": {
    "colab": {
     "base_uri": "https://localhost:8080/",
     "height": 187
    },
    "colab_type": "code",
    "executionInfo": {
     "elapsed": 941,
     "status": "ok",
     "timestamp": 1597159320386,
     "user": {
      "displayName": "Nguyên Nguyễn",
      "photoUrl": "https://lh3.googleusercontent.com/a-/AOh14GiMHvxYop1LpkbTw_vqb4NBqwe2UWThSHl9_s48=s64",
      "userId": "12488776910510095947"
     },
     "user_tz": -420
    },
    "id": "NwhpzA0CGjTz",
    "outputId": "d96f4980-b764-4d56-8811-865a6c275027"
   },
   "outputs": [
    {
     "data": {
      "text/plain": [
       "[('Software', 3979),\n",
       " ('and', 2364),\n",
       " ('Biotechnology', 2044),\n",
       " ('Media', 1815),\n",
       " ('Health', 1667),\n",
       " ('Curated', 1355),\n",
       " ('+', 1113),\n",
       " ('Enterprise', 973),\n",
       " ('Care', 950),\n",
       " ('Technology', 921)]"
      ]
     },
     "execution_count": 23,
     "metadata": {},
     "output_type": "execute_result"
    }
   ],
   "source": [
    "from collections import Counter\n",
    "Counter(\" \".join(companies['category_list']).split()).most_common(10)"
   ]
  },
  {
   "cell_type": "markdown",
   "metadata": {
    "colab_type": "text",
    "id": "Oh8PcmJhHdtM"
   },
   "source": [
    "**In short, Software is the main industry. In addition, the Biotechnology seemed to be attracting interest from investors.**"
   ]
  },
  {
   "cell_type": "markdown",
   "metadata": {
    "colab_type": "text",
    "id": "AGH_n4VTNete"
   },
   "source": [
    "## 2) Count the status of each company in USA"
   ]
  },
  {
   "cell_type": "code",
   "execution_count": 24,
   "metadata": {
    "colab": {
     "base_uri": "https://localhost:8080/",
     "height": 204
    },
    "colab_type": "code",
    "executionInfo": {
     "elapsed": 1030,
     "status": "ok",
     "timestamp": 1597161503559,
     "user": {
      "displayName": "Nguyên Nguyễn",
      "photoUrl": "https://lh3.googleusercontent.com/a-/AOh14GiMHvxYop1LpkbTw_vqb4NBqwe2UWThSHl9_s48=s64",
      "userId": "12488776910510095947"
     },
     "user_tz": -420
    },
    "id": "CxkP5rzIGo1m",
    "outputId": "cf0d563c-8879-410d-baa2-573f5af274e7"
   },
   "outputs": [
    {
     "data": {
      "text/html": [
       "<div>\n",
       "<style scoped>\n",
       "    .dataframe tbody tr th:only-of-type {\n",
       "        vertical-align: middle;\n",
       "    }\n",
       "\n",
       "    .dataframe tbody tr th {\n",
       "        vertical-align: top;\n",
       "    }\n",
       "\n",
       "    .dataframe thead th {\n",
       "        text-align: right;\n",
       "    }\n",
       "</style>\n",
       "<table border=\"1\" class=\"dataframe\">\n",
       "  <thead>\n",
       "    <tr style=\"text-align: right;\">\n",
       "      <th></th>\n",
       "      <th></th>\n",
       "      <th>name</th>\n",
       "    </tr>\n",
       "    <tr>\n",
       "      <th>country_code</th>\n",
       "      <th>status</th>\n",
       "      <th></th>\n",
       "    </tr>\n",
       "  </thead>\n",
       "  <tbody>\n",
       "    <tr>\n",
       "      <th rowspan=\"4\" valign=\"top\">USA</th>\n",
       "      <th>acquired</th>\n",
       "      <td>2810</td>\n",
       "    </tr>\n",
       "    <tr>\n",
       "      <th>closed</th>\n",
       "      <td>1649</td>\n",
       "    </tr>\n",
       "    <tr>\n",
       "      <th>ipo</th>\n",
       "      <td>798</td>\n",
       "    </tr>\n",
       "    <tr>\n",
       "      <th>operating</th>\n",
       "      <td>18896</td>\n",
       "    </tr>\n",
       "  </tbody>\n",
       "</table>\n",
       "</div>"
      ],
      "text/plain": [
       "                         name\n",
       "country_code status          \n",
       "USA          acquired    2810\n",
       "             closed      1649\n",
       "             ipo          798\n",
       "             operating  18896"
      ]
     },
     "execution_count": 24,
     "metadata": {},
     "output_type": "execute_result"
    }
   ],
   "source": [
    "companies[companies['country_code'] == 'USA'][['name', 'country_code', 'status']].groupby(['country_code', 'status']).count()"
   ]
  },
  {
   "cell_type": "markdown",
   "metadata": {
    "colab_type": "text",
    "id": "ldTM176WQC1H"
   },
   "source": [
    "## 3) Which city in US that had most startups?"
   ]
  },
  {
   "cell_type": "code",
   "execution_count": 25,
   "metadata": {
    "colab": {
     "base_uri": "https://localhost:8080/",
     "height": 450
    },
    "colab_type": "code",
    "executionInfo": {
     "elapsed": 1007,
     "status": "ok",
     "timestamp": 1597162277712,
     "user": {
      "displayName": "Nguyên Nguyễn",
      "photoUrl": "https://lh3.googleusercontent.com/a-/AOh14GiMHvxYop1LpkbTw_vqb4NBqwe2UWThSHl9_s48=s64",
      "userId": "12488776910510095947"
     },
     "user_tz": -420
    },
    "id": "n8KRt_olPBgw",
    "outputId": "35b43afc-cefd-4e5a-82d9-1e1b5b5dc60a"
   },
   "outputs": [
    {
     "data": {
      "text/html": [
       "<div>\n",
       "<style scoped>\n",
       "    .dataframe tbody tr th:only-of-type {\n",
       "        vertical-align: middle;\n",
       "    }\n",
       "\n",
       "    .dataframe tbody tr th {\n",
       "        vertical-align: top;\n",
       "    }\n",
       "\n",
       "    .dataframe thead th {\n",
       "        text-align: right;\n",
       "    }\n",
       "</style>\n",
       "<table border=\"1\" class=\"dataframe\">\n",
       "  <thead>\n",
       "    <tr style=\"text-align: right;\">\n",
       "      <th></th>\n",
       "      <th>count</th>\n",
       "    </tr>\n",
       "    <tr>\n",
       "      <th>city</th>\n",
       "      <th></th>\n",
       "    </tr>\n",
       "  </thead>\n",
       "  <tbody>\n",
       "    <tr>\n",
       "      <th>San Francisco</th>\n",
       "      <td>2564</td>\n",
       "    </tr>\n",
       "    <tr>\n",
       "      <th>New York</th>\n",
       "      <td>2294</td>\n",
       "    </tr>\n",
       "    <tr>\n",
       "      <th>Seattle</th>\n",
       "      <td>556</td>\n",
       "    </tr>\n",
       "    <tr>\n",
       "      <th>Austin</th>\n",
       "      <td>533</td>\n",
       "    </tr>\n",
       "    <tr>\n",
       "      <th>Palo Alto</th>\n",
       "      <td>520</td>\n",
       "    </tr>\n",
       "    <tr>\n",
       "      <th>...</th>\n",
       "      <td>...</td>\n",
       "    </tr>\n",
       "    <tr>\n",
       "      <th>Linthicum Heights</th>\n",
       "      <td>1</td>\n",
       "    </tr>\n",
       "    <tr>\n",
       "      <th>Litchfield</th>\n",
       "      <td>1</td>\n",
       "    </tr>\n",
       "    <tr>\n",
       "      <th>Little Elm</th>\n",
       "      <td>1</td>\n",
       "    </tr>\n",
       "    <tr>\n",
       "      <th>Little River</th>\n",
       "      <td>1</td>\n",
       "    </tr>\n",
       "    <tr>\n",
       "      <th>Zionsville</th>\n",
       "      <td>1</td>\n",
       "    </tr>\n",
       "  </tbody>\n",
       "</table>\n",
       "<p>1831 rows × 1 columns</p>\n",
       "</div>"
      ],
      "text/plain": [
       "                   count\n",
       "city                    \n",
       "San Francisco       2564\n",
       "New York            2294\n",
       "Seattle              556\n",
       "Austin               533\n",
       "Palo Alto            520\n",
       "...                  ...\n",
       "Linthicum Heights      1\n",
       "Litchfield             1\n",
       "Little Elm             1\n",
       "Little River           1\n",
       "Zionsville             1\n",
       "\n",
       "[1831 rows x 1 columns]"
      ]
     },
     "execution_count": 25,
     "metadata": {},
     "output_type": "execute_result"
    }
   ],
   "source": [
    "companies[companies['country_code'] == 'USA'][['name', 'city']].groupby('city').count().rename(columns={'name': 'count'}).sort_values(by = ['count'], ascending = False)"
   ]
  },
  {
   "cell_type": "markdown",
   "metadata": {
    "colab_type": "text",
    "id": "nUTcO8NySfC2"
   },
   "source": [
    "**Based on the result, most start ups are in Silicon Valley**"
   ]
  },
  {
   "cell_type": "markdown",
   "metadata": {
    "colab_type": "text",
    "id": "1Ff5JOc5VvQ0"
   },
   "source": [
    "## 4) List all companies and their investors"
   ]
  },
  {
   "cell_type": "code",
   "execution_count": 26,
   "metadata": {
    "colab": {
     "base_uri": "https://localhost:8080/",
     "height": 433
    },
    "colab_type": "code",
    "executionInfo": {
     "elapsed": 962,
     "status": "ok",
     "timestamp": 1597165284492,
     "user": {
      "displayName": "Nguyên Nguyễn",
      "photoUrl": "https://lh3.googleusercontent.com/a-/AOh14GiMHvxYop1LpkbTw_vqb4NBqwe2UWThSHl9_s48=s64",
      "userId": "12488776910510095947"
     },
     "user_tz": -420
    },
    "id": "sOVZbzilTN_T",
    "outputId": "42538677-14c6-4d5c-8bd2-2279cc54d17f"
   },
   "outputs": [
    {
     "data": {
      "text/html": [
       "<div>\n",
       "<style scoped>\n",
       "    .dataframe tbody tr th:only-of-type {\n",
       "        vertical-align: middle;\n",
       "    }\n",
       "\n",
       "    .dataframe tbody tr th {\n",
       "        vertical-align: top;\n",
       "    }\n",
       "\n",
       "    .dataframe thead th {\n",
       "        text-align: right;\n",
       "    }\n",
       "</style>\n",
       "<table border=\"1\" class=\"dataframe\">\n",
       "  <thead>\n",
       "    <tr style=\"text-align: right;\">\n",
       "      <th></th>\n",
       "      <th></th>\n",
       "    </tr>\n",
       "    <tr>\n",
       "      <th>company_name</th>\n",
       "      <th>investor_name</th>\n",
       "    </tr>\n",
       "  </thead>\n",
       "  <tbody>\n",
       "    <tr>\n",
       "      <th>0-6.com</th>\n",
       "      <th>DT Capital Partners</th>\n",
       "    </tr>\n",
       "    <tr>\n",
       "      <th rowspan=\"4\" valign=\"top\">1-Page</th>\n",
       "      <th>Blumberg Capital</th>\n",
       "    </tr>\n",
       "    <tr>\n",
       "      <th>Georgetown Angels</th>\n",
       "    </tr>\n",
       "    <tr>\n",
       "      <th>Rothenberg Ventures</th>\n",
       "    </tr>\n",
       "    <tr>\n",
       "      <th>Satori Capital</th>\n",
       "    </tr>\n",
       "    <tr>\n",
       "      <th>...</th>\n",
       "      <th>...</th>\n",
       "    </tr>\n",
       "    <tr>\n",
       "      <th rowspan=\"5\" valign=\"top\">zulily</th>\n",
       "      <th>Andreessen Horowitz</th>\n",
       "    </tr>\n",
       "    <tr>\n",
       "      <th>August Capital</th>\n",
       "    </tr>\n",
       "    <tr>\n",
       "      <th>Maveron</th>\n",
       "    </tr>\n",
       "    <tr>\n",
       "      <th>Meritech Capital Partners</th>\n",
       "    </tr>\n",
       "    <tr>\n",
       "      <th>Trinity Ventures</th>\n",
       "    </tr>\n",
       "  </tbody>\n",
       "</table>\n",
       "<p>42778 rows × 0 columns</p>\n",
       "</div>"
      ],
      "text/plain": [
       "Empty DataFrame\n",
       "Columns: []\n",
       "Index: [(0-6.com, DT Capital Partners), (1-Page, Blumberg Capital), (1-Page, Georgetown Angels), (1-Page, Rothenberg Ventures), (1-Page, Satori Capital), (1000memories, FLOODGATE), (1000memories, Felicis Ventures), (1000memories, Founder Collective), (1000memories, Greylock Partners), (1000memories, Signatures Capital), (1001pharmacies.com, CM-CIC Capital Prive), (1006.tv, ClearVue Partners), (1006.tv, Sequoia Capital), (10X Genomics, Foresite Capital), (10X Genomics, Paladin Capital Group), (10X Genomics, Venrock), (117go, Softbank China Venture Capital), (12cm, Capstone Partners Korea), (1366 Technologies, Haiyin Capital), (1366 Technologies, Hanwha Chemical Corporation), (1366 Technologies, North Bridge Venture Partners & Growth Equity), (1366 Technologies, Polaris Partners), (1366 Technologies, VantagePoint Capital Partners), (1366 Technologies, Vorndran Mannheims Capital), (140 Proof, BlueRun Ventures), (140 Proof, SV Angel), (16WiFi, Baidu), (170 Systems, Polaris Partners), (17hats, Wavemaker Partners), (17u.cn, Boyu Capital), (17u.cn, Oriza Holdings), (17zuoye, DST Global), (17zuoye, Shunwei Capital), (17zuoye, Tiger Global Management), (19pay, Sequoia Capital), (19pay, Zero2IPO Ventures), (1Life Healthcare, Benchmark), (1Life Healthcare, DAG Ventures), (1Life Healthcare, Google Ventures), (1Life Healthcare, Maverick Capital), (1Life Healthcare, Oak Investment Partners), (1World Online, DEFTA Partners), (1World Online, GVA LaunchGurus Fund 1 L.P.), (1jiajie, Tencent Holdings), (1stdibs, Alibaba), (2 Minutes, Alliance Entreprendre), (2080 Media, BIP Capital), (2080 Media, Hamilton Ventures LLC), (2080 Media, Imlay Investments), (2080 Media, Noro-Moseley Partners), (20x200, AOL Ventures), (20x200, Founder Collective), (20x200, SV Angel), (20x200, True Ventures), (21 Inc, Winklevoss Capital), (21Diamonds, MCI Capital SA), (21Diamonds, Ventech), (23andMe, Casdin Capital), (23andMe, Genentech), (23andMe, Google), (23andMe, Google Ventures), (23andMe, Johnson & Johnson Development Corporation), (23andMe, MPM Capital), (23andMe, Mohr Davidow Ventures), (23andMe, New Enterprise Associates), (23andMe, Stephens Investment Management), (23andMe, Xfund), (24M Technologies, CRV), (24M Technologies, North Bridge Venture Partners & Growth Equity), (24M Technologies, U.S. Department of Energy), (2Checkout, Chicago Growth Partners), (2Checkout, Trident Capital), (2U Inc., Bessemer Venture Partners), (2U Inc., City Light Capital), (2U Inc., Highland Capital Partners), (2U Inc., Hillman Ventures), (2U Inc., Novak Biddle Venture Partners), (2U Inc., Redpoint Ventures), (2U Inc., Rethink Education), (2Wire, Accel), (2Wire, DCM), (2Wire, Dell), (2Wire, GGV Capital), (2Wire, Invesco Perpetual), (2Wire, Meritech Capital Partners), (2Wire, Oak Investment Partners), (2Wire, Shell Internet Ventures B.V), (2Wire, Technology Crossover Ventures), (2Wire, Venrock), (2Wire, Weber Capital), (2can, Almaz Capital), (2can, ESN Group), (2can, Inventure Partners), (2houses, Inventures SA), (2houses, Mymicroinvest), (2nd Watch, Columbia Capital), (2nd Watch, Madrona Venture Group), (2nd Watch, Top Tier Capital Partners), (3-V Biosciences, Kleiner Perkins Caufield & Byers), (3-V Biosciences, New Enterprise Associates), ...]\n",
       "\n",
       "[42778 rows x 0 columns]"
      ]
     },
     "execution_count": 26,
     "metadata": {},
     "output_type": "execute_result"
    }
   ],
   "source": [
    "investments[['company_name', 'investor_name']].groupby(['company_name', 'investor_name']).count()"
   ]
  },
  {
   "cell_type": "markdown",
   "metadata": {
    "colab_type": "text",
    "id": "jY65LIvpeHM3"
   },
   "source": [
    "## 5) Top 10 funding totals raised by Company"
   ]
  },
  {
   "cell_type": "code",
   "execution_count": 27,
   "metadata": {
    "colab": {
     "base_uri": "https://localhost:8080/",
     "height": 390
    },
    "colab_type": "code",
    "executionInfo": {
     "elapsed": 897,
     "status": "ok",
     "timestamp": 1597166806159,
     "user": {
      "displayName": "Nguyên Nguyễn",
      "photoUrl": "https://lh3.googleusercontent.com/a-/AOh14GiMHvxYop1LpkbTw_vqb4NBqwe2UWThSHl9_s48=s64",
      "userId": "12488776910510095947"
     },
     "user_tz": -420
    },
    "id": "4ad823_kf15r",
    "outputId": "fb6d47f2-e7f3-4712-ab16-158a666e0be1"
   },
   "outputs": [
    {
     "data": {
      "text/html": [
       "<div>\n",
       "<style scoped>\n",
       "    .dataframe tbody tr th:only-of-type {\n",
       "        vertical-align: middle;\n",
       "    }\n",
       "\n",
       "    .dataframe tbody tr th {\n",
       "        vertical-align: top;\n",
       "    }\n",
       "\n",
       "    .dataframe thead th {\n",
       "        text-align: right;\n",
       "    }\n",
       "</style>\n",
       "<table border=\"1\" class=\"dataframe\">\n",
       "  <thead>\n",
       "    <tr style=\"text-align: right;\">\n",
       "      <th></th>\n",
       "      <th>Funding sum</th>\n",
       "    </tr>\n",
       "    <tr>\n",
       "      <th>company_name</th>\n",
       "      <th></th>\n",
       "    </tr>\n",
       "  </thead>\n",
       "  <tbody>\n",
       "    <tr>\n",
       "      <th>Uber</th>\n",
       "      <td>2.457200e+10</td>\n",
       "    </tr>\n",
       "    <tr>\n",
       "      <th>Flipkart</th>\n",
       "      <td>1.241100e+10</td>\n",
       "    </tr>\n",
       "    <tr>\n",
       "      <th>Groupon</th>\n",
       "      <td>1.013480e+10</td>\n",
       "    </tr>\n",
       "    <tr>\n",
       "      <th>MediaVast</th>\n",
       "      <td>9.430000e+09</td>\n",
       "    </tr>\n",
       "    <tr>\n",
       "      <th>SoFi</th>\n",
       "      <td>8.603600e+09</td>\n",
       "    </tr>\n",
       "    <tr>\n",
       "      <th>Pinterest</th>\n",
       "      <td>6.840000e+09</td>\n",
       "    </tr>\n",
       "    <tr>\n",
       "      <th>Ola</th>\n",
       "      <td>5.779500e+09</td>\n",
       "    </tr>\n",
       "    <tr>\n",
       "      <th>Spotify</th>\n",
       "      <td>5.777280e+09</td>\n",
       "    </tr>\n",
       "    <tr>\n",
       "      <th>Lyft</th>\n",
       "      <td>5.694000e+09</td>\n",
       "    </tr>\n",
       "    <tr>\n",
       "      <th>Space Exploration Technologies</th>\n",
       "      <td>5.270870e+09</td>\n",
       "    </tr>\n",
       "  </tbody>\n",
       "</table>\n",
       "</div>"
      ],
      "text/plain": [
       "                                 Funding sum\n",
       "company_name                                \n",
       "Uber                            2.457200e+10\n",
       "Flipkart                        1.241100e+10\n",
       "Groupon                         1.013480e+10\n",
       "MediaVast                       9.430000e+09\n",
       "SoFi                            8.603600e+09\n",
       "Pinterest                       6.840000e+09\n",
       "Ola                             5.779500e+09\n",
       "Spotify                         5.777280e+09\n",
       "Lyft                            5.694000e+09\n",
       "Space Exploration Technologies  5.270870e+09"
      ]
     },
     "execution_count": 27,
     "metadata": {},
     "output_type": "execute_result"
    }
   ],
   "source": [
    "investments[['company_name', 'raised_amount_usd']].groupby('company_name').sum().rename(columns={'raised_amount_usd': 'Funding sum'}).sort_values(by = ['Funding sum'], ascending = False).head(10)"
   ]
  },
  {
   "cell_type": "markdown",
   "metadata": {
    "colab_type": "text",
    "id": "6PkEuu1fkcni"
   },
   "source": [
    "## 6) Top 10 funding totals raised by Company Category"
   ]
  },
  {
   "cell_type": "code",
   "execution_count": 28,
   "metadata": {
    "colab": {
     "base_uri": "https://localhost:8080/",
     "height": 390
    },
    "colab_type": "code",
    "executionInfo": {
     "elapsed": 1226,
     "status": "ok",
     "timestamp": 1597167164460,
     "user": {
      "displayName": "Nguyên Nguyễn",
      "photoUrl": "https://lh3.googleusercontent.com/a-/AOh14GiMHvxYop1LpkbTw_vqb4NBqwe2UWThSHl9_s48=s64",
      "userId": "12488776910510095947"
     },
     "user_tz": -420
    },
    "id": "GaY6o5iMiJNv",
    "outputId": "22c9a49a-886f-4c3a-a7c9-2b349d0bb1d3"
   },
   "outputs": [
    {
     "data": {
      "text/html": [
       "<div>\n",
       "<style scoped>\n",
       "    .dataframe tbody tr th:only-of-type {\n",
       "        vertical-align: middle;\n",
       "    }\n",
       "\n",
       "    .dataframe tbody tr th {\n",
       "        vertical-align: top;\n",
       "    }\n",
       "\n",
       "    .dataframe thead th {\n",
       "        text-align: right;\n",
       "    }\n",
       "</style>\n",
       "<table border=\"1\" class=\"dataframe\">\n",
       "  <thead>\n",
       "    <tr style=\"text-align: right;\">\n",
       "      <th></th>\n",
       "      <th>Funding sum</th>\n",
       "    </tr>\n",
       "    <tr>\n",
       "      <th>company_category_list</th>\n",
       "      <th></th>\n",
       "    </tr>\n",
       "  </thead>\n",
       "  <tbody>\n",
       "    <tr>\n",
       "      <th>Biotechnology</th>\n",
       "      <td>1.402629e+11</td>\n",
       "    </tr>\n",
       "    <tr>\n",
       "      <th>Software</th>\n",
       "      <td>4.462226e+10</td>\n",
       "    </tr>\n",
       "    <tr>\n",
       "      <th>Health Care</th>\n",
       "      <td>2.989893e+10</td>\n",
       "    </tr>\n",
       "    <tr>\n",
       "      <th>Clean Technology</th>\n",
       "      <td>2.883782e+10</td>\n",
       "    </tr>\n",
       "    <tr>\n",
       "      <th>Biotechnology|Health Care</th>\n",
       "      <td>2.520652e+10</td>\n",
       "    </tr>\n",
       "    <tr>\n",
       "      <th>Semiconductors</th>\n",
       "      <td>2.493012e+10</td>\n",
       "    </tr>\n",
       "    <tr>\n",
       "      <th>Automotive|Design|Limousines|Public Transportation|Real Time|Transportation</th>\n",
       "      <td>2.457200e+10</td>\n",
       "    </tr>\n",
       "    <tr>\n",
       "      <th>Enterprise Software</th>\n",
       "      <td>2.356475e+10</td>\n",
       "    </tr>\n",
       "    <tr>\n",
       "      <th>E-Commerce</th>\n",
       "      <td>2.002801e+10</td>\n",
       "    </tr>\n",
       "    <tr>\n",
       "      <th>Mobile</th>\n",
       "      <td>1.591148e+10</td>\n",
       "    </tr>\n",
       "  </tbody>\n",
       "</table>\n",
       "</div>"
      ],
      "text/plain": [
       "                                                     Funding sum\n",
       "company_category_list                                           \n",
       "Biotechnology                                       1.402629e+11\n",
       "Software                                            4.462226e+10\n",
       "Health Care                                         2.989893e+10\n",
       "Clean Technology                                    2.883782e+10\n",
       "Biotechnology|Health Care                           2.520652e+10\n",
       "Semiconductors                                      2.493012e+10\n",
       "Automotive|Design|Limousines|Public Transportat...  2.457200e+10\n",
       "Enterprise Software                                 2.356475e+10\n",
       "E-Commerce                                          2.002801e+10\n",
       "Mobile                                              1.591148e+10"
      ]
     },
     "execution_count": 28,
     "metadata": {},
     "output_type": "execute_result"
    }
   ],
   "source": [
    "investments[['company_category_list', 'raised_amount_usd']].groupby('company_category_list').sum().rename(columns={'raised_amount_usd': 'Funding sum'}).sort_values(by = ['Funding sum'], ascending = False).head(10)"
   ]
  },
  {
   "cell_type": "markdown",
   "metadata": {
    "colab_type": "text",
    "id": "mLoImQE-pAXS"
   },
   "source": [
    "## 7) Top 10 acquisitions by Company and Acquirer"
   ]
  },
  {
   "cell_type": "code",
   "execution_count": 29,
   "metadata": {
    "colab": {
     "base_uri": "https://localhost:8080/",
     "height": 359
    },
    "colab_type": "code",
    "executionInfo": {
     "elapsed": 830,
     "status": "ok",
     "timestamp": 1597168690271,
     "user": {
      "displayName": "Nguyên Nguyễn",
      "photoUrl": "https://lh3.googleusercontent.com/a-/AOh14GiMHvxYop1LpkbTw_vqb4NBqwe2UWThSHl9_s48=s64",
      "userId": "12488776910510095947"
     },
     "user_tz": -420
    },
    "id": "WJBRrZN-oFGc",
    "outputId": "7861526c-348b-4fe4-e66e-7c1ca5a1ed98"
   },
   "outputs": [
    {
     "data": {
      "text/html": [
       "<div>\n",
       "<style scoped>\n",
       "    .dataframe tbody tr th:only-of-type {\n",
       "        vertical-align: middle;\n",
       "    }\n",
       "\n",
       "    .dataframe tbody tr th {\n",
       "        vertical-align: top;\n",
       "    }\n",
       "\n",
       "    .dataframe thead th {\n",
       "        text-align: right;\n",
       "    }\n",
       "</style>\n",
       "<table border=\"1\" class=\"dataframe\">\n",
       "  <thead>\n",
       "    <tr style=\"text-align: right;\">\n",
       "      <th></th>\n",
       "      <th>company_name</th>\n",
       "      <th>acquirer_name</th>\n",
       "      <th>acquired_at</th>\n",
       "      <th>price_amount</th>\n",
       "    </tr>\n",
       "  </thead>\n",
       "  <tbody>\n",
       "    <tr>\n",
       "      <th>0</th>\n",
       "      <td>Allergan</td>\n",
       "      <td>Pfizer</td>\n",
       "      <td>2015-11-23</td>\n",
       "      <td>1.600000e+11</td>\n",
       "    </tr>\n",
       "    <tr>\n",
       "      <th>1</th>\n",
       "      <td>Allergan</td>\n",
       "      <td>Actavis</td>\n",
       "      <td>2014-11-16</td>\n",
       "      <td>7.050000e+10</td>\n",
       "    </tr>\n",
       "    <tr>\n",
       "      <th>2</th>\n",
       "      <td>SABMiller PLC</td>\n",
       "      <td>Anheuser-Busch InBev</td>\n",
       "      <td>2015-10-12</td>\n",
       "      <td>6.800000e+10</td>\n",
       "    </tr>\n",
       "    <tr>\n",
       "      <th>3</th>\n",
       "      <td>EMC</td>\n",
       "      <td>Dell</td>\n",
       "      <td>2015-10-11</td>\n",
       "      <td>6.700000e+10</td>\n",
       "    </tr>\n",
       "    <tr>\n",
       "      <th>4</th>\n",
       "      <td>Bank One</td>\n",
       "      <td>JP Morgan Chase &amp; Co.</td>\n",
       "      <td>2004-01-15</td>\n",
       "      <td>5.800000e+10</td>\n",
       "    </tr>\n",
       "    <tr>\n",
       "      <th>5</th>\n",
       "      <td>Time Warner Cable</td>\n",
       "      <td>Charter Communications</td>\n",
       "      <td>2015-05-26</td>\n",
       "      <td>5.600000e+10</td>\n",
       "    </tr>\n",
       "    <tr>\n",
       "      <th>6</th>\n",
       "      <td>Cigna</td>\n",
       "      <td>Anthem Inc (former WellPoint, Inc.)</td>\n",
       "      <td>2015-07-24</td>\n",
       "      <td>5.420000e+10</td>\n",
       "    </tr>\n",
       "    <tr>\n",
       "      <th>7</th>\n",
       "      <td>DIRECTV</td>\n",
       "      <td>AT&amp;T</td>\n",
       "      <td>2015-07-24</td>\n",
       "      <td>4.850000e+10</td>\n",
       "    </tr>\n",
       "    <tr>\n",
       "      <th>8</th>\n",
       "      <td>Covidien</td>\n",
       "      <td>Medtronic</td>\n",
       "      <td>2014-06-15</td>\n",
       "      <td>4.800000e+10</td>\n",
       "    </tr>\n",
       "    <tr>\n",
       "      <th>9</th>\n",
       "      <td>Time Warner Cable</td>\n",
       "      <td>Comcast</td>\n",
       "      <td>2014-02-13</td>\n",
       "      <td>4.500000e+10</td>\n",
       "    </tr>\n",
       "  </tbody>\n",
       "</table>\n",
       "</div>"
      ],
      "text/plain": [
       "        company_name                        acquirer_name acquired_at  \\\n",
       "0           Allergan                               Pfizer  2015-11-23   \n",
       "1           Allergan                              Actavis  2014-11-16   \n",
       "2      SABMiller PLC                 Anheuser-Busch InBev  2015-10-12   \n",
       "3                EMC                                 Dell  2015-10-11   \n",
       "4           Bank One                JP Morgan Chase & Co.  2004-01-15   \n",
       "5  Time Warner Cable               Charter Communications  2015-05-26   \n",
       "6              Cigna  Anthem Inc (former WellPoint, Inc.)  2015-07-24   \n",
       "7            DIRECTV                                 AT&T  2015-07-24   \n",
       "8           Covidien                            Medtronic  2014-06-15   \n",
       "9  Time Warner Cable                              Comcast  2014-02-13   \n",
       "\n",
       "   price_amount  \n",
       "0  1.600000e+11  \n",
       "1  7.050000e+10  \n",
       "2  6.800000e+10  \n",
       "3  6.700000e+10  \n",
       "4  5.800000e+10  \n",
       "5  5.600000e+10  \n",
       "6  5.420000e+10  \n",
       "7  4.850000e+10  \n",
       "8  4.800000e+10  \n",
       "9  4.500000e+10  "
      ]
     },
     "execution_count": 29,
     "metadata": {},
     "output_type": "execute_result"
    }
   ],
   "source": [
    "acquisitions[['company_name', 'acquirer_name', 'acquired_at', 'price_amount']].sort_values(by = ['price_amount'], ascending = False).head(10).reset_index(drop = True)"
   ]
  },
  {
   "cell_type": "markdown",
   "metadata": {},
   "source": [
    "## 8) How was the acquisitions price distributed?"
   ]
  },
  {
   "cell_type": "code",
   "execution_count": 30,
   "metadata": {},
   "outputs": [
    {
     "data": {
      "image/png": "[encoded data removed]",
      "text/plain": [
       "<Figure size 720x720 with 1 Axes>"
      ]
     },
     "metadata": {
      "needs_background": "light"
     },
     "output_type": "display_data"
    }
   ],
   "source": [
    "plt.figure(figsize = (10, 10))\n",
    "plt.hist(x = np.log10(acquisitions['price_amount'] + 1))\n",
    "plt.title('Acquisitions price distribution')\n",
    "plt.xlabel('Price in log base 10 scale')\n",
    "plt.yscale('log')"
   ]
  },
  {
   "cell_type": "markdown",
   "metadata": {},
   "source": [
    "**Most of the acquisitions were approximately 10^8 = 100,000,000 USD**"
   ]
  },
  {
   "cell_type": "markdown",
   "metadata": {},
   "source": [
    "## 9) How long did it take to acquire a company ?"
   ]
  },
  {
   "cell_type": "code",
   "execution_count": 31,
   "metadata": {},
   "outputs": [],
   "source": [
    "acquired_companies = companies[companies['status'] == 'acquired'][['name', 'founded_at']]"
   ]
  },
  {
   "cell_type": "code",
   "execution_count": 32,
   "metadata": {},
   "outputs": [
    {
     "data": {
      "text/html": [
       "<div>\n",
       "<style scoped>\n",
       "    .dataframe tbody tr th:only-of-type {\n",
       "        vertical-align: middle;\n",
       "    }\n",
       "\n",
       "    .dataframe tbody tr th {\n",
       "        vertical-align: top;\n",
       "    }\n",
       "\n",
       "    .dataframe thead th {\n",
       "        text-align: right;\n",
       "    }\n",
       "</style>\n",
       "<table border=\"1\" class=\"dataframe\">\n",
       "  <thead>\n",
       "    <tr style=\"text-align: right;\">\n",
       "      <th></th>\n",
       "      <th>name</th>\n",
       "      <th>founded_at</th>\n",
       "    </tr>\n",
       "  </thead>\n",
       "  <tbody>\n",
       "    <tr>\n",
       "      <th>8</th>\n",
       "      <td>1 Mainstream</td>\n",
       "      <td>2012-03-01</td>\n",
       "    </tr>\n",
       "    <tr>\n",
       "      <th>12</th>\n",
       "      <td>1000 Markets</td>\n",
       "      <td>2009-01-01</td>\n",
       "    </tr>\n",
       "    <tr>\n",
       "      <th>13</th>\n",
       "      <td>1000memories</td>\n",
       "      <td>2010-07-01</td>\n",
       "    </tr>\n",
       "    <tr>\n",
       "      <th>18</th>\n",
       "      <td>100Plus</td>\n",
       "      <td>2011-09-16</td>\n",
       "    </tr>\n",
       "    <tr>\n",
       "      <th>19</th>\n",
       "      <td>1010data</td>\n",
       "      <td>2000-01-01</td>\n",
       "    </tr>\n",
       "  </tbody>\n",
       "</table>\n",
       "</div>"
      ],
      "text/plain": [
       "            name  founded_at\n",
       "8   1 Mainstream  2012-03-01\n",
       "12  1000 Markets  2009-01-01\n",
       "13  1000memories  2010-07-01\n",
       "18       100Plus  2011-09-16\n",
       "19      1010data  2000-01-01"
      ]
     },
     "execution_count": 32,
     "metadata": {},
     "output_type": "execute_result"
    }
   ],
   "source": [
    "acquired_companies.head()"
   ]
  },
  {
   "cell_type": "code",
   "execution_count": 33,
   "metadata": {},
   "outputs": [],
   "source": [
    "temp = acquisitions[['company_name', 'acquired_at']]"
   ]
  },
  {
   "cell_type": "code",
   "execution_count": 34,
   "metadata": {},
   "outputs": [
    {
     "data": {
      "text/html": [
       "<div>\n",
       "<style scoped>\n",
       "    .dataframe tbody tr th:only-of-type {\n",
       "        vertical-align: middle;\n",
       "    }\n",
       "\n",
       "    .dataframe tbody tr th {\n",
       "        vertical-align: top;\n",
       "    }\n",
       "\n",
       "    .dataframe thead th {\n",
       "        text-align: right;\n",
       "    }\n",
       "</style>\n",
       "<table border=\"1\" class=\"dataframe\">\n",
       "  <thead>\n",
       "    <tr style=\"text-align: right;\">\n",
       "      <th></th>\n",
       "      <th>company_name</th>\n",
       "      <th>acquired_at</th>\n",
       "    </tr>\n",
       "  </thead>\n",
       "  <tbody>\n",
       "    <tr>\n",
       "      <th>0</th>\n",
       "      <td>1010data</td>\n",
       "      <td>2015-08-03</td>\n",
       "    </tr>\n",
       "    <tr>\n",
       "      <th>1</th>\n",
       "      <td>170 Systems</td>\n",
       "      <td>2009-09-08</td>\n",
       "    </tr>\n",
       "    <tr>\n",
       "      <th>2</th>\n",
       "      <td>1st United Bancorp</td>\n",
       "      <td>2014-05-08</td>\n",
       "    </tr>\n",
       "    <tr>\n",
       "      <th>3</th>\n",
       "      <td>21st Century Insurance</td>\n",
       "      <td>2007-09-01</td>\n",
       "    </tr>\n",
       "    <tr>\n",
       "      <th>4</th>\n",
       "      <td>24/7 Real Media</td>\n",
       "      <td>2007-05-17</td>\n",
       "    </tr>\n",
       "  </tbody>\n",
       "</table>\n",
       "</div>"
      ],
      "text/plain": [
       "             company_name acquired_at\n",
       "0                1010data  2015-08-03\n",
       "1             170 Systems  2009-09-08\n",
       "2      1st United Bancorp  2014-05-08\n",
       "3  21st Century Insurance  2007-09-01\n",
       "4         24/7 Real Media  2007-05-17"
      ]
     },
     "execution_count": 34,
     "metadata": {},
     "output_type": "execute_result"
    }
   ],
   "source": [
    "temp.head()"
   ]
  },
  {
   "cell_type": "code",
   "execution_count": 35,
   "metadata": {},
   "outputs": [],
   "source": [
    "acquired_time = temp.merge(acquired_companies, left_on = 'company_name', right_on = 'name')"
   ]
  },
  {
   "cell_type": "code",
   "execution_count": 36,
   "metadata": {},
   "outputs": [
    {
     "data": {
      "text/html": [
       "<div>\n",
       "<style scoped>\n",
       "    .dataframe tbody tr th:only-of-type {\n",
       "        vertical-align: middle;\n",
       "    }\n",
       "\n",
       "    .dataframe tbody tr th {\n",
       "        vertical-align: top;\n",
       "    }\n",
       "\n",
       "    .dataframe thead th {\n",
       "        text-align: right;\n",
       "    }\n",
       "</style>\n",
       "<table border=\"1\" class=\"dataframe\">\n",
       "  <thead>\n",
       "    <tr style=\"text-align: right;\">\n",
       "      <th></th>\n",
       "      <th>company_name</th>\n",
       "      <th>acquired_at</th>\n",
       "      <th>name</th>\n",
       "      <th>founded_at</th>\n",
       "    </tr>\n",
       "  </thead>\n",
       "  <tbody>\n",
       "    <tr>\n",
       "      <th>0</th>\n",
       "      <td>1010data</td>\n",
       "      <td>2015-08-03</td>\n",
       "      <td>1010data</td>\n",
       "      <td>2000-01-01</td>\n",
       "    </tr>\n",
       "    <tr>\n",
       "      <th>1</th>\n",
       "      <td>170 Systems</td>\n",
       "      <td>2009-09-08</td>\n",
       "      <td>170 Systems</td>\n",
       "      <td>1990-01-01</td>\n",
       "    </tr>\n",
       "    <tr>\n",
       "      <th>2</th>\n",
       "      <td>2nd Story Software, Inc.</td>\n",
       "      <td>2012-01-09</td>\n",
       "      <td>2nd Story Software, Inc.</td>\n",
       "      <td>1998-02-15</td>\n",
       "    </tr>\n",
       "    <tr>\n",
       "      <th>3</th>\n",
       "      <td>3PAR</td>\n",
       "      <td>2010-09-02</td>\n",
       "      <td>3PAR</td>\n",
       "      <td>1999-01-01</td>\n",
       "    </tr>\n",
       "    <tr>\n",
       "      <th>4</th>\n",
       "      <td>41st Parameter</td>\n",
       "      <td>2013-10-01</td>\n",
       "      <td>41st Parameter</td>\n",
       "      <td>2004-01-01</td>\n",
       "    </tr>\n",
       "  </tbody>\n",
       "</table>\n",
       "</div>"
      ],
      "text/plain": [
       "               company_name acquired_at                      name  founded_at\n",
       "0                  1010data  2015-08-03                  1010data  2000-01-01\n",
       "1               170 Systems  2009-09-08               170 Systems  1990-01-01\n",
       "2  2nd Story Software, Inc.  2012-01-09  2nd Story Software, Inc.  1998-02-15\n",
       "3                      3PAR  2010-09-02                      3PAR  1999-01-01\n",
       "4            41st Parameter  2013-10-01            41st Parameter  2004-01-01"
      ]
     },
     "execution_count": 36,
     "metadata": {},
     "output_type": "execute_result"
    }
   ],
   "source": [
    "acquired_time.head()"
   ]
  },
  {
   "cell_type": "code",
   "execution_count": 37,
   "metadata": {},
   "outputs": [],
   "source": [
    "years = acquired_time['acquired_at'].apply(lambda x: int(x[:4])) - acquired_time['founded_at'].apply(lambda x: int(x[:4]))"
   ]
  },
  {
   "cell_type": "code",
   "execution_count": 38,
   "metadata": {},
   "outputs": [
    {
     "data": {
      "text/plain": [
       "Text(0.5, 0, 'years')"
      ]
     },
     "execution_count": 38,
     "metadata": {},
     "output_type": "execute_result"
    },
    {
     "data": {
      "image/png": "[encoded data removed]",
      "text/plain": [
       "<Figure size 720x720 with 1 Axes>"
      ]
     },
     "metadata": {
      "needs_background": "light"
     },
     "output_type": "display_data"
    }
   ],
   "source": [
    "plt.figure(figsize = (10, 10))\n",
    "plt.hist(x = years, range = [0, 50])\n",
    "plt.title('How long did it take to acquire a company ?')\n",
    "plt.xlabel('years')"
   ]
  },
  {
   "cell_type": "markdown",
   "metadata": {},
   "source": [
    "**Based on the histogram, most startups were acquired in 10 years.**"
   ]
  },
  {
   "cell_type": "code",
   "execution_count": null,
   "metadata": {},
   "outputs": [],
   "source": []
  }
 ],
 "metadata": {
  "colab": {
   "authorship_tag": "ABX9TyOGy91vtBlVVrgjP2HYFccS",
   "collapsed_sections": [
    "ws5_YJqP891C"
   ],
   "mount_file_id": "1rz996I7vMS0bq9s6mgsxmM9kMXPXCMuB",
   "name": "Startups.ipynb",
   "provenance": []
  },
  "kernelspec": {
   "display_name": "Python 3",
   "language": "python",
   "name": "python3"
  },
  "language_info": {
   "codemirror_mode": {
    "name": "ipython",
    "version": 3
   },
   "file_extension": ".py",
   "mimetype": "text/x-python",
   "name": "python",
   "nbconvert_exporter": "python",
   "pygments_lexer": "ipython3",
   "version": "3.7.6"
  }
 },
 "nbformat": 4,
 "nbformat_minor": 4
}
