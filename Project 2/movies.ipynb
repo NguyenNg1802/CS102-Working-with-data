{
 "cells": [
  {
   "cell_type": "markdown",
   "metadata": {
    "colab_type": "text",
    "id": "p6D6Fvn7QZ2v"
   },
   "source": [
    "# Introduction\n",
    "The goal of the project is to use past movie ratings to predict how users will rate movies they haven't watched yet."
   ]
  },
  {
   "cell_type": "markdown",
   "metadata": {
    "colab_type": "text",
    "id": "UnaKado7Rc5P"
   },
   "source": [
    "## Data\n",
    "The data is a subset of the movie ratings data from [MovieLens](https://movielens.org). It includes:\n",
    "\n",
    "* **users.csv**: Information about 2353 movie watchers. Each line has three fields: userID, age (see notes below), gender (\"F\" or \"M\")\n",
    "\n",
    "* **movies.tsv**: Information about 1465 movies. Each line has six fields: movieID, name, year, genre1, genre2, genre3. If a movie has fewer than three genres the extra fields are blank.\n",
    "\n",
    "* **ratings.csv**: 31,620 movie ratings. Each line has three fields: userID, movieID, rating. The userID and movieID correspond to those in the users.csv and movies.tsv files, respectively. Ratings are integers in the range 1 to 5 (from worst to best).\n",
    "\n",
    "* **allData.tsv**: For those who prefer having everything in one place, this file contains the combined information from the previous three files. Each line has 10 fields: userID, age, gender, movieID, name, year, genre1, genre2, genre3, rating\n",
    "\n",
    "* **predict.csv**: Ratings for you to predict. Each line has three fields: userID, movieID, rating, with all ratings set initially to 0. There are no ratings for these userID-movieID pairs in ratings.csv."
   ]
  },
  {
   "cell_type": "markdown",
   "metadata": {
    "colab_type": "text",
    "id": "zLDYAM4pTQ6j"
   },
   "source": [
    "## Import packages"
   ]
  },
  {
   "cell_type": "code",
   "execution_count": 1,
   "metadata": {
    "colab": {
     "base_uri": "https://localhost:8080/",
     "height": 71
    },
    "colab_type": "code",
    "executionInfo": {
     "elapsed": 1573,
     "status": "ok",
     "timestamp": 1598461002942,
     "user": {
      "displayName": "Nguyên Nguyễn",
      "photoUrl": "https://lh3.googleusercontent.com/a-/AOh14GiMHvxYop1LpkbTw_vqb4NBqwe2UWThSHl9_s48=s64",
      "userId": "12488776910510095947"
     },
     "user_tz": -420
    },
    "id": "V0lzjdz9lfZY",
    "outputId": "352ba89d-6736-480a-d23b-c3211dafd520"
   },
   "outputs": [
    {
     "name": "stderr",
     "output_type": "stream",
     "text": [
      "/usr/local/lib/python3.6/dist-packages/statsmodels/tools/_testing.py:19: FutureWarning: pandas.util.testing is deprecated. Use the functions in the public API at pandas.testing instead.\n",
      "  import pandas.util.testing as tm\n"
     ]
    }
   ],
   "source": [
    "import pandas as pd\n",
    "import numpy as np\n",
    "import seaborn as sns\n",
    "import matplotlib.pyplot as plt\n",
    "import matplotlib.patches as mpatches\n",
    "\n",
    "from xgboost import XGBRegressor\n",
    "from sklearn.linear_model import LinearRegression\n",
    "from sklearn import metrics\n",
    "from sklearn.model_selection import train_test_split\n",
    "from sklearn.metrics import accuracy_score\n",
    "\n",
    "%matplotlib inline"
   ]
  },
  {
   "cell_type": "markdown",
   "metadata": {
    "colab_type": "text",
    "id": "klIDGpI2TcTX"
   },
   "source": [
    "## Load data"
   ]
  },
  {
   "cell_type": "code",
   "execution_count": 2,
   "metadata": {
    "colab": {},
    "colab_type": "code",
    "executionInfo": {
     "elapsed": 6597,
     "status": "ok",
     "timestamp": 1598461007990,
     "user": {
      "displayName": "Nguyên Nguyễn",
      "photoUrl": "https://lh3.googleusercontent.com/a-/AOh14GiMHvxYop1LpkbTw_vqb4NBqwe2UWThSHl9_s48=s64",
      "userId": "12488776910510095947"
     },
     "user_tz": -420
    },
    "id": "ZglYwSyTTe7U"
   },
   "outputs": [],
   "source": [
    "users = pd.read_csv('/content/drive/My Drive/Online Courses/CS102: Working with data/Project 2/Data/users.csv')\n",
    "ratings = pd.read_csv('/content/drive/My Drive/Online Courses/CS102: Working with data/Project 2/Data/ratings.csv')\n",
    "movies = pd.read_csv('/content/drive/My Drive/Online Courses/CS102: Working with data/Project 2/Data/movies.tsv', sep = '\\t')"
   ]
  },
  {
   "cell_type": "markdown",
   "metadata": {
    "colab_type": "text",
    "id": "F-IBCAGaWjSP"
   },
   "source": [
    "# Data Cleaning"
   ]
  },
  {
   "cell_type": "markdown",
   "metadata": {
    "colab_type": "text",
    "id": "zhTC5C8VYN3w"
   },
   "source": [
    "## Users data"
   ]
  },
  {
   "cell_type": "code",
   "execution_count": 3,
   "metadata": {
    "colab": {
     "base_uri": "https://localhost:8080/",
     "height": 204
    },
    "colab_type": "code",
    "executionInfo": {
     "elapsed": 6594,
     "status": "ok",
     "timestamp": 1598461007994,
     "user": {
      "displayName": "Nguyên Nguyễn",
      "photoUrl": "https://lh3.googleusercontent.com/a-/AOh14GiMHvxYop1LpkbTw_vqb4NBqwe2UWThSHl9_s48=s64",
      "userId": "12488776910510095947"
     },
     "user_tz": -420
    },
    "id": "KNfeLq7cXr1V",
    "outputId": "73b78a7a-719b-4c90-b359-3bd0be22f315"
   },
   "outputs": [
    {
     "data": {
      "text/html": [
       "<div>\n",
       "<style scoped>\n",
       "    .dataframe tbody tr th:only-of-type {\n",
       "        vertical-align: middle;\n",
       "    }\n",
       "\n",
       "    .dataframe tbody tr th {\n",
       "        vertical-align: top;\n",
       "    }\n",
       "\n",
       "    .dataframe thead th {\n",
       "        text-align: right;\n",
       "    }\n",
       "</style>\n",
       "<table border=\"1\" class=\"dataframe\">\n",
       "  <thead>\n",
       "    <tr style=\"text-align: right;\">\n",
       "      <th></th>\n",
       "      <th>userID</th>\n",
       "      <th>age</th>\n",
       "      <th>gender</th>\n",
       "    </tr>\n",
       "  </thead>\n",
       "  <tbody>\n",
       "    <tr>\n",
       "      <th>0</th>\n",
       "      <td>4</td>\n",
       "      <td>25</td>\n",
       "      <td>M</td>\n",
       "    </tr>\n",
       "    <tr>\n",
       "      <th>1</th>\n",
       "      <td>5</td>\n",
       "      <td>56</td>\n",
       "      <td>M</td>\n",
       "    </tr>\n",
       "    <tr>\n",
       "      <th>2</th>\n",
       "      <td>6</td>\n",
       "      <td>50</td>\n",
       "      <td>M</td>\n",
       "    </tr>\n",
       "    <tr>\n",
       "      <th>3</th>\n",
       "      <td>15</td>\n",
       "      <td>45</td>\n",
       "      <td>M</td>\n",
       "    </tr>\n",
       "    <tr>\n",
       "      <th>4</th>\n",
       "      <td>17</td>\n",
       "      <td>25</td>\n",
       "      <td>F</td>\n",
       "    </tr>\n",
       "  </tbody>\n",
       "</table>\n",
       "</div>"
      ],
      "text/plain": [
       "   userID  age gender\n",
       "0       4   25      M\n",
       "1       5   56      M\n",
       "2       6   50      M\n",
       "3      15   45      M\n",
       "4      17   25      F"
      ]
     },
     "execution_count": 3,
     "metadata": {
      "tags": []
     },
     "output_type": "execute_result"
    }
   ],
   "source": [
    "# Use the head() function to get a quick look at the data \n",
    "users.head()"
   ]
  },
  {
   "cell_type": "code",
   "execution_count": 4,
   "metadata": {
    "colab": {
     "base_uri": "https://localhost:8080/",
     "height": 187
    },
    "colab_type": "code",
    "executionInfo": {
     "elapsed": 6574,
     "status": "ok",
     "timestamp": 1598461007995,
     "user": {
      "displayName": "Nguyên Nguyễn",
      "photoUrl": "https://lh3.googleusercontent.com/a-/AOh14GiMHvxYop1LpkbTw_vqb4NBqwe2UWThSHl9_s48=s64",
      "userId": "12488776910510095947"
     },
     "user_tz": -420
    },
    "id": "J9BhDffqX5ef",
    "outputId": "543c2806-34d8-4e3b-c2ae-d720ec1c9722"
   },
   "outputs": [
    {
     "name": "stdout",
     "output_type": "stream",
     "text": [
      "<class 'pandas.core.frame.DataFrame'>\n",
      "RangeIndex: 2353 entries, 0 to 2352\n",
      "Data columns (total 3 columns):\n",
      " #   Column  Non-Null Count  Dtype \n",
      "---  ------  --------------  ----- \n",
      " 0   userID  2353 non-null   int64 \n",
      " 1   age     2353 non-null   int64 \n",
      " 2   gender  2353 non-null   object\n",
      "dtypes: int64(2), object(1)\n",
      "memory usage: 55.3+ KB\n"
     ]
    }
   ],
   "source": [
    "# Brief infomation about data\n",
    "users.info()"
   ]
  },
  {
   "cell_type": "markdown",
   "metadata": {
    "colab_type": "text",
    "id": "gsMJgSQJYf1x"
   },
   "source": [
    "**No missing values in users data**"
   ]
  },
  {
   "cell_type": "markdown",
   "metadata": {
    "colab_type": "text",
    "id": "IhJ0XCF1YsRs"
   },
   "source": [
    "## Movies data"
   ]
  },
  {
   "cell_type": "code",
   "execution_count": 5,
   "metadata": {
    "colab": {
     "base_uri": "https://localhost:8080/",
     "height": 204
    },
    "colab_type": "code",
    "executionInfo": {
     "elapsed": 6555,
     "status": "ok",
     "timestamp": 1598461007996,
     "user": {
      "displayName": "Nguyên Nguyễn",
      "photoUrl": "https://lh3.googleusercontent.com/a-/AOh14GiMHvxYop1LpkbTw_vqb4NBqwe2UWThSHl9_s48=s64",
      "userId": "12488776910510095947"
     },
     "user_tz": -420
    },
    "id": "nQq6Wru6X_AJ",
    "outputId": "cd6be184-f792-4d0f-85a5-6f70f6d3acc2"
   },
   "outputs": [
    {
     "data": {
      "text/html": [
       "<div>\n",
       "<style scoped>\n",
       "    .dataframe tbody tr th:only-of-type {\n",
       "        vertical-align: middle;\n",
       "    }\n",
       "\n",
       "    .dataframe tbody tr th {\n",
       "        vertical-align: top;\n",
       "    }\n",
       "\n",
       "    .dataframe thead th {\n",
       "        text-align: right;\n",
       "    }\n",
       "</style>\n",
       "<table border=\"1\" class=\"dataframe\">\n",
       "  <thead>\n",
       "    <tr style=\"text-align: right;\">\n",
       "      <th></th>\n",
       "      <th>movieID</th>\n",
       "      <th>name</th>\n",
       "      <th>year</th>\n",
       "      <th>genre1</th>\n",
       "      <th>genre2</th>\n",
       "      <th>genre3</th>\n",
       "    </tr>\n",
       "  </thead>\n",
       "  <tbody>\n",
       "    <tr>\n",
       "      <th>0</th>\n",
       "      <td>1</td>\n",
       "      <td>Toy Story</td>\n",
       "      <td>1995</td>\n",
       "      <td>Animation</td>\n",
       "      <td>Children's</td>\n",
       "      <td>Comedy</td>\n",
       "    </tr>\n",
       "    <tr>\n",
       "      <th>1</th>\n",
       "      <td>2</td>\n",
       "      <td>Jumanji</td>\n",
       "      <td>1995</td>\n",
       "      <td>Adventure</td>\n",
       "      <td>Children's</td>\n",
       "      <td>Fantasy</td>\n",
       "    </tr>\n",
       "    <tr>\n",
       "      <th>2</th>\n",
       "      <td>3</td>\n",
       "      <td>Grumpier Old Men</td>\n",
       "      <td>1995</td>\n",
       "      <td>Comedy</td>\n",
       "      <td>Romance</td>\n",
       "      <td>NaN</td>\n",
       "    </tr>\n",
       "    <tr>\n",
       "      <th>3</th>\n",
       "      <td>4</td>\n",
       "      <td>Waiting to Exhale</td>\n",
       "      <td>1995</td>\n",
       "      <td>Comedy</td>\n",
       "      <td>Drama</td>\n",
       "      <td>NaN</td>\n",
       "    </tr>\n",
       "    <tr>\n",
       "      <th>4</th>\n",
       "      <td>5</td>\n",
       "      <td>Father of the Bride Part II</td>\n",
       "      <td>1995</td>\n",
       "      <td>Comedy</td>\n",
       "      <td>NaN</td>\n",
       "      <td>NaN</td>\n",
       "    </tr>\n",
       "  </tbody>\n",
       "</table>\n",
       "</div>"
      ],
      "text/plain": [
       "   movieID                          name  year     genre1      genre2   genre3\n",
       "0        1                    Toy Story   1995  Animation  Children's   Comedy\n",
       "1        2                      Jumanji   1995  Adventure  Children's  Fantasy\n",
       "2        3             Grumpier Old Men   1995     Comedy     Romance      NaN\n",
       "3        4            Waiting to Exhale   1995     Comedy       Drama      NaN\n",
       "4        5  Father of the Bride Part II   1995     Comedy         NaN      NaN"
      ]
     },
     "execution_count": 5,
     "metadata": {
      "tags": []
     },
     "output_type": "execute_result"
    }
   ],
   "source": [
    "# Use the head() function to get a quick look at the data \n",
    "movies.head()"
   ]
  },
  {
   "cell_type": "code",
   "execution_count": 6,
   "metadata": {
    "colab": {
     "base_uri": "https://localhost:8080/",
     "height": 238
    },
    "colab_type": "code",
    "executionInfo": {
     "elapsed": 6536,
     "status": "ok",
     "timestamp": 1598461007997,
     "user": {
      "displayName": "Nguyên Nguyễn",
      "photoUrl": "https://lh3.googleusercontent.com/a-/AOh14GiMHvxYop1LpkbTw_vqb4NBqwe2UWThSHl9_s48=s64",
      "userId": "12488776910510095947"
     },
     "user_tz": -420
    },
    "id": "6GDbe11YZNN5",
    "outputId": "07da2cc0-7062-4847-8957-aa33d43d62a9"
   },
   "outputs": [
    {
     "name": "stdout",
     "output_type": "stream",
     "text": [
      "<class 'pandas.core.frame.DataFrame'>\n",
      "RangeIndex: 1465 entries, 0 to 1464\n",
      "Data columns (total 6 columns):\n",
      " #   Column   Non-Null Count  Dtype \n",
      "---  ------   --------------  ----- \n",
      " 0   movieID  1465 non-null   int64 \n",
      " 1   name     1465 non-null   object\n",
      " 2   year     1465 non-null   int64 \n",
      " 3   genre1   1465 non-null   object\n",
      " 4   genre2   871 non-null    object\n",
      " 5   genre3   299 non-null    object\n",
      "dtypes: int64(2), object(4)\n",
      "memory usage: 68.8+ KB\n"
     ]
    }
   ],
   "source": [
    "# Brief infomation about data\n",
    "movies.info()"
   ]
  },
  {
   "cell_type": "markdown",
   "metadata": {
    "colab_type": "text",
    "id": "QjbOgYM1aLZn"
   },
   "source": [
    "**There are missing values in genre columns. However, these NaN values doesn't need to be deleted.**"
   ]
  },
  {
   "cell_type": "markdown",
   "metadata": {
    "colab_type": "text",
    "id": "XipXccD-f8hj"
   },
   "source": [
    "## Ratings data"
   ]
  },
  {
   "cell_type": "code",
   "execution_count": 7,
   "metadata": {
    "colab": {
     "base_uri": "https://localhost:8080/",
     "height": 204
    },
    "colab_type": "code",
    "executionInfo": {
     "elapsed": 6517,
     "status": "ok",
     "timestamp": 1598461007998,
     "user": {
      "displayName": "Nguyên Nguyễn",
      "photoUrl": "https://lh3.googleusercontent.com/a-/AOh14GiMHvxYop1LpkbTw_vqb4NBqwe2UWThSHl9_s48=s64",
      "userId": "12488776910510095947"
     },
     "user_tz": -420
    },
    "id": "EsvYYqQaZcZr",
    "outputId": "fc868577-45cf-490b-8ace-83a15c9082dc"
   },
   "outputs": [
    {
     "data": {
      "text/html": [
       "<div>\n",
       "<style scoped>\n",
       "    .dataframe tbody tr th:only-of-type {\n",
       "        vertical-align: middle;\n",
       "    }\n",
       "\n",
       "    .dataframe tbody tr th {\n",
       "        vertical-align: top;\n",
       "    }\n",
       "\n",
       "    .dataframe thead th {\n",
       "        text-align: right;\n",
       "    }\n",
       "</style>\n",
       "<table border=\"1\" class=\"dataframe\">\n",
       "  <thead>\n",
       "    <tr style=\"text-align: right;\">\n",
       "      <th></th>\n",
       "      <th>userID</th>\n",
       "      <th>movieID</th>\n",
       "      <th>rating</th>\n",
       "    </tr>\n",
       "  </thead>\n",
       "  <tbody>\n",
       "    <tr>\n",
       "      <th>0</th>\n",
       "      <td>747</td>\n",
       "      <td>1193</td>\n",
       "      <td>5</td>\n",
       "    </tr>\n",
       "    <tr>\n",
       "      <th>1</th>\n",
       "      <td>747</td>\n",
       "      <td>661</td>\n",
       "      <td>3</td>\n",
       "    </tr>\n",
       "    <tr>\n",
       "      <th>2</th>\n",
       "      <td>747</td>\n",
       "      <td>2804</td>\n",
       "      <td>5</td>\n",
       "    </tr>\n",
       "    <tr>\n",
       "      <th>3</th>\n",
       "      <td>747</td>\n",
       "      <td>919</td>\n",
       "      <td>4</td>\n",
       "    </tr>\n",
       "    <tr>\n",
       "      <th>4</th>\n",
       "      <td>747</td>\n",
       "      <td>2791</td>\n",
       "      <td>4</td>\n",
       "    </tr>\n",
       "  </tbody>\n",
       "</table>\n",
       "</div>"
      ],
      "text/plain": [
       "   userID  movieID  rating\n",
       "0     747     1193       5\n",
       "1     747      661       3\n",
       "2     747     2804       5\n",
       "3     747      919       4\n",
       "4     747     2791       4"
      ]
     },
     "execution_count": 7,
     "metadata": {
      "tags": []
     },
     "output_type": "execute_result"
    }
   ],
   "source": [
    "# Use the head() function to get a quick look at the data \n",
    "ratings.head()"
   ]
  },
  {
   "cell_type": "code",
   "execution_count": 8,
   "metadata": {
    "colab": {
     "base_uri": "https://localhost:8080/",
     "height": 187
    },
    "colab_type": "code",
    "executionInfo": {
     "elapsed": 6498,
     "status": "ok",
     "timestamp": 1598461007999,
     "user": {
      "displayName": "Nguyên Nguyễn",
      "photoUrl": "https://lh3.googleusercontent.com/a-/AOh14GiMHvxYop1LpkbTw_vqb4NBqwe2UWThSHl9_s48=s64",
      "userId": "12488776910510095947"
     },
     "user_tz": -420
    },
    "id": "rxhzvDT0jMwi",
    "outputId": "e0e3cdcc-2a38-4c0b-e93c-8badd2c7e909"
   },
   "outputs": [
    {
     "name": "stdout",
     "output_type": "stream",
     "text": [
      "<class 'pandas.core.frame.DataFrame'>\n",
      "RangeIndex: 31620 entries, 0 to 31619\n",
      "Data columns (total 3 columns):\n",
      " #   Column   Non-Null Count  Dtype\n",
      "---  ------   --------------  -----\n",
      " 0   userID   31620 non-null  int64\n",
      " 1   movieID  31620 non-null  int64\n",
      " 2   rating   31620 non-null  int64\n",
      "dtypes: int64(3)\n",
      "memory usage: 741.2 KB\n"
     ]
    }
   ],
   "source": [
    "# Brief infomation about data\n",
    "ratings.info()"
   ]
  },
  {
   "cell_type": "markdown",
   "metadata": {
    "colab_type": "text",
    "id": "iKQiUR3UglFk"
   },
   "source": [
    "**No missing values in ratings data**"
   ]
  },
  {
   "cell_type": "markdown",
   "metadata": {
    "colab_type": "text",
    "id": "V80lcwVDgd0F"
   },
   "source": [
    "# Exploratory Data Analysis"
   ]
  },
  {
   "cell_type": "markdown",
   "metadata": {
    "colab_type": "text",
    "id": "R6j51fX-hp7R"
   },
   "source": [
    "## 1) How was the age distributed ?"
   ]
  },
  {
   "cell_type": "code",
   "execution_count": 9,
   "metadata": {
    "colab": {
     "base_uri": "https://localhost:8080/",
     "height": 638
    },
    "colab_type": "code",
    "executionInfo": {
     "elapsed": 7261,
     "status": "ok",
     "timestamp": 1598461008784,
     "user": {
      "displayName": "Nguyên Nguyễn",
      "photoUrl": "https://lh3.googleusercontent.com/a-/AOh14GiMHvxYop1LpkbTw_vqb4NBqwe2UWThSHl9_s48=s64",
      "userId": "12488776910510095947"
     },
     "user_tz": -420
    },
    "id": "tXs00RZxgSNC",
    "outputId": "c0c58572-843a-4c34-b99f-7341d62a0181"
   },
   "outputs": [
    {
     "data": {
      "text/plain": [
       "Text(0.5, 0, 'Age')"
      ]
     },
     "execution_count": 9,
     "metadata": {
      "tags": []
     },
     "output_type": "execute_result"
    },
    {
     "data": {
      "image/png": "[encoded data removed]",
      "text/plain": [
       "<Figure size 720x720 with 1 Axes>"
      ]
     },
     "metadata": {
      "needs_background": "light",
      "tags": []
     },
     "output_type": "display_data"
    }
   ],
   "source": [
    "plt.figure(figsize = (10, 10))\n",
    "sns.kdeplot(users['age'], shade = True)\n",
    "plt.title('Age distribution')\n",
    "plt.xlabel('Age')"
   ]
  },
  {
   "cell_type": "markdown",
   "metadata": {
    "colab_type": "text",
    "id": "dd8qIWy3lATD"
   },
   "source": [
    "## 2) What are the types of movie ?"
   ]
  },
  {
   "cell_type": "code",
   "execution_count": 10,
   "metadata": {
    "colab": {
     "base_uri": "https://localhost:8080/",
     "height": 85
    },
    "colab_type": "code",
    "executionInfo": {
     "elapsed": 7242,
     "status": "ok",
     "timestamp": 1598461008785,
     "user": {
      "displayName": "Nguyên Nguyễn",
      "photoUrl": "https://lh3.googleusercontent.com/a-/AOh14GiMHvxYop1LpkbTw_vqb4NBqwe2UWThSHl9_s48=s64",
      "userId": "12488776910510095947"
     },
     "user_tz": -420
    },
    "id": "K8g_Pk56lRj_",
    "outputId": "96b20b7a-b6fd-4e21-f323-ab150c731d89"
   },
   "outputs": [
    {
     "data": {
      "text/plain": [
       "array(['Animation', 'Adventure', 'Comedy', 'Action', 'Drama', 'Romance',\n",
       "       \"Children's\", 'Crime', 'Documentary', 'Thriller', 'Horror',\n",
       "       'Western', 'Mystery', 'Film-Noir', 'Sci-Fi', 'Musical', 'War'],\n",
       "      dtype=object)"
      ]
     },
     "execution_count": 10,
     "metadata": {
      "tags": []
     },
     "output_type": "execute_result"
    }
   ],
   "source": [
    "movies['genre1'].unique()"
   ]
  },
  {
   "cell_type": "markdown",
   "metadata": {
    "colab_type": "text",
    "id": "xI9mYnqalbAx"
   },
   "source": [
    "## 3) What is the percentage of each movie type in movies data ?"
   ]
  },
  {
   "cell_type": "code",
   "execution_count": 11,
   "metadata": {
    "colab": {
     "base_uri": "https://localhost:8080/",
     "height": 607
    },
    "colab_type": "code",
    "executionInfo": {
     "elapsed": 7221,
     "status": "ok",
     "timestamp": 1598461008786,
     "user": {
      "displayName": "Nguyên Nguyễn",
      "photoUrl": "https://lh3.googleusercontent.com/a-/AOh14GiMHvxYop1LpkbTw_vqb4NBqwe2UWThSHl9_s48=s64",
      "userId": "12488776910510095947"
     },
     "user_tz": -420
    },
    "id": "yquWQ9k2lSOh",
    "outputId": "52145014-a20b-426c-8a92-f059fd004d63"
   },
   "outputs": [
    {
     "data": {
      "text/html": [
       "<div>\n",
       "<style scoped>\n",
       "    .dataframe tbody tr th:only-of-type {\n",
       "        vertical-align: middle;\n",
       "    }\n",
       "\n",
       "    .dataframe tbody tr th {\n",
       "        vertical-align: top;\n",
       "    }\n",
       "\n",
       "    .dataframe thead th {\n",
       "        text-align: right;\n",
       "    }\n",
       "</style>\n",
       "<table border=\"1\" class=\"dataframe\">\n",
       "  <thead>\n",
       "    <tr style=\"text-align: right;\">\n",
       "      <th></th>\n",
       "      <th>Percentage</th>\n",
       "    </tr>\n",
       "    <tr>\n",
       "      <th>genre1</th>\n",
       "      <th></th>\n",
       "    </tr>\n",
       "  </thead>\n",
       "  <tbody>\n",
       "    <tr>\n",
       "      <th>Action</th>\n",
       "      <td>0.157679</td>\n",
       "    </tr>\n",
       "    <tr>\n",
       "      <th>Adventure</th>\n",
       "      <td>0.052560</td>\n",
       "    </tr>\n",
       "    <tr>\n",
       "      <th>Animation</th>\n",
       "      <td>0.035495</td>\n",
       "    </tr>\n",
       "    <tr>\n",
       "      <th>Children's</th>\n",
       "      <td>0.028669</td>\n",
       "    </tr>\n",
       "    <tr>\n",
       "      <th>Comedy</th>\n",
       "      <td>0.301706</td>\n",
       "    </tr>\n",
       "    <tr>\n",
       "      <th>Crime</th>\n",
       "      <td>0.034812</td>\n",
       "    </tr>\n",
       "    <tr>\n",
       "      <th>Documentary</th>\n",
       "      <td>0.015700</td>\n",
       "    </tr>\n",
       "    <tr>\n",
       "      <th>Drama</th>\n",
       "      <td>0.245051</td>\n",
       "    </tr>\n",
       "    <tr>\n",
       "      <th>Film-Noir</th>\n",
       "      <td>0.008874</td>\n",
       "    </tr>\n",
       "    <tr>\n",
       "      <th>Horror</th>\n",
       "      <td>0.055973</td>\n",
       "    </tr>\n",
       "    <tr>\n",
       "      <th>Musical</th>\n",
       "      <td>0.004096</td>\n",
       "    </tr>\n",
       "    <tr>\n",
       "      <th>Mystery</th>\n",
       "      <td>0.011604</td>\n",
       "    </tr>\n",
       "    <tr>\n",
       "      <th>Romance</th>\n",
       "      <td>0.005461</td>\n",
       "    </tr>\n",
       "    <tr>\n",
       "      <th>Sci-Fi</th>\n",
       "      <td>0.007509</td>\n",
       "    </tr>\n",
       "    <tr>\n",
       "      <th>Thriller</th>\n",
       "      <td>0.027304</td>\n",
       "    </tr>\n",
       "    <tr>\n",
       "      <th>War</th>\n",
       "      <td>0.001365</td>\n",
       "    </tr>\n",
       "    <tr>\n",
       "      <th>Western</th>\n",
       "      <td>0.006143</td>\n",
       "    </tr>\n",
       "  </tbody>\n",
       "</table>\n",
       "</div>"
      ],
      "text/plain": [
       "             Percentage\n",
       "genre1                 \n",
       "Action         0.157679\n",
       "Adventure      0.052560\n",
       "Animation      0.035495\n",
       "Children's     0.028669\n",
       "Comedy         0.301706\n",
       "Crime          0.034812\n",
       "Documentary    0.015700\n",
       "Drama          0.245051\n",
       "Film-Noir      0.008874\n",
       "Horror         0.055973\n",
       "Musical        0.004096\n",
       "Mystery        0.011604\n",
       "Romance        0.005461\n",
       "Sci-Fi         0.007509\n",
       "Thriller       0.027304\n",
       "War            0.001365\n",
       "Western        0.006143"
      ]
     },
     "execution_count": 11,
     "metadata": {
      "tags": []
     },
     "output_type": "execute_result"
    }
   ],
   "source": [
    "movie_percent = movies[['movieID', 'genre1']].groupby(['genre1']).count().apply(lambda x: x/x.sum()).rename(columns={'movieID': 'Percentage'})\n",
    "movie_percent"
   ]
  },
  {
   "cell_type": "code",
   "execution_count": 12,
   "metadata": {
    "colab": {
     "base_uri": "https://localhost:8080/",
     "height": 662
    },
    "colab_type": "code",
    "executionInfo": {
     "elapsed": 8382,
     "status": "ok",
     "timestamp": 1598461009968,
     "user": {
      "displayName": "Nguyên Nguyễn",
      "photoUrl": "https://lh3.googleusercontent.com/a-/AOh14GiMHvxYop1LpkbTw_vqb4NBqwe2UWThSHl9_s48=s64",
      "userId": "12488776910510095947"
     },
     "user_tz": -420
    },
    "id": "MjbmQqqvnnRM",
    "outputId": "50add57d-d6ec-4e7f-ffa7-fda1e28df7e3"
   },
   "outputs": [
    {
     "name": "stderr",
     "output_type": "stream",
     "text": [
      "/usr/local/lib/python3.6/dist-packages/ipykernel_launcher.py:2: MatplotlibDeprecationWarning: Non-1D inputs to pie() are currently squeeze()d, but this behavior is deprecated since 3.1 and will be removed in 3.3; pass a 1D array instead.\n",
      "  \n"
     ]
    },
    {
     "data": {
      "text/plain": [
       "<matplotlib.legend.Legend at 0x7f0bf65802e8>"
      ]
     },
     "execution_count": 12,
     "metadata": {
      "tags": []
     },
     "output_type": "execute_result"
    },
    {
     "data": {
      "image/png": "[encoded data removed]",
      "text/plain": [
       "<Figure size 720x720 with 1 Axes>"
      ]
     },
     "metadata": {
      "tags": []
     },
     "output_type": "display_data"
    }
   ],
   "source": [
    "plt.figure(figsize = (10, 10))\n",
    "plt.pie(x = movie_percent, autopct='%1.1f%%', labels = movie_percent.index)\n",
    "plt.title('Movie distribution')\n",
    "plt.legend(labels = movie_percent.index,  bbox_to_anchor=(1, 1))"
   ]
  },
  {
   "cell_type": "markdown",
   "metadata": {
    "colab_type": "text",
    "id": "ggRms4YnsX5E"
   },
   "source": [
    "## 4) Which was the best Action movie (based on average ratings)?"
   ]
  },
  {
   "cell_type": "code",
   "execution_count": 13,
   "metadata": {
    "colab": {
     "base_uri": "https://localhost:8080/",
     "height": 204
    },
    "colab_type": "code",
    "executionInfo": {
     "elapsed": 8364,
     "status": "ok",
     "timestamp": 1598461009970,
     "user": {
      "displayName": "Nguyên Nguyễn",
      "photoUrl": "https://lh3.googleusercontent.com/a-/AOh14GiMHvxYop1LpkbTw_vqb4NBqwe2UWThSHl9_s48=s64",
      "userId": "12488776910510095947"
     },
     "user_tz": -420
    },
    "id": "5jRguJqny4Di",
    "outputId": "533c7d70-c699-4196-b00e-6a54da4112b1"
   },
   "outputs": [
    {
     "data": {
      "text/html": [
       "<div>\n",
       "<style scoped>\n",
       "    .dataframe tbody tr th:only-of-type {\n",
       "        vertical-align: middle;\n",
       "    }\n",
       "\n",
       "    .dataframe tbody tr th {\n",
       "        vertical-align: top;\n",
       "    }\n",
       "\n",
       "    .dataframe thead th {\n",
       "        text-align: right;\n",
       "    }\n",
       "</style>\n",
       "<table border=\"1\" class=\"dataframe\">\n",
       "  <thead>\n",
       "    <tr style=\"text-align: right;\">\n",
       "      <th></th>\n",
       "      <th>movieID</th>\n",
       "      <th>name</th>\n",
       "      <th>year</th>\n",
       "      <th>genre1</th>\n",
       "      <th>genre2</th>\n",
       "      <th>genre3</th>\n",
       "      <th>userID</th>\n",
       "      <th>rating</th>\n",
       "    </tr>\n",
       "  </thead>\n",
       "  <tbody>\n",
       "    <tr>\n",
       "      <th>0</th>\n",
       "      <td>1</td>\n",
       "      <td>Toy Story</td>\n",
       "      <td>1995</td>\n",
       "      <td>Animation</td>\n",
       "      <td>Children's</td>\n",
       "      <td>Comedy</td>\n",
       "      <td>3073</td>\n",
       "      <td>5</td>\n",
       "    </tr>\n",
       "    <tr>\n",
       "      <th>1</th>\n",
       "      <td>1</td>\n",
       "      <td>Toy Story</td>\n",
       "      <td>1995</td>\n",
       "      <td>Animation</td>\n",
       "      <td>Children's</td>\n",
       "      <td>Comedy</td>\n",
       "      <td>4890</td>\n",
       "      <td>2</td>\n",
       "    </tr>\n",
       "    <tr>\n",
       "      <th>2</th>\n",
       "      <td>1</td>\n",
       "      <td>Toy Story</td>\n",
       "      <td>1995</td>\n",
       "      <td>Animation</td>\n",
       "      <td>Children's</td>\n",
       "      <td>Comedy</td>\n",
       "      <td>5125</td>\n",
       "      <td>4</td>\n",
       "    </tr>\n",
       "    <tr>\n",
       "      <th>3</th>\n",
       "      <td>1</td>\n",
       "      <td>Toy Story</td>\n",
       "      <td>1995</td>\n",
       "      <td>Animation</td>\n",
       "      <td>Children's</td>\n",
       "      <td>Comedy</td>\n",
       "      <td>70</td>\n",
       "      <td>5</td>\n",
       "    </tr>\n",
       "    <tr>\n",
       "      <th>4</th>\n",
       "      <td>1</td>\n",
       "      <td>Toy Story</td>\n",
       "      <td>1995</td>\n",
       "      <td>Animation</td>\n",
       "      <td>Children's</td>\n",
       "      <td>Comedy</td>\n",
       "      <td>2948</td>\n",
       "      <td>4</td>\n",
       "    </tr>\n",
       "  </tbody>\n",
       "</table>\n",
       "</div>"
      ],
      "text/plain": [
       "   movieID        name  year     genre1      genre2  genre3  userID  rating\n",
       "0        1  Toy Story   1995  Animation  Children's  Comedy    3073       5\n",
       "1        1  Toy Story   1995  Animation  Children's  Comedy    4890       2\n",
       "2        1  Toy Story   1995  Animation  Children's  Comedy    5125       4\n",
       "3        1  Toy Story   1995  Animation  Children's  Comedy      70       5\n",
       "4        1  Toy Story   1995  Animation  Children's  Comedy    2948       4"
      ]
     },
     "execution_count": 13,
     "metadata": {
      "tags": []
     },
     "output_type": "execute_result"
    }
   ],
   "source": [
    "pd.merge(movies, ratings, how='inner', on = 'movieID').head()"
   ]
  },
  {
   "cell_type": "code",
   "execution_count": 14,
   "metadata": {
    "colab": {
     "base_uri": "https://localhost:8080/",
     "height": 204
    },
    "colab_type": "code",
    "executionInfo": {
     "elapsed": 8344,
     "status": "ok",
     "timestamp": 1598461009971,
     "user": {
      "displayName": "Nguyên Nguyễn",
      "photoUrl": "https://lh3.googleusercontent.com/a-/AOh14GiMHvxYop1LpkbTw_vqb4NBqwe2UWThSHl9_s48=s64",
      "userId": "12488776910510095947"
     },
     "user_tz": -420
    },
    "id": "RPZ5UonEy9O-",
    "outputId": "6927822e-d3f9-48e3-d326-7d6a1ba40cbe"
   },
   "outputs": [
    {
     "data": {
      "text/html": [
       "<div>\n",
       "<style scoped>\n",
       "    .dataframe tbody tr th:only-of-type {\n",
       "        vertical-align: middle;\n",
       "    }\n",
       "\n",
       "    .dataframe tbody tr th {\n",
       "        vertical-align: top;\n",
       "    }\n",
       "\n",
       "    .dataframe thead th {\n",
       "        text-align: right;\n",
       "    }\n",
       "</style>\n",
       "<table border=\"1\" class=\"dataframe\">\n",
       "  <thead>\n",
       "    <tr style=\"text-align: right;\">\n",
       "      <th></th>\n",
       "      <th>movieID</th>\n",
       "      <th>name</th>\n",
       "      <th>year</th>\n",
       "      <th>genre1</th>\n",
       "      <th>genre2</th>\n",
       "      <th>genre3</th>\n",
       "      <th>userID</th>\n",
       "      <th>rating</th>\n",
       "    </tr>\n",
       "  </thead>\n",
       "  <tbody>\n",
       "    <tr>\n",
       "      <th>0</th>\n",
       "      <td>1</td>\n",
       "      <td>Toy Story</td>\n",
       "      <td>1995</td>\n",
       "      <td>Animation</td>\n",
       "      <td>Children's</td>\n",
       "      <td>Comedy</td>\n",
       "      <td>3073</td>\n",
       "      <td>5</td>\n",
       "    </tr>\n",
       "    <tr>\n",
       "      <th>1</th>\n",
       "      <td>1</td>\n",
       "      <td>Toy Story</td>\n",
       "      <td>1995</td>\n",
       "      <td>Animation</td>\n",
       "      <td>Children's</td>\n",
       "      <td>Comedy</td>\n",
       "      <td>4890</td>\n",
       "      <td>2</td>\n",
       "    </tr>\n",
       "    <tr>\n",
       "      <th>2</th>\n",
       "      <td>1</td>\n",
       "      <td>Toy Story</td>\n",
       "      <td>1995</td>\n",
       "      <td>Animation</td>\n",
       "      <td>Children's</td>\n",
       "      <td>Comedy</td>\n",
       "      <td>5125</td>\n",
       "      <td>4</td>\n",
       "    </tr>\n",
       "    <tr>\n",
       "      <th>3</th>\n",
       "      <td>1</td>\n",
       "      <td>Toy Story</td>\n",
       "      <td>1995</td>\n",
       "      <td>Animation</td>\n",
       "      <td>Children's</td>\n",
       "      <td>Comedy</td>\n",
       "      <td>70</td>\n",
       "      <td>5</td>\n",
       "    </tr>\n",
       "    <tr>\n",
       "      <th>4</th>\n",
       "      <td>1</td>\n",
       "      <td>Toy Story</td>\n",
       "      <td>1995</td>\n",
       "      <td>Animation</td>\n",
       "      <td>Children's</td>\n",
       "      <td>Comedy</td>\n",
       "      <td>2948</td>\n",
       "      <td>4</td>\n",
       "    </tr>\n",
       "  </tbody>\n",
       "</table>\n",
       "</div>"
      ],
      "text/plain": [
       "   movieID        name  year     genre1      genre2  genre3  userID  rating\n",
       "0        1  Toy Story   1995  Animation  Children's  Comedy    3073       5\n",
       "1        1  Toy Story   1995  Animation  Children's  Comedy    4890       2\n",
       "2        1  Toy Story   1995  Animation  Children's  Comedy    5125       4\n",
       "3        1  Toy Story   1995  Animation  Children's  Comedy      70       5\n",
       "4        1  Toy Story   1995  Animation  Children's  Comedy    2948       4"
      ]
     },
     "execution_count": 14,
     "metadata": {
      "tags": []
     },
     "output_type": "execute_result"
    }
   ],
   "source": [
    "movie_ratings = pd.merge(movies, ratings, how='inner', on = 'movieID')\n",
    "movie_ratings.head()"
   ]
  },
  {
   "cell_type": "code",
   "execution_count": 15,
   "metadata": {
    "colab": {
     "base_uri": "https://localhost:8080/",
     "height": 450
    },
    "colab_type": "code",
    "executionInfo": {
     "elapsed": 8324,
     "status": "ok",
     "timestamp": 1598461009972,
     "user": {
      "displayName": "Nguyên Nguyễn",
      "photoUrl": "https://lh3.googleusercontent.com/a-/AOh14GiMHvxYop1LpkbTw_vqb4NBqwe2UWThSHl9_s48=s64",
      "userId": "12488776910510095947"
     },
     "user_tz": -420
    },
    "id": "JqNYQNQ317LJ",
    "outputId": "8f632e46-5341-4206-c89d-4d6a0730a727"
   },
   "outputs": [
    {
     "data": {
      "text/html": [
       "<div>\n",
       "<style scoped>\n",
       "    .dataframe tbody tr th:only-of-type {\n",
       "        vertical-align: middle;\n",
       "    }\n",
       "\n",
       "    .dataframe tbody tr th {\n",
       "        vertical-align: top;\n",
       "    }\n",
       "\n",
       "    .dataframe thead th {\n",
       "        text-align: right;\n",
       "    }\n",
       "</style>\n",
       "<table border=\"1\" class=\"dataframe\">\n",
       "  <thead>\n",
       "    <tr style=\"text-align: right;\">\n",
       "      <th></th>\n",
       "      <th>rating</th>\n",
       "    </tr>\n",
       "    <tr>\n",
       "      <th>movieID</th>\n",
       "      <th></th>\n",
       "    </tr>\n",
       "  </thead>\n",
       "  <tbody>\n",
       "    <tr>\n",
       "      <th>1387</th>\n",
       "      <td>5.0</td>\n",
       "    </tr>\n",
       "    <tr>\n",
       "      <th>2393</th>\n",
       "      <td>5.0</td>\n",
       "    </tr>\n",
       "    <tr>\n",
       "      <th>1233</th>\n",
       "      <td>5.0</td>\n",
       "    </tr>\n",
       "    <tr>\n",
       "      <th>1552</th>\n",
       "      <td>5.0</td>\n",
       "    </tr>\n",
       "    <tr>\n",
       "      <th>3267</th>\n",
       "      <td>5.0</td>\n",
       "    </tr>\n",
       "    <tr>\n",
       "      <th>...</th>\n",
       "      <td>...</td>\n",
       "    </tr>\n",
       "    <tr>\n",
       "      <th>2529</th>\n",
       "      <td>1.0</td>\n",
       "    </tr>\n",
       "    <tr>\n",
       "      <th>836</th>\n",
       "      <td>1.0</td>\n",
       "    </tr>\n",
       "    <tr>\n",
       "      <th>2275</th>\n",
       "      <td>1.0</td>\n",
       "    </tr>\n",
       "    <tr>\n",
       "      <th>1606</th>\n",
       "      <td>1.0</td>\n",
       "    </tr>\n",
       "    <tr>\n",
       "      <th>2985</th>\n",
       "      <td>1.0</td>\n",
       "    </tr>\n",
       "  </tbody>\n",
       "</table>\n",
       "<p>231 rows × 1 columns</p>\n",
       "</div>"
      ],
      "text/plain": [
       "         rating\n",
       "movieID        \n",
       "1387        5.0\n",
       "2393        5.0\n",
       "1233        5.0\n",
       "1552        5.0\n",
       "3267        5.0\n",
       "...         ...\n",
       "2529        1.0\n",
       "836         1.0\n",
       "2275        1.0\n",
       "1606        1.0\n",
       "2985        1.0\n",
       "\n",
       "[231 rows x 1 columns]"
      ]
     },
     "execution_count": 15,
     "metadata": {
      "tags": []
     },
     "output_type": "execute_result"
    }
   ],
   "source": [
    "action_ratings = movie_ratings[movie_ratings['genre1'] == 'Action'][['movieID', 'rating']].groupby(['movieID']).mean().sort_values(by = 'rating', ascending = False)\n",
    "action_ratings"
   ]
  },
  {
   "cell_type": "code",
   "execution_count": 16,
   "metadata": {
    "colab": {
     "base_uri": "https://localhost:8080/",
     "height": 450
    },
    "colab_type": "code",
    "executionInfo": {
     "elapsed": 8305,
     "status": "ok",
     "timestamp": 1598461009973,
     "user": {
      "displayName": "Nguyên Nguyễn",
      "photoUrl": "https://lh3.googleusercontent.com/a-/AOh14GiMHvxYop1LpkbTw_vqb4NBqwe2UWThSHl9_s48=s64",
      "userId": "12488776910510095947"
     },
     "user_tz": -420
    },
    "id": "Orx1v_yB0jYv",
    "outputId": "b86c6668-5f8c-4c1d-ac85-6944952ac692"
   },
   "outputs": [
    {
     "data": {
      "text/html": [
       "<div>\n",
       "<style scoped>\n",
       "    .dataframe tbody tr th:only-of-type {\n",
       "        vertical-align: middle;\n",
       "    }\n",
       "\n",
       "    .dataframe tbody tr th {\n",
       "        vertical-align: top;\n",
       "    }\n",
       "\n",
       "    .dataframe thead th {\n",
       "        text-align: right;\n",
       "    }\n",
       "</style>\n",
       "<table border=\"1\" class=\"dataframe\">\n",
       "  <thead>\n",
       "    <tr style=\"text-align: right;\">\n",
       "      <th></th>\n",
       "      <th>name</th>\n",
       "      <th>year</th>\n",
       "      <th>genre1</th>\n",
       "      <th>genre2</th>\n",
       "      <th>genre3</th>\n",
       "    </tr>\n",
       "    <tr>\n",
       "      <th>movieID</th>\n",
       "      <th></th>\n",
       "      <th></th>\n",
       "      <th></th>\n",
       "      <th></th>\n",
       "      <th></th>\n",
       "    </tr>\n",
       "  </thead>\n",
       "  <tbody>\n",
       "    <tr>\n",
       "      <th>1387</th>\n",
       "      <td>Jaws</td>\n",
       "      <td>1975</td>\n",
       "      <td>Action</td>\n",
       "      <td>Horror</td>\n",
       "      <td>NaN</td>\n",
       "    </tr>\n",
       "    <tr>\n",
       "      <th>2393</th>\n",
       "      <td>Star Trek: Insurrection</td>\n",
       "      <td>1998</td>\n",
       "      <td>Action</td>\n",
       "      <td>Sci-Fi</td>\n",
       "      <td>NaN</td>\n",
       "    </tr>\n",
       "    <tr>\n",
       "      <th>1233</th>\n",
       "      <td>Boat, The (Das Boot)</td>\n",
       "      <td>1981</td>\n",
       "      <td>Action</td>\n",
       "      <td>Drama</td>\n",
       "      <td>War</td>\n",
       "    </tr>\n",
       "    <tr>\n",
       "      <th>1552</th>\n",
       "      <td>Con Air</td>\n",
       "      <td>1997</td>\n",
       "      <td>Action</td>\n",
       "      <td>Adventure</td>\n",
       "      <td>Thriller</td>\n",
       "    </tr>\n",
       "    <tr>\n",
       "      <th>3267</th>\n",
       "      <td>Mariachi, El</td>\n",
       "      <td>1992</td>\n",
       "      <td>Action</td>\n",
       "      <td>Thriller</td>\n",
       "      <td>NaN</td>\n",
       "    </tr>\n",
       "    <tr>\n",
       "      <th>...</th>\n",
       "      <td>...</td>\n",
       "      <td>...</td>\n",
       "      <td>...</td>\n",
       "      <td>...</td>\n",
       "      <td>...</td>\n",
       "    </tr>\n",
       "    <tr>\n",
       "      <th>2529</th>\n",
       "      <td>Planet of the Apes</td>\n",
       "      <td>1968</td>\n",
       "      <td>Action</td>\n",
       "      <td>Sci-Fi</td>\n",
       "      <td>NaN</td>\n",
       "    </tr>\n",
       "    <tr>\n",
       "      <th>836</th>\n",
       "      <td>Chain Reaction</td>\n",
       "      <td>1996</td>\n",
       "      <td>Action</td>\n",
       "      <td>Adventure</td>\n",
       "      <td>Thriller</td>\n",
       "    </tr>\n",
       "    <tr>\n",
       "      <th>2275</th>\n",
       "      <td>Six-String Samurai</td>\n",
       "      <td>1998</td>\n",
       "      <td>Action</td>\n",
       "      <td>Adventure</td>\n",
       "      <td>Sci-Fi</td>\n",
       "    </tr>\n",
       "    <tr>\n",
       "      <th>1606</th>\n",
       "      <td>Kull the Conqueror</td>\n",
       "      <td>1997</td>\n",
       "      <td>Action</td>\n",
       "      <td>Adventure</td>\n",
       "      <td>NaN</td>\n",
       "    </tr>\n",
       "    <tr>\n",
       "      <th>2985</th>\n",
       "      <td>Robocop</td>\n",
       "      <td>1987</td>\n",
       "      <td>Action</td>\n",
       "      <td>Crime</td>\n",
       "      <td>Sci-Fi</td>\n",
       "    </tr>\n",
       "  </tbody>\n",
       "</table>\n",
       "<p>231 rows × 5 columns</p>\n",
       "</div>"
      ],
      "text/plain": [
       "                             name  year  genre1     genre2    genre3\n",
       "movieID                                                             \n",
       "1387                        Jaws   1975  Action     Horror       NaN\n",
       "2393     Star Trek: Insurrection   1998  Action     Sci-Fi       NaN\n",
       "1233        Boat, The (Das Boot)   1981  Action      Drama       War\n",
       "1552                     Con Air   1997  Action  Adventure  Thriller\n",
       "3267                Mariachi, El   1992  Action   Thriller       NaN\n",
       "...                           ...   ...     ...        ...       ...\n",
       "2529          Planet of the Apes   1968  Action     Sci-Fi       NaN\n",
       "836               Chain Reaction   1996  Action  Adventure  Thriller\n",
       "2275          Six-String Samurai   1998  Action  Adventure    Sci-Fi\n",
       "1606          Kull the Conqueror   1997  Action  Adventure       NaN\n",
       "2985                     Robocop   1987  Action      Crime    Sci-Fi\n",
       "\n",
       "[231 rows x 5 columns]"
      ]
     },
     "execution_count": 16,
     "metadata": {
      "tags": []
     },
     "output_type": "execute_result"
    }
   ],
   "source": [
    "movies.set_index(keys = 'movieID').loc[action_ratings.index]"
   ]
  },
  {
   "cell_type": "markdown",
   "metadata": {
    "colab_type": "text",
    "id": "WGDBfrFeCA3c"
   },
   "source": [
    "# Feature Engineering"
   ]
  },
  {
   "cell_type": "code",
   "execution_count": 17,
   "metadata": {
    "colab": {
     "base_uri": "https://localhost:8080/",
     "height": 419
    },
    "colab_type": "code",
    "executionInfo": {
     "elapsed": 8276,
     "status": "ok",
     "timestamp": 1598461009974,
     "user": {
      "displayName": "Nguyên Nguyễn",
      "photoUrl": "https://lh3.googleusercontent.com/a-/AOh14GiMHvxYop1LpkbTw_vqb4NBqwe2UWThSHl9_s48=s64",
      "userId": "12488776910510095947"
     },
     "user_tz": -420
    },
    "id": "tyLIDQqPjdk9",
    "outputId": "ec7aee60-70f9-476b-ad6b-0a3a11e74d29"
   },
   "outputs": [
    {
     "data": {
      "text/html": [
       "<div>\n",
       "<style scoped>\n",
       "    .dataframe tbody tr th:only-of-type {\n",
       "        vertical-align: middle;\n",
       "    }\n",
       "\n",
       "    .dataframe tbody tr th {\n",
       "        vertical-align: top;\n",
       "    }\n",
       "\n",
       "    .dataframe thead th {\n",
       "        text-align: right;\n",
       "    }\n",
       "</style>\n",
       "<table border=\"1\" class=\"dataframe\">\n",
       "  <thead>\n",
       "    <tr style=\"text-align: right;\">\n",
       "      <th></th>\n",
       "      <th>userID</th>\n",
       "      <th>age</th>\n",
       "      <th>gender</th>\n",
       "      <th>movieID</th>\n",
       "      <th>name</th>\n",
       "      <th>year</th>\n",
       "      <th>genre1</th>\n",
       "      <th>genre2</th>\n",
       "      <th>genre3</th>\n",
       "      <th>rating</th>\n",
       "    </tr>\n",
       "  </thead>\n",
       "  <tbody>\n",
       "    <tr>\n",
       "      <th>0</th>\n",
       "      <td>4</td>\n",
       "      <td>25</td>\n",
       "      <td>M</td>\n",
       "      <td>86</td>\n",
       "      <td>White Squall</td>\n",
       "      <td>1996</td>\n",
       "      <td>Adventure</td>\n",
       "      <td>Drama</td>\n",
       "      <td>NaN</td>\n",
       "      <td>3</td>\n",
       "    </tr>\n",
       "    <tr>\n",
       "      <th>1</th>\n",
       "      <td>4</td>\n",
       "      <td>25</td>\n",
       "      <td>M</td>\n",
       "      <td>145</td>\n",
       "      <td>Bad Boys</td>\n",
       "      <td>1995</td>\n",
       "      <td>Action</td>\n",
       "      <td>NaN</td>\n",
       "      <td>NaN</td>\n",
       "      <td>4</td>\n",
       "    </tr>\n",
       "    <tr>\n",
       "      <th>2</th>\n",
       "      <td>4</td>\n",
       "      <td>25</td>\n",
       "      <td>M</td>\n",
       "      <td>376</td>\n",
       "      <td>River Wild, The</td>\n",
       "      <td>1994</td>\n",
       "      <td>Action</td>\n",
       "      <td>Thriller</td>\n",
       "      <td>NaN</td>\n",
       "      <td>3</td>\n",
       "    </tr>\n",
       "    <tr>\n",
       "      <th>3</th>\n",
       "      <td>4</td>\n",
       "      <td>25</td>\n",
       "      <td>M</td>\n",
       "      <td>485</td>\n",
       "      <td>Last Action Hero</td>\n",
       "      <td>1993</td>\n",
       "      <td>Action</td>\n",
       "      <td>Comedy</td>\n",
       "      <td>NaN</td>\n",
       "      <td>2</td>\n",
       "    </tr>\n",
       "    <tr>\n",
       "      <th>4</th>\n",
       "      <td>4</td>\n",
       "      <td>25</td>\n",
       "      <td>M</td>\n",
       "      <td>1727</td>\n",
       "      <td>Horse Whisperer, The</td>\n",
       "      <td>1998</td>\n",
       "      <td>Drama</td>\n",
       "      <td>NaN</td>\n",
       "      <td>NaN</td>\n",
       "      <td>3</td>\n",
       "    </tr>\n",
       "    <tr>\n",
       "      <th>...</th>\n",
       "      <td>...</td>\n",
       "      <td>...</td>\n",
       "      <td>...</td>\n",
       "      <td>...</td>\n",
       "      <td>...</td>\n",
       "      <td>...</td>\n",
       "      <td>...</td>\n",
       "      <td>...</td>\n",
       "      <td>...</td>\n",
       "      <td>...</td>\n",
       "    </tr>\n",
       "    <tr>\n",
       "      <th>31615</th>\n",
       "      <td>6030</td>\n",
       "      <td>25</td>\n",
       "      <td>M</td>\n",
       "      <td>3793</td>\n",
       "      <td>X-Men</td>\n",
       "      <td>2000</td>\n",
       "      <td>Action</td>\n",
       "      <td>Sci-Fi</td>\n",
       "      <td>NaN</td>\n",
       "      <td>4</td>\n",
       "    </tr>\n",
       "    <tr>\n",
       "      <th>31616</th>\n",
       "      <td>6030</td>\n",
       "      <td>25</td>\n",
       "      <td>M</td>\n",
       "      <td>3948</td>\n",
       "      <td>Meet the Parents</td>\n",
       "      <td>2000</td>\n",
       "      <td>Comedy</td>\n",
       "      <td>NaN</td>\n",
       "      <td>NaN</td>\n",
       "      <td>4</td>\n",
       "    </tr>\n",
       "    <tr>\n",
       "      <th>31617</th>\n",
       "      <td>6030</td>\n",
       "      <td>25</td>\n",
       "      <td>M</td>\n",
       "      <td>3949</td>\n",
       "      <td>Requiem for a Dream</td>\n",
       "      <td>2000</td>\n",
       "      <td>Drama</td>\n",
       "      <td>NaN</td>\n",
       "      <td>NaN</td>\n",
       "      <td>4</td>\n",
       "    </tr>\n",
       "    <tr>\n",
       "      <th>31618</th>\n",
       "      <td>6038</td>\n",
       "      <td>50</td>\n",
       "      <td>M</td>\n",
       "      <td>2329</td>\n",
       "      <td>American History X</td>\n",
       "      <td>1998</td>\n",
       "      <td>Drama</td>\n",
       "      <td>NaN</td>\n",
       "      <td>NaN</td>\n",
       "      <td>4</td>\n",
       "    </tr>\n",
       "    <tr>\n",
       "      <th>31619</th>\n",
       "      <td>6038</td>\n",
       "      <td>50</td>\n",
       "      <td>M</td>\n",
       "      <td>3863</td>\n",
       "      <td>Cell, The</td>\n",
       "      <td>2000</td>\n",
       "      <td>Sci-Fi</td>\n",
       "      <td>Thriller</td>\n",
       "      <td>NaN</td>\n",
       "      <td>2</td>\n",
       "    </tr>\n",
       "  </tbody>\n",
       "</table>\n",
       "<p>31620 rows × 10 columns</p>\n",
       "</div>"
      ],
      "text/plain": [
       "       userID  age gender  movieID  ...     genre1    genre2 genre3 rating\n",
       "0           4   25      M       86  ...  Adventure     Drama    NaN      3\n",
       "1           4   25      M      145  ...     Action       NaN    NaN      4\n",
       "2           4   25      M      376  ...     Action  Thriller    NaN      3\n",
       "3           4   25      M      485  ...     Action    Comedy    NaN      2\n",
       "4           4   25      M     1727  ...      Drama       NaN    NaN      3\n",
       "...       ...  ...    ...      ...  ...        ...       ...    ...    ...\n",
       "31615    6030   25      M     3793  ...     Action    Sci-Fi    NaN      4\n",
       "31616    6030   25      M     3948  ...     Comedy       NaN    NaN      4\n",
       "31617    6030   25      M     3949  ...      Drama       NaN    NaN      4\n",
       "31618    6038   50      M     2329  ...      Drama       NaN    NaN      4\n",
       "31619    6038   50      M     3863  ...     Sci-Fi  Thriller    NaN      2\n",
       "\n",
       "[31620 rows x 10 columns]"
      ]
     },
     "execution_count": 17,
     "metadata": {
      "tags": []
     },
     "output_type": "execute_result"
    }
   ],
   "source": [
    "# First of all, all three data must combine into one\n",
    "all = pd.merge(users, movie_ratings, on = 'userID')\n",
    "all"
   ]
  },
  {
   "cell_type": "code",
   "execution_count": 18,
   "metadata": {
    "colab": {},
    "colab_type": "code",
    "executionInfo": {
     "elapsed": 8237,
     "status": "ok",
     "timestamp": 1598461009975,
     "user": {
      "displayName": "Nguyên Nguyễn",
      "photoUrl": "https://lh3.googleusercontent.com/a-/AOh14GiMHvxYop1LpkbTw_vqb4NBqwe2UWThSHl9_s48=s64",
      "userId": "12488776910510095947"
     },
     "user_tz": -420
    },
    "id": "ViH6ZASgkRIA"
   },
   "outputs": [],
   "source": [
    "# First of all, all three data must combine into one\n",
    "all['genres'] = all['genre1'].apply(lambda x: '' if pd.isnull(x) else x) + all['genre2'].apply(lambda x: '' if pd.isnull(x) else '|' + x) + all['genre3'].apply(lambda x: '' if pd.isnull(x) else '|' + x)"
   ]
  },
  {
   "cell_type": "code",
   "execution_count": 19,
   "metadata": {
    "colab": {
     "base_uri": "https://localhost:8080/",
     "height": 1000
    },
    "colab_type": "code",
    "executionInfo": {
     "elapsed": 8226,
     "status": "ok",
     "timestamp": 1598461009976,
     "user": {
      "displayName": "Nguyên Nguyễn",
      "photoUrl": "https://lh3.googleusercontent.com/a-/AOh14GiMHvxYop1LpkbTw_vqb4NBqwe2UWThSHl9_s48=s64",
      "userId": "12488776910510095947"
     },
     "user_tz": -420
    },
    "id": "TPqBeKpQf4vP",
    "outputId": "db4ea2f9-6a6a-4e3c-a0e2-d6c4e9266f82"
   },
   "outputs": [
    {
     "data": {
      "text/plain": [
       "array(['Adventure|Drama', 'Action', 'Action|Thriller', 'Action|Comedy',\n",
       "       'Drama', 'Action|Drama|Thriller', 'Comedy|Drama',\n",
       "       'Action|Comedy|Fantasy', 'Action|Adventure|Drama',\n",
       "       'Comedy|Drama|Sci-Fi', 'Action|Crime|Thriller', 'Comedy|Musical',\n",
       "       'Comedy|Drama|Romance', 'Comedy|Musical|Romance',\n",
       "       'Musical|Romance', 'Drama|Mystery', 'Action|Adventure|Thriller',\n",
       "       'Comedy|Crime', 'Comedy|War', \"Children's|Comedy|Romance\",\n",
       "       'Film-Noir|Thriller', 'Comedy', 'Crime|Thriller', 'Drama|Thriller',\n",
       "       'Action|Adventure|Sci-Fi', 'Animation', 'Action|Adventure|Romance',\n",
       "       'Drama|War', 'Horror|Thriller', 'Comedy|Sci-Fi', 'Drama|Romance',\n",
       "       'Crime|Mystery|Thriller', \"Animation|Children's|Musical\",\n",
       "       'Crime|Drama', 'Action|Adventure|Horror', 'Horror|Sci-Fi',\n",
       "       'Action|Sci-Fi|Thriller', 'Comedy|Fantasy', 'Thriller',\n",
       "       'Comedy|Romance', 'Adventure|Drama|Thriller', 'Action|Sci-Fi',\n",
       "       'Action|Horror|Sci-Fi', \"Children's|Sci-Fi\", 'Horror',\n",
       "       'Action|Comedy|Drama', 'Comedy|Romance|Thriller',\n",
       "       'Action|Crime|Drama', 'Animation|Musical',\n",
       "       'Adventure|Animation|Film-Noir', 'Sci-Fi', 'Action|Drama',\n",
       "       \"Animation|Children's\", 'Action|Crime', 'Action|Drama|War',\n",
       "       \"Animation|Children's|Comedy\", \"Adventure|Children's|Fantasy\",\n",
       "       \"Children's|Comedy\", 'Adventure|Crime|Drama',\n",
       "       'Crime|Film-Noir|Thriller', 'Sci-Fi|War', 'Comedy|Romance|Sci-Fi',\n",
       "       'Drama|Fantasy|Sci-Fi', 'Film-Noir|Mystery|Thriller',\n",
       "       'Drama|Sci-Fi', 'Adventure|Comedy|Drama', 'Adventure|War',\n",
       "       'Comedy|Mystery|Thriller', 'Comedy|Horror', 'Action|Romance|War',\n",
       "       'Sci-Fi|Thriller', 'Action|Adventure', 'Adventure|Comedy|Fantasy',\n",
       "       'Drama|Romance|War', 'Adventure|Comedy|Musical',\n",
       "       'Action|Adventure|Fantasy', 'Mystery|Thriller',\n",
       "       'Action|Adventure|Mystery', 'Action|Sci-Fi|Western',\n",
       "       'Comedy|Drama|War', 'Action|Mystery|Sci-Fi',\n",
       "       'Adventure|Drama|Western', 'Western', 'Drama|Horror',\n",
       "       \"Adventure|Children's|Drama\", 'Adventure|Animation|Sci-Fi',\n",
       "       'Animation|Comedy', 'Drama|Mystery|Thriller',\n",
       "       \"Adventure|Children's|Comedy\", \"Children's|Comedy|Sci-Fi\",\n",
       "       'Comedy|Western', \"Adventure|Children's\", 'Drama|Thriller|War',\n",
       "       'Comedy|Mystery', \"Adventure|Children's|Sci-Fi\",\n",
       "       'Adventure|Western', 'Action|Romance|Thriller',\n",
       "       \"Children's|Comedy|Musical\", 'Crime|Drama|Film-Noir', 'Adventure',\n",
       "       \"Children's|Drama\", 'Mystery|Sci-Fi', 'Action|Adventure|Comedy',\n",
       "       'Action|Adventure|Animation', 'Documentary', 'Romance|Thriller',\n",
       "       'Adventure|Romance|Sci-Fi', 'Horror|Sci-Fi|Thriller',\n",
       "       'Film-Noir|Mystery', 'Comedy|Thriller', \"Children's\",\n",
       "       'Drama|Musical', 'Sci-Fi|Thriller|War', \"Children's|Horror\",\n",
       "       'Action|Drama|Romance', 'Comedy|Drama|Western', 'Musical',\n",
       "       'Comedy|Documentary', 'Film-Noir', 'Animation|Comedy|Musical',\n",
       "       'Adventure|Comedy|Horror', 'Drama|Musical|War',\n",
       "       'Animation|Comedy|Thriller', 'Crime|Drama|Romance',\n",
       "       'Action|Comedy|Romance', 'Crime|Drama|Sci-Fi', 'Action|Comedy|War',\n",
       "       'Action|Crime|Sci-Fi', 'Comedy|Horror|Thriller',\n",
       "       'Crime|Drama|Thriller', 'Crime|Drama|Mystery',\n",
       "       'Comedy|Crime|Thriller', 'Action|Romance', 'Drama|Sci-Fi|Thriller',\n",
       "       'Drama|Western', 'Drama|Romance|Western',\n",
       "       \"Children's|Comedy|Drama\", \"Children's|Comedy|Fantasy\",\n",
       "       'Action|Horror|Thriller', 'Horror|Mystery|Thriller',\n",
       "       'Horror|Musical|Sci-Fi', 'Horror|Romance', 'Comedy|Romance|War',\n",
       "       'Documentary|Drama', 'Action|Sci-Fi|War', 'Adventure|Thriller',\n",
       "       'Action|Mystery|Thriller', 'Adventure|Comedy',\n",
       "       \"Children's|Musical\", 'Action|War', 'Adventure|Comedy|Sci-Fi',\n",
       "       'Mystery', 'Crime|Film-Noir', 'Comedy|Drama|Musical',\n",
       "       'Adventure|Sci-Fi', \"Children's|Fantasy|Sci-Fi\",\n",
       "       'Adventure|Fantasy|Romance', 'Crime', 'Action|Thriller|War',\n",
       "       \"Adventure|Animation|Children's\", 'Adventure|Musical',\n",
       "       'Action|Crime|Romance', 'Animation|Sci-Fi', 'Action|Drama|Western',\n",
       "       'Adventure|Sci-Fi|War', 'Mystery|Romance|Thriller', 'Romance',\n",
       "       'War', 'Film-Noir|Romance|Thriller', 'Drama|Fantasy|Thriller',\n",
       "       'Crime|Horror', 'Adventure|Animation|Horror',\n",
       "       'Action|Drama|Fantasy', 'Drama|Romance|Thriller',\n",
       "       'Action|Comedy|Western', 'Film-Noir|Sci-Fi|Thriller',\n",
       "       'Action|Adventure|Crime', 'Adventure|Fantasy',\n",
       "       'Comedy|Horror|Musical', 'Drama|Fantasy',\n",
       "       \"Children's|Comedy|Mystery\", 'Action|Comedy|Sci-Fi',\n",
       "       'Adventure|Comedy|Romance', 'Documentary|War',\n",
       "       'Action|Crime|Mystery', 'Adventure|Romance',\n",
       "       'Animation|Comedy|Romance', \"Action|Children's|Fantasy\",\n",
       "       'Comedy|Fantasy|Romance', 'Drama|Film-Noir', 'Action|Comedy|Crime',\n",
       "       'Crime|Film-Noir|Mystery', \"Animation|Children's|Drama\",\n",
       "       'Action|Horror', 'Comedy|Drama|Thriller',\n",
       "       \"Action|Adventure|Children's\", \"Adventure|Children's|Musical\",\n",
       "       'Comedy|Sci-Fi|Western', 'Drama|Horror|Thriller', 'Crime|Mystery'],\n",
       "      dtype=object)"
      ]
     },
     "execution_count": 19,
     "metadata": {
      "tags": []
     },
     "output_type": "execute_result"
    }
   ],
   "source": [
    "# use unique() to show all unique values in 'genres'\n",
    "all['genres'].unique()"
   ]
  },
  {
   "cell_type": "code",
   "execution_count": 20,
   "metadata": {
    "colab": {
     "base_uri": "https://localhost:8080/",
     "height": 204
    },
    "colab_type": "code",
    "executionInfo": {
     "elapsed": 8194,
     "status": "ok",
     "timestamp": 1598461009977,
     "user": {
      "displayName": "Nguyên Nguyễn",
      "photoUrl": "https://lh3.googleusercontent.com/a-/AOh14GiMHvxYop1LpkbTw_vqb4NBqwe2UWThSHl9_s48=s64",
      "userId": "12488776910510095947"
     },
     "user_tz": -420
    },
    "id": "HFJp9ajYgYlH",
    "outputId": "79d9dc2e-6e74-4818-a542-5c613aee8fb1"
   },
   "outputs": [
    {
     "data": {
      "text/html": [
       "<div>\n",
       "<style scoped>\n",
       "    .dataframe tbody tr th:only-of-type {\n",
       "        vertical-align: middle;\n",
       "    }\n",
       "\n",
       "    .dataframe tbody tr th {\n",
       "        vertical-align: top;\n",
       "    }\n",
       "\n",
       "    .dataframe thead th {\n",
       "        text-align: right;\n",
       "    }\n",
       "</style>\n",
       "<table border=\"1\" class=\"dataframe\">\n",
       "  <thead>\n",
       "    <tr style=\"text-align: right;\">\n",
       "      <th></th>\n",
       "      <th>userID</th>\n",
       "      <th>age</th>\n",
       "      <th>gender</th>\n",
       "      <th>movieID</th>\n",
       "      <th>name</th>\n",
       "      <th>year</th>\n",
       "      <th>rating</th>\n",
       "      <th>genres</th>\n",
       "    </tr>\n",
       "  </thead>\n",
       "  <tbody>\n",
       "    <tr>\n",
       "      <th>0</th>\n",
       "      <td>4</td>\n",
       "      <td>25</td>\n",
       "      <td>M</td>\n",
       "      <td>86</td>\n",
       "      <td>White Squall</td>\n",
       "      <td>1996</td>\n",
       "      <td>3</td>\n",
       "      <td>Adventure|Drama</td>\n",
       "    </tr>\n",
       "    <tr>\n",
       "      <th>1</th>\n",
       "      <td>4</td>\n",
       "      <td>25</td>\n",
       "      <td>M</td>\n",
       "      <td>145</td>\n",
       "      <td>Bad Boys</td>\n",
       "      <td>1995</td>\n",
       "      <td>4</td>\n",
       "      <td>Action</td>\n",
       "    </tr>\n",
       "    <tr>\n",
       "      <th>2</th>\n",
       "      <td>4</td>\n",
       "      <td>25</td>\n",
       "      <td>M</td>\n",
       "      <td>376</td>\n",
       "      <td>River Wild, The</td>\n",
       "      <td>1994</td>\n",
       "      <td>3</td>\n",
       "      <td>Action|Thriller</td>\n",
       "    </tr>\n",
       "    <tr>\n",
       "      <th>3</th>\n",
       "      <td>4</td>\n",
       "      <td>25</td>\n",
       "      <td>M</td>\n",
       "      <td>485</td>\n",
       "      <td>Last Action Hero</td>\n",
       "      <td>1993</td>\n",
       "      <td>2</td>\n",
       "      <td>Action|Comedy</td>\n",
       "    </tr>\n",
       "    <tr>\n",
       "      <th>4</th>\n",
       "      <td>4</td>\n",
       "      <td>25</td>\n",
       "      <td>M</td>\n",
       "      <td>1727</td>\n",
       "      <td>Horse Whisperer, The</td>\n",
       "      <td>1998</td>\n",
       "      <td>3</td>\n",
       "      <td>Drama</td>\n",
       "    </tr>\n",
       "  </tbody>\n",
       "</table>\n",
       "</div>"
      ],
      "text/plain": [
       "   userID  age gender  ...  year rating           genres\n",
       "0       4   25      M  ...  1996      3  Adventure|Drama\n",
       "1       4   25      M  ...  1995      4           Action\n",
       "2       4   25      M  ...  1994      3  Action|Thriller\n",
       "3       4   25      M  ...  1993      2    Action|Comedy\n",
       "4       4   25      M  ...  1998      3            Drama\n",
       "\n",
       "[5 rows x 8 columns]"
      ]
     },
     "execution_count": 20,
     "metadata": {
      "tags": []
     },
     "output_type": "execute_result"
    }
   ],
   "source": [
    "# Drop 3 columns genre1, genre2, genre3\n",
    "all.drop(labels = ['genre1', 'genre2', 'genre3'], axis = 1, inplace = True)\n",
    "all.head()"
   ]
  },
  {
   "cell_type": "code",
   "execution_count": 21,
   "metadata": {
    "colab": {
     "base_uri": "https://localhost:8080/",
     "height": 204
    },
    "colab_type": "code",
    "executionInfo": {
     "elapsed": 8166,
     "status": "ok",
     "timestamp": 1598461009977,
     "user": {
      "displayName": "Nguyên Nguyễn",
      "photoUrl": "https://lh3.googleusercontent.com/a-/AOh14GiMHvxYop1LpkbTw_vqb4NBqwe2UWThSHl9_s48=s64",
      "userId": "12488776910510095947"
     },
     "user_tz": -420
    },
    "id": "FmXKqrpbl591",
    "outputId": "19013d8b-3b10-460e-b272-f5aaf7d7a0d9"
   },
   "outputs": [
    {
     "data": {
      "text/html": [
       "<div>\n",
       "<style scoped>\n",
       "    .dataframe tbody tr th:only-of-type {\n",
       "        vertical-align: middle;\n",
       "    }\n",
       "\n",
       "    .dataframe tbody tr th {\n",
       "        vertical-align: top;\n",
       "    }\n",
       "\n",
       "    .dataframe thead th {\n",
       "        text-align: right;\n",
       "    }\n",
       "</style>\n",
       "<table border=\"1\" class=\"dataframe\">\n",
       "  <thead>\n",
       "    <tr style=\"text-align: right;\">\n",
       "      <th></th>\n",
       "      <th>age</th>\n",
       "      <th>gender</th>\n",
       "      <th>genres</th>\n",
       "      <th>rating</th>\n",
       "    </tr>\n",
       "  </thead>\n",
       "  <tbody>\n",
       "    <tr>\n",
       "      <th>0</th>\n",
       "      <td>25</td>\n",
       "      <td>M</td>\n",
       "      <td>Adventure|Drama</td>\n",
       "      <td>3</td>\n",
       "    </tr>\n",
       "    <tr>\n",
       "      <th>1</th>\n",
       "      <td>25</td>\n",
       "      <td>M</td>\n",
       "      <td>Action</td>\n",
       "      <td>4</td>\n",
       "    </tr>\n",
       "    <tr>\n",
       "      <th>2</th>\n",
       "      <td>25</td>\n",
       "      <td>M</td>\n",
       "      <td>Action|Thriller</td>\n",
       "      <td>3</td>\n",
       "    </tr>\n",
       "    <tr>\n",
       "      <th>3</th>\n",
       "      <td>25</td>\n",
       "      <td>M</td>\n",
       "      <td>Action|Comedy</td>\n",
       "      <td>2</td>\n",
       "    </tr>\n",
       "    <tr>\n",
       "      <th>4</th>\n",
       "      <td>25</td>\n",
       "      <td>M</td>\n",
       "      <td>Drama</td>\n",
       "      <td>3</td>\n",
       "    </tr>\n",
       "  </tbody>\n",
       "</table>\n",
       "</div>"
      ],
      "text/plain": [
       "   age gender           genres  rating\n",
       "0   25      M  Adventure|Drama       3\n",
       "1   25      M           Action       4\n",
       "2   25      M  Action|Thriller       3\n",
       "3   25      M    Action|Comedy       2\n",
       "4   25      M            Drama       3"
      ]
     },
     "execution_count": 21,
     "metadata": {
      "tags": []
     },
     "output_type": "execute_result"
    }
   ],
   "source": [
    "# Selected 'age', 'gender', 'genres' and 'rating' as features to build model.\n",
    "selected_data = all[[\n",
    "    'age',\n",
    "    'gender',\n",
    "    'genres',\n",
    "    'rating'\n",
    "]]\n",
    "selected_data.head()"
   ]
  },
  {
   "cell_type": "code",
   "execution_count": 22,
   "metadata": {
    "colab": {
     "base_uri": "https://localhost:8080/",
     "height": 241
    },
    "colab_type": "code",
    "executionInfo": {
     "elapsed": 8601,
     "status": "ok",
     "timestamp": 1598461010440,
     "user": {
      "displayName": "Nguyên Nguyễn",
      "photoUrl": "https://lh3.googleusercontent.com/a-/AOh14GiMHvxYop1LpkbTw_vqb4NBqwe2UWThSHl9_s48=s64",
      "userId": "12488776910510095947"
     },
     "user_tz": -420
    },
    "id": "MNpFTqxImSZH",
    "outputId": "2e08d3d5-32ce-433c-cad2-5408d3be707b"
   },
   "outputs": [
    {
     "data": {
      "text/html": [
       "<div>\n",
       "<style scoped>\n",
       "    .dataframe tbody tr th:only-of-type {\n",
       "        vertical-align: middle;\n",
       "    }\n",
       "\n",
       "    .dataframe tbody tr th {\n",
       "        vertical-align: top;\n",
       "    }\n",
       "\n",
       "    .dataframe thead th {\n",
       "        text-align: right;\n",
       "    }\n",
       "</style>\n",
       "<table border=\"1\" class=\"dataframe\">\n",
       "  <thead>\n",
       "    <tr style=\"text-align: right;\">\n",
       "      <th></th>\n",
       "      <th>age</th>\n",
       "      <th>gender</th>\n",
       "      <th>rating</th>\n",
       "      <th>genres_Action</th>\n",
       "      <th>genres_Adventure</th>\n",
       "      <th>genres_Animation</th>\n",
       "      <th>genres_Children's</th>\n",
       "      <th>genres_Comedy</th>\n",
       "      <th>genres_Crime</th>\n",
       "      <th>genres_Documentary</th>\n",
       "      <th>genres_Drama</th>\n",
       "      <th>genres_Fantasy</th>\n",
       "      <th>genres_Film-Noir</th>\n",
       "      <th>genres_Horror</th>\n",
       "      <th>genres_Musical</th>\n",
       "      <th>genres_Mystery</th>\n",
       "      <th>genres_Romance</th>\n",
       "      <th>genres_Sci-Fi</th>\n",
       "      <th>genres_Thriller</th>\n",
       "      <th>genres_War</th>\n",
       "      <th>genres_Western</th>\n",
       "    </tr>\n",
       "  </thead>\n",
       "  <tbody>\n",
       "    <tr>\n",
       "      <th>0</th>\n",
       "      <td>25</td>\n",
       "      <td>M</td>\n",
       "      <td>3</td>\n",
       "      <td>0</td>\n",
       "      <td>1</td>\n",
       "      <td>0</td>\n",
       "      <td>0</td>\n",
       "      <td>0</td>\n",
       "      <td>0</td>\n",
       "      <td>0</td>\n",
       "      <td>1</td>\n",
       "      <td>0</td>\n",
       "      <td>0</td>\n",
       "      <td>0</td>\n",
       "      <td>0</td>\n",
       "      <td>0</td>\n",
       "      <td>0</td>\n",
       "      <td>0</td>\n",
       "      <td>0</td>\n",
       "      <td>0</td>\n",
       "      <td>0</td>\n",
       "    </tr>\n",
       "    <tr>\n",
       "      <th>1</th>\n",
       "      <td>25</td>\n",
       "      <td>M</td>\n",
       "      <td>4</td>\n",
       "      <td>1</td>\n",
       "      <td>0</td>\n",
       "      <td>0</td>\n",
       "      <td>0</td>\n",
       "      <td>0</td>\n",
       "      <td>0</td>\n",
       "      <td>0</td>\n",
       "      <td>0</td>\n",
       "      <td>0</td>\n",
       "      <td>0</td>\n",
       "      <td>0</td>\n",
       "      <td>0</td>\n",
       "      <td>0</td>\n",
       "      <td>0</td>\n",
       "      <td>0</td>\n",
       "      <td>0</td>\n",
       "      <td>0</td>\n",
       "      <td>0</td>\n",
       "    </tr>\n",
       "    <tr>\n",
       "      <th>2</th>\n",
       "      <td>25</td>\n",
       "      <td>M</td>\n",
       "      <td>3</td>\n",
       "      <td>1</td>\n",
       "      <td>0</td>\n",
       "      <td>0</td>\n",
       "      <td>0</td>\n",
       "      <td>0</td>\n",
       "      <td>0</td>\n",
       "      <td>0</td>\n",
       "      <td>0</td>\n",
       "      <td>0</td>\n",
       "      <td>0</td>\n",
       "      <td>0</td>\n",
       "      <td>0</td>\n",
       "      <td>0</td>\n",
       "      <td>0</td>\n",
       "      <td>0</td>\n",
       "      <td>1</td>\n",
       "      <td>0</td>\n",
       "      <td>0</td>\n",
       "    </tr>\n",
       "    <tr>\n",
       "      <th>3</th>\n",
       "      <td>25</td>\n",
       "      <td>M</td>\n",
       "      <td>2</td>\n",
       "      <td>1</td>\n",
       "      <td>0</td>\n",
       "      <td>0</td>\n",
       "      <td>0</td>\n",
       "      <td>1</td>\n",
       "      <td>0</td>\n",
       "      <td>0</td>\n",
       "      <td>0</td>\n",
       "      <td>0</td>\n",
       "      <td>0</td>\n",
       "      <td>0</td>\n",
       "      <td>0</td>\n",
       "      <td>0</td>\n",
       "      <td>0</td>\n",
       "      <td>0</td>\n",
       "      <td>0</td>\n",
       "      <td>0</td>\n",
       "      <td>0</td>\n",
       "    </tr>\n",
       "    <tr>\n",
       "      <th>4</th>\n",
       "      <td>25</td>\n",
       "      <td>M</td>\n",
       "      <td>3</td>\n",
       "      <td>0</td>\n",
       "      <td>0</td>\n",
       "      <td>0</td>\n",
       "      <td>0</td>\n",
       "      <td>0</td>\n",
       "      <td>0</td>\n",
       "      <td>0</td>\n",
       "      <td>1</td>\n",
       "      <td>0</td>\n",
       "      <td>0</td>\n",
       "      <td>0</td>\n",
       "      <td>0</td>\n",
       "      <td>0</td>\n",
       "      <td>0</td>\n",
       "      <td>0</td>\n",
       "      <td>0</td>\n",
       "      <td>0</td>\n",
       "      <td>0</td>\n",
       "    </tr>\n",
       "  </tbody>\n",
       "</table>\n",
       "</div>"
      ],
      "text/plain": [
       "   age gender  rating  ...  genres_Thriller  genres_War  genres_Western\n",
       "0   25      M       3  ...                0           0               0\n",
       "1   25      M       4  ...                0           0               0\n",
       "2   25      M       3  ...                1           0               0\n",
       "3   25      M       2  ...                0           0               0\n",
       "4   25      M       3  ...                0           0               0\n",
       "\n",
       "[5 rows x 21 columns]"
      ]
     },
     "execution_count": 22,
     "metadata": {
      "tags": []
     },
     "output_type": "execute_result"
    }
   ],
   "source": [
    "# As genres column contains category values, get_dummies() function must be used to perform one-hot encoding\n",
    "genres = selected_data['genres']\n",
    "genres = genres.str.get_dummies().add_prefix('genres_')\n",
    "selected_data = pd.concat([selected_data.drop(['genres'], axis = 1), genres], axis = 1)\n",
    "\n",
    "selected_data.head()"
   ]
  },
  {
   "cell_type": "code",
   "execution_count": 23,
   "metadata": {
    "colab": {
     "base_uri": "https://localhost:8080/",
     "height": 241
    },
    "colab_type": "code",
    "executionInfo": {
     "elapsed": 8575,
     "status": "ok",
     "timestamp": 1598461010440,
     "user": {
      "displayName": "Nguyên Nguyễn",
      "photoUrl": "https://lh3.googleusercontent.com/a-/AOh14GiMHvxYop1LpkbTw_vqb4NBqwe2UWThSHl9_s48=s64",
      "userId": "12488776910510095947"
     },
     "user_tz": -420
    },
    "id": "dsbpGFDnjCwB",
    "outputId": "5e10373c-879d-4ff0-c97c-ba22f9a2dcf6"
   },
   "outputs": [
    {
     "data": {
      "text/html": [
       "<div>\n",
       "<style scoped>\n",
       "    .dataframe tbody tr th:only-of-type {\n",
       "        vertical-align: middle;\n",
       "    }\n",
       "\n",
       "    .dataframe tbody tr th {\n",
       "        vertical-align: top;\n",
       "    }\n",
       "\n",
       "    .dataframe thead th {\n",
       "        text-align: right;\n",
       "    }\n",
       "</style>\n",
       "<table border=\"1\" class=\"dataframe\">\n",
       "  <thead>\n",
       "    <tr style=\"text-align: right;\">\n",
       "      <th></th>\n",
       "      <th>age</th>\n",
       "      <th>rating</th>\n",
       "      <th>genres_Action</th>\n",
       "      <th>genres_Adventure</th>\n",
       "      <th>genres_Animation</th>\n",
       "      <th>genres_Children's</th>\n",
       "      <th>genres_Comedy</th>\n",
       "      <th>genres_Crime</th>\n",
       "      <th>genres_Documentary</th>\n",
       "      <th>genres_Drama</th>\n",
       "      <th>genres_Fantasy</th>\n",
       "      <th>genres_Film-Noir</th>\n",
       "      <th>genres_Horror</th>\n",
       "      <th>genres_Musical</th>\n",
       "      <th>genres_Mystery</th>\n",
       "      <th>genres_Romance</th>\n",
       "      <th>genres_Sci-Fi</th>\n",
       "      <th>genres_Thriller</th>\n",
       "      <th>genres_War</th>\n",
       "      <th>genres_Western</th>\n",
       "      <th>gender_F</th>\n",
       "      <th>gender_M</th>\n",
       "    </tr>\n",
       "  </thead>\n",
       "  <tbody>\n",
       "    <tr>\n",
       "      <th>0</th>\n",
       "      <td>25</td>\n",
       "      <td>3</td>\n",
       "      <td>0</td>\n",
       "      <td>1</td>\n",
       "      <td>0</td>\n",
       "      <td>0</td>\n",
       "      <td>0</td>\n",
       "      <td>0</td>\n",
       "      <td>0</td>\n",
       "      <td>1</td>\n",
       "      <td>0</td>\n",
       "      <td>0</td>\n",
       "      <td>0</td>\n",
       "      <td>0</td>\n",
       "      <td>0</td>\n",
       "      <td>0</td>\n",
       "      <td>0</td>\n",
       "      <td>0</td>\n",
       "      <td>0</td>\n",
       "      <td>0</td>\n",
       "      <td>0</td>\n",
       "      <td>1</td>\n",
       "    </tr>\n",
       "    <tr>\n",
       "      <th>1</th>\n",
       "      <td>25</td>\n",
       "      <td>4</td>\n",
       "      <td>1</td>\n",
       "      <td>0</td>\n",
       "      <td>0</td>\n",
       "      <td>0</td>\n",
       "      <td>0</td>\n",
       "      <td>0</td>\n",
       "      <td>0</td>\n",
       "      <td>0</td>\n",
       "      <td>0</td>\n",
       "      <td>0</td>\n",
       "      <td>0</td>\n",
       "      <td>0</td>\n",
       "      <td>0</td>\n",
       "      <td>0</td>\n",
       "      <td>0</td>\n",
       "      <td>0</td>\n",
       "      <td>0</td>\n",
       "      <td>0</td>\n",
       "      <td>0</td>\n",
       "      <td>1</td>\n",
       "    </tr>\n",
       "    <tr>\n",
       "      <th>2</th>\n",
       "      <td>25</td>\n",
       "      <td>3</td>\n",
       "      <td>1</td>\n",
       "      <td>0</td>\n",
       "      <td>0</td>\n",
       "      <td>0</td>\n",
       "      <td>0</td>\n",
       "      <td>0</td>\n",
       "      <td>0</td>\n",
       "      <td>0</td>\n",
       "      <td>0</td>\n",
       "      <td>0</td>\n",
       "      <td>0</td>\n",
       "      <td>0</td>\n",
       "      <td>0</td>\n",
       "      <td>0</td>\n",
       "      <td>0</td>\n",
       "      <td>1</td>\n",
       "      <td>0</td>\n",
       "      <td>0</td>\n",
       "      <td>0</td>\n",
       "      <td>1</td>\n",
       "    </tr>\n",
       "    <tr>\n",
       "      <th>3</th>\n",
       "      <td>25</td>\n",
       "      <td>2</td>\n",
       "      <td>1</td>\n",
       "      <td>0</td>\n",
       "      <td>0</td>\n",
       "      <td>0</td>\n",
       "      <td>1</td>\n",
       "      <td>0</td>\n",
       "      <td>0</td>\n",
       "      <td>0</td>\n",
       "      <td>0</td>\n",
       "      <td>0</td>\n",
       "      <td>0</td>\n",
       "      <td>0</td>\n",
       "      <td>0</td>\n",
       "      <td>0</td>\n",
       "      <td>0</td>\n",
       "      <td>0</td>\n",
       "      <td>0</td>\n",
       "      <td>0</td>\n",
       "      <td>0</td>\n",
       "      <td>1</td>\n",
       "    </tr>\n",
       "    <tr>\n",
       "      <th>4</th>\n",
       "      <td>25</td>\n",
       "      <td>3</td>\n",
       "      <td>0</td>\n",
       "      <td>0</td>\n",
       "      <td>0</td>\n",
       "      <td>0</td>\n",
       "      <td>0</td>\n",
       "      <td>0</td>\n",
       "      <td>0</td>\n",
       "      <td>1</td>\n",
       "      <td>0</td>\n",
       "      <td>0</td>\n",
       "      <td>0</td>\n",
       "      <td>0</td>\n",
       "      <td>0</td>\n",
       "      <td>0</td>\n",
       "      <td>0</td>\n",
       "      <td>0</td>\n",
       "      <td>0</td>\n",
       "      <td>0</td>\n",
       "      <td>0</td>\n",
       "      <td>1</td>\n",
       "    </tr>\n",
       "  </tbody>\n",
       "</table>\n",
       "</div>"
      ],
      "text/plain": [
       "   age  rating  genres_Action  ...  genres_Western  gender_F  gender_M\n",
       "0   25       3              0  ...               0         0         1\n",
       "1   25       4              1  ...               0         0         1\n",
       "2   25       3              1  ...               0         0         1\n",
       "3   25       2              1  ...               0         0         1\n",
       "4   25       3              0  ...               0         0         1\n",
       "\n",
       "[5 rows x 22 columns]"
      ]
     },
     "execution_count": 23,
     "metadata": {
      "tags": []
     },
     "output_type": "execute_result"
    }
   ],
   "source": [
    "# Gender feature aslo a category variable, so It need to be perfomed one-hot encoding as well\n",
    "selected_data = pd.get_dummies(selected_data, columns = ['gender'])\n",
    "selected_data.head()"
   ]
  },
  {
   "cell_type": "code",
   "execution_count": 24,
   "metadata": {
    "colab": {
     "base_uri": "https://localhost:8080/",
     "height": 136
    },
    "colab_type": "code",
    "executionInfo": {
     "elapsed": 8551,
     "status": "ok",
     "timestamp": 1598461010441,
     "user": {
      "displayName": "Nguyên Nguyễn",
      "photoUrl": "https://lh3.googleusercontent.com/a-/AOh14GiMHvxYop1LpkbTw_vqb4NBqwe2UWThSHl9_s48=s64",
      "userId": "12488776910510095947"
     },
     "user_tz": -420
    },
    "id": "geanv26mksCI",
    "outputId": "8d6b9e0b-7bab-4720-8ee5-b6ede452ed0c"
   },
   "outputs": [
    {
     "data": {
      "text/plain": [
       "Index(['age', 'rating', 'genres_Action', 'genres_Adventure',\n",
       "       'genres_Animation', 'genres_Children's', 'genres_Comedy',\n",
       "       'genres_Crime', 'genres_Documentary', 'genres_Drama', 'genres_Fantasy',\n",
       "       'genres_Film-Noir', 'genres_Horror', 'genres_Musical', 'genres_Mystery',\n",
       "       'genres_Romance', 'genres_Sci-Fi', 'genres_Thriller', 'genres_War',\n",
       "       'genres_Western', 'gender_F', 'gender_M'],\n",
       "      dtype='object')"
      ]
     },
     "execution_count": 24,
     "metadata": {
      "tags": []
     },
     "output_type": "execute_result"
    }
   ],
   "source": [
    "# all columns in selected_data\n",
    "selected_data.columns"
   ]
  },
  {
   "cell_type": "code",
   "execution_count": 25,
   "metadata": {
    "colab": {
     "base_uri": "https://localhost:8080/",
     "height": 408
    },
    "colab_type": "code",
    "executionInfo": {
     "elapsed": 8527,
     "status": "ok",
     "timestamp": 1598461010441,
     "user": {
      "displayName": "Nguyên Nguyễn",
      "photoUrl": "https://lh3.googleusercontent.com/a-/AOh14GiMHvxYop1LpkbTw_vqb4NBqwe2UWThSHl9_s48=s64",
      "userId": "12488776910510095947"
     },
     "user_tz": -420
    },
    "id": "CHaDbCcMkxm0",
    "outputId": "955d49d1-e174-43b3-9017-d99e49469df1"
   },
   "outputs": [
    {
     "data": {
      "text/plain": [
       "age                   int64\n",
       "rating                int64\n",
       "genres_Action         int64\n",
       "genres_Adventure      int64\n",
       "genres_Animation      int64\n",
       "genres_Children's     int64\n",
       "genres_Comedy         int64\n",
       "genres_Crime          int64\n",
       "genres_Documentary    int64\n",
       "genres_Drama          int64\n",
       "genres_Fantasy        int64\n",
       "genres_Film-Noir      int64\n",
       "genres_Horror         int64\n",
       "genres_Musical        int64\n",
       "genres_Mystery        int64\n",
       "genres_Romance        int64\n",
       "genres_Sci-Fi         int64\n",
       "genres_Thriller       int64\n",
       "genres_War            int64\n",
       "genres_Western        int64\n",
       "gender_F              uint8\n",
       "gender_M              uint8\n",
       "dtype: object"
      ]
     },
     "execution_count": 25,
     "metadata": {
      "tags": []
     },
     "output_type": "execute_result"
    }
   ],
   "source": [
    "# Check types in selected_data\n",
    "selected_data.dtypes"
   ]
  },
  {
   "cell_type": "markdown",
   "metadata": {
    "colab_type": "text",
    "id": "q5NhnYLrofQ-"
   },
   "source": [
    "**This code below is to check correlation between variables and then drop any high correlated variable.**"
   ]
  },
  {
   "cell_type": "code",
   "execution_count": 26,
   "metadata": {
    "colab": {
     "base_uri": "https://localhost:8080/",
     "height": 241
    },
    "colab_type": "code",
    "executionInfo": {
     "elapsed": 8502,
     "status": "ok",
     "timestamp": 1598461010442,
     "user": {
      "displayName": "Nguyên Nguyễn",
      "photoUrl": "https://lh3.googleusercontent.com/a-/AOh14GiMHvxYop1LpkbTw_vqb4NBqwe2UWThSHl9_s48=s64",
      "userId": "12488776910510095947"
     },
     "user_tz": -420
    },
    "id": "YurwuQz_sLiD",
    "outputId": "70e25c86-b29f-43a9-8bf5-74b33c6c0ad5"
   },
   "outputs": [
    {
     "data": {
      "text/html": [
       "<div>\n",
       "<style scoped>\n",
       "    .dataframe tbody tr th:only-of-type {\n",
       "        vertical-align: middle;\n",
       "    }\n",
       "\n",
       "    .dataframe tbody tr th {\n",
       "        vertical-align: top;\n",
       "    }\n",
       "\n",
       "    .dataframe thead th {\n",
       "        text-align: right;\n",
       "    }\n",
       "</style>\n",
       "<table border=\"1\" class=\"dataframe\">\n",
       "  <thead>\n",
       "    <tr style=\"text-align: right;\">\n",
       "      <th></th>\n",
       "      <th>age</th>\n",
       "      <th>rating</th>\n",
       "      <th>genres_Action</th>\n",
       "      <th>genres_Adventure</th>\n",
       "      <th>genres_Animation</th>\n",
       "      <th>genres_Comedy</th>\n",
       "      <th>genres_Crime</th>\n",
       "      <th>genres_Documentary</th>\n",
       "      <th>genres_Drama</th>\n",
       "      <th>genres_Fantasy</th>\n",
       "      <th>genres_Film-Noir</th>\n",
       "      <th>genres_Horror</th>\n",
       "      <th>genres_Musical</th>\n",
       "      <th>genres_Mystery</th>\n",
       "      <th>genres_Romance</th>\n",
       "      <th>genres_Sci-Fi</th>\n",
       "      <th>genres_Thriller</th>\n",
       "      <th>genres_War</th>\n",
       "      <th>genres_Western</th>\n",
       "      <th>gender_F</th>\n",
       "      <th>gender_M</th>\n",
       "    </tr>\n",
       "  </thead>\n",
       "  <tbody>\n",
       "    <tr>\n",
       "      <th>0</th>\n",
       "      <td>25</td>\n",
       "      <td>3</td>\n",
       "      <td>0</td>\n",
       "      <td>1</td>\n",
       "      <td>0</td>\n",
       "      <td>0</td>\n",
       "      <td>0</td>\n",
       "      <td>0</td>\n",
       "      <td>1</td>\n",
       "      <td>0</td>\n",
       "      <td>0</td>\n",
       "      <td>0</td>\n",
       "      <td>0</td>\n",
       "      <td>0</td>\n",
       "      <td>0</td>\n",
       "      <td>0</td>\n",
       "      <td>0</td>\n",
       "      <td>0</td>\n",
       "      <td>0</td>\n",
       "      <td>0</td>\n",
       "      <td>1</td>\n",
       "    </tr>\n",
       "    <tr>\n",
       "      <th>1</th>\n",
       "      <td>25</td>\n",
       "      <td>4</td>\n",
       "      <td>1</td>\n",
       "      <td>0</td>\n",
       "      <td>0</td>\n",
       "      <td>0</td>\n",
       "      <td>0</td>\n",
       "      <td>0</td>\n",
       "      <td>0</td>\n",
       "      <td>0</td>\n",
       "      <td>0</td>\n",
       "      <td>0</td>\n",
       "      <td>0</td>\n",
       "      <td>0</td>\n",
       "      <td>0</td>\n",
       "      <td>0</td>\n",
       "      <td>0</td>\n",
       "      <td>0</td>\n",
       "      <td>0</td>\n",
       "      <td>0</td>\n",
       "      <td>1</td>\n",
       "    </tr>\n",
       "    <tr>\n",
       "      <th>2</th>\n",
       "      <td>25</td>\n",
       "      <td>3</td>\n",
       "      <td>1</td>\n",
       "      <td>0</td>\n",
       "      <td>0</td>\n",
       "      <td>0</td>\n",
       "      <td>0</td>\n",
       "      <td>0</td>\n",
       "      <td>0</td>\n",
       "      <td>0</td>\n",
       "      <td>0</td>\n",
       "      <td>0</td>\n",
       "      <td>0</td>\n",
       "      <td>0</td>\n",
       "      <td>0</td>\n",
       "      <td>0</td>\n",
       "      <td>1</td>\n",
       "      <td>0</td>\n",
       "      <td>0</td>\n",
       "      <td>0</td>\n",
       "      <td>1</td>\n",
       "    </tr>\n",
       "    <tr>\n",
       "      <th>3</th>\n",
       "      <td>25</td>\n",
       "      <td>2</td>\n",
       "      <td>1</td>\n",
       "      <td>0</td>\n",
       "      <td>0</td>\n",
       "      <td>1</td>\n",
       "      <td>0</td>\n",
       "      <td>0</td>\n",
       "      <td>0</td>\n",
       "      <td>0</td>\n",
       "      <td>0</td>\n",
       "      <td>0</td>\n",
       "      <td>0</td>\n",
       "      <td>0</td>\n",
       "      <td>0</td>\n",
       "      <td>0</td>\n",
       "      <td>0</td>\n",
       "      <td>0</td>\n",
       "      <td>0</td>\n",
       "      <td>0</td>\n",
       "      <td>1</td>\n",
       "    </tr>\n",
       "    <tr>\n",
       "      <th>4</th>\n",
       "      <td>25</td>\n",
       "      <td>3</td>\n",
       "      <td>0</td>\n",
       "      <td>0</td>\n",
       "      <td>0</td>\n",
       "      <td>0</td>\n",
       "      <td>0</td>\n",
       "      <td>0</td>\n",
       "      <td>1</td>\n",
       "      <td>0</td>\n",
       "      <td>0</td>\n",
       "      <td>0</td>\n",
       "      <td>0</td>\n",
       "      <td>0</td>\n",
       "      <td>0</td>\n",
       "      <td>0</td>\n",
       "      <td>0</td>\n",
       "      <td>0</td>\n",
       "      <td>0</td>\n",
       "      <td>0</td>\n",
       "      <td>1</td>\n",
       "    </tr>\n",
       "  </tbody>\n",
       "</table>\n",
       "</div>"
      ],
      "text/plain": [
       "   age  rating  genres_Action  ...  genres_Western  gender_F  gender_M\n",
       "0   25       3              0  ...               0         0         1\n",
       "1   25       4              1  ...               0         0         1\n",
       "2   25       3              1  ...               0         0         1\n",
       "3   25       2              1  ...               0         0         1\n",
       "4   25       3              0  ...               0         0         1\n",
       "\n",
       "[5 rows x 21 columns]"
      ]
     },
     "execution_count": 26,
     "metadata": {
      "tags": []
     },
     "output_type": "execute_result"
    }
   ],
   "source": [
    "corr_matrix = selected_data.corr().abs()\n",
    "\n",
    "# Select upper triangle of correlation matrix\n",
    "upper = corr_matrix.where(np.triu(np.ones(corr_matrix.shape), k=1).astype(np.bool))\n",
    "\n",
    "# Find index of feature columns with correlation greater than 0.2\n",
    "to_drop = [column for column in upper.columns if any(upper[column] > 0.5)]\n",
    "# Drop features\n",
    "\n",
    "if 'gender_M' in to_drop:\n",
    "    to_drop.remove('gender_M')\n",
    "\n",
    "if 'gender_F' in to_drop:\n",
    "    to_drop.remove('gender_F')\n",
    "\n",
    "new_selected_data = selected_data.drop(selected_data[to_drop], axis=1)\n",
    "\n",
    "new_selected_data.head()"
   ]
  },
  {
   "cell_type": "markdown",
   "metadata": {
    "colab_type": "text",
    "id": "aS-Fw7yCo1sg"
   },
   "source": [
    "# Data Modeling"
   ]
  },
  {
   "cell_type": "code",
   "execution_count": 27,
   "metadata": {
    "colab": {
     "base_uri": "https://localhost:8080/",
     "height": 68
    },
    "colab_type": "code",
    "executionInfo": {
     "elapsed": 35414,
     "status": "ok",
     "timestamp": 1598461037379,
     "user": {
      "displayName": "Nguyên Nguyễn",
      "photoUrl": "https://lh3.googleusercontent.com/a-/AOh14GiMHvxYop1LpkbTw_vqb4NBqwe2UWThSHl9_s48=s64",
      "userId": "12488776910510095947"
     },
     "user_tz": -420
    },
    "id": "V-Da1CGqpbYT",
    "outputId": "8797221d-a68c-471d-b907-bdfe103ba8b3"
   },
   "outputs": [
    {
     "name": "stdout",
     "output_type": "stream",
     "text": [
      "[16:56:49] WARNING: /workspace/src/objective/regression_obj.cu:152: reg:linear is now deprecated in favor of reg:squarederror.\n"
     ]
    },
    {
     "data": {
      "text/plain": [
       "array([3.6467578, 3.3426242, 3.6591835, ..., 3.437536 , 3.8267193,\n",
       "       3.829964 ], dtype=float32)"
      ]
     },
     "execution_count": 27,
     "metadata": {
      "tags": []
     },
     "output_type": "execute_result"
    }
   ],
   "source": [
    "# Drop rating feature and make it an output\n",
    "X = new_selected_data.drop(['rating'], axis = 1)\n",
    "Y = new_selected_data['rating']\n",
    "\n",
    "# Split train and test set\n",
    "X_train, X_test, y_train, y_test = train_test_split(X, Y, test_size = .2)\n",
    "\n",
    "# Use XGBoost regressor as a model\n",
    "model = XGBRegressor(max_depth = 10, n_estimators=500)\n",
    "model.fit(X_train, y_train)\n",
    "\n",
    "# Predict and assign it into y_pred\n",
    "y_pred = model.predict(X_test)\n",
    "y_pred"
   ]
  },
  {
   "cell_type": "markdown",
   "metadata": {
    "colab_type": "text",
    "id": "21nopxiQpxfG"
   },
   "source": [
    "# Evaluation"
   ]
  },
  {
   "cell_type": "code",
   "execution_count": 28,
   "metadata": {
    "colab": {
     "base_uri": "https://localhost:8080/",
     "height": 85
    },
    "colab_type": "code",
    "executionInfo": {
     "elapsed": 35391,
     "status": "ok",
     "timestamp": 1598461037380,
     "user": {
      "displayName": "Nguyên Nguyễn",
      "photoUrl": "https://lh3.googleusercontent.com/a-/AOh14GiMHvxYop1LpkbTw_vqb4NBqwe2UWThSHl9_s48=s64",
      "userId": "12488776910510095947"
     },
     "user_tz": -420
    },
    "id": "bHDxOdDsx1V_",
    "outputId": "e1c5d814-99ff-4e8d-b77c-44adba556b00"
   },
   "outputs": [
    {
     "name": "stdout",
     "output_type": "stream",
     "text": [
      "Mean Abs Error  MAE:  0.8859578493574916\n",
      "Mean Sq Error  MSE:  1.2017878127236712\n",
      "Root Mean Sq Error RMSE: 1.0962608324316212\n",
      "r2 value:  0.03471114087763272\n"
     ]
    }
   ],
   "source": [
    "# MAE\n",
    "print(\n",
    "    'Mean Abs Error  MAE: ',\n",
    "    metrics.mean_absolute_error(y_test, y_pred)\n",
    ")\n",
    "\n",
    "# MSE\n",
    "print(\n",
    "    'Mean Sq Error  MSE: ',\n",
    "    metrics.mean_squared_error(y_test, y_pred)\n",
    ")\n",
    "\n",
    "# RMSE\n",
    "print(\n",
    "    'Root Mean Sq Error RMSE:',\n",
    "    np.sqrt(metrics.mean_squared_error(y_test, y_pred))\n",
    ")\n",
    "\n",
    "# R2\n",
    "print(\n",
    "    'r2 value: ',\n",
    "    metrics.r2_score(y_test, y_pred)\n",
    ")"
   ]
  },
  {
   "cell_type": "code",
   "execution_count": 29,
   "metadata": {
    "colab": {
     "base_uri": "https://localhost:8080/",
     "height": 204
    },
    "colab_type": "code",
    "executionInfo": {
     "elapsed": 35366,
     "status": "ok",
     "timestamp": 1598461037381,
     "user": {
      "displayName": "Nguyên Nguyễn",
      "photoUrl": "https://lh3.googleusercontent.com/a-/AOh14GiMHvxYop1LpkbTw_vqb4NBqwe2UWThSHl9_s48=s64",
      "userId": "12488776910510095947"
     },
     "user_tz": -420
    },
    "id": "zXSpOQMYz5Nd",
    "outputId": "a70aa0a0-ee3f-484f-dd78-9748beb7bc87"
   },
   "outputs": [
    {
     "data": {
      "text/html": [
       "<div>\n",
       "<style scoped>\n",
       "    .dataframe tbody tr th:only-of-type {\n",
       "        vertical-align: middle;\n",
       "    }\n",
       "\n",
       "    .dataframe tbody tr th {\n",
       "        vertical-align: top;\n",
       "    }\n",
       "\n",
       "    .dataframe thead th {\n",
       "        text-align: right;\n",
       "    }\n",
       "</style>\n",
       "<table border=\"1\" class=\"dataframe\">\n",
       "  <thead>\n",
       "    <tr style=\"text-align: right;\">\n",
       "      <th></th>\n",
       "      <th>Test</th>\n",
       "      <th>Prediction</th>\n",
       "    </tr>\n",
       "  </thead>\n",
       "  <tbody>\n",
       "    <tr>\n",
       "      <th>8547</th>\n",
       "      <td>5</td>\n",
       "      <td>3.646758</td>\n",
       "    </tr>\n",
       "    <tr>\n",
       "      <th>4564</th>\n",
       "      <td>4</td>\n",
       "      <td>3.342624</td>\n",
       "    </tr>\n",
       "    <tr>\n",
       "      <th>24140</th>\n",
       "      <td>2</td>\n",
       "      <td>3.659184</td>\n",
       "    </tr>\n",
       "    <tr>\n",
       "      <th>23392</th>\n",
       "      <td>4</td>\n",
       "      <td>3.604869</td>\n",
       "    </tr>\n",
       "    <tr>\n",
       "      <th>28468</th>\n",
       "      <td>4</td>\n",
       "      <td>3.227617</td>\n",
       "    </tr>\n",
       "  </tbody>\n",
       "</table>\n",
       "</div>"
      ],
      "text/plain": [
       "       Test  Prediction\n",
       "8547      5    3.646758\n",
       "4564      4    3.342624\n",
       "24140     2    3.659184\n",
       "23392     4    3.604869\n",
       "28468     4    3.227617"
      ]
     },
     "execution_count": 29,
     "metadata": {
      "tags": []
     },
     "output_type": "execute_result"
    }
   ],
   "source": [
    "# prediction dataframe\n",
    "prediction_df = pd.DataFrame({'Test': y_test, 'Prediction': y_pred})\n",
    "prediction_df.head()"
   ]
  },
  {
   "cell_type": "code",
   "execution_count": 29,
   "metadata": {
    "colab": {},
    "colab_type": "code",
    "executionInfo": {
     "elapsed": 35337,
     "status": "ok",
     "timestamp": 1598461037382,
     "user": {
      "displayName": "Nguyên Nguyễn",
      "photoUrl": "https://lh3.googleusercontent.com/a-/AOh14GiMHvxYop1LpkbTw_vqb4NBqwe2UWThSHl9_s48=s64",
      "userId": "12488776910510095947"
     },
     "user_tz": -420
    },
    "id": "vfz3lAtY0mRp"
   },
   "outputs": [],
   "source": []
  }
 ],
 "metadata": {
  "accelerator": "GPU",
  "colab": {
   "authorship_tag": "ABX9TyPsfbJ7S/l6GE7CGvaFunlZ",
   "collapsed_sections": [],
   "mount_file_id": "1v1x35lk-NyqdV4Jyo8rfPdQf2K8r8IFh",
   "name": "movies.ipynb",
   "provenance": []
  },
  "kernelspec": {
   "display_name": "Python 3",
   "language": "python",
   "name": "python3"
  },
  "language_info": {
   "codemirror_mode": {
    "name": "ipython",
    "version": 3
   },
   "file_extension": ".py",
   "mimetype": "text/x-python",
   "name": "python",
   "nbconvert_exporter": "python",
   "pygments_lexer": "ipython3",
   "version": "3.7.6"
  }
 },
 "nbformat": 4,
 "nbformat_minor": 4
}
